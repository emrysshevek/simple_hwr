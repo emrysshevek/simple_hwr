{
 "cells": [
  {
   "cell_type": "code",
   "execution_count": 1,
   "metadata": {},
   "outputs": [
    {
     "name": "stdout",
     "output_type": "stream",
     "text": [
      "([0, 1, 2], [0, 1, 2], 0.8)\n"
     ]
    }
   ],
   "source": [
    "%reload_ext autoreload\n",
    "%autoreload 2\n",
    "\n",
    "from forbiddenfruit import curse\n",
    "import numpy as np\n",
    "\n",
    "def push_back(self, a):\n",
    "    self.append(a)\n",
    "#list.push_back = push_back\n",
    "\n",
    "def push_back(self, a):\n",
    "    self.insert(0,a)\n",
    "    \n",
    "curse(list, \"push_back\", push_back)\n",
    "\n",
    "\n",
    "# DTW each stroke iteratively\n",
    "# DTW until stroke+1 is chosen\n",
    "    # stroke + i is the min of stroke/reverse stroke\n",
    "    # check whether the stroke or reverse stroke does better\n",
    "INFINITY = 1000\n",
    "\n",
    "def euclidean_distance(a, b):\n",
    "    d = 0\n",
    "    a = np.asarray([a])\n",
    "    b = np.asarray([b])\n",
    "    #print(a.shape,b)\n",
    "    for i in range(a.shape[0]):\n",
    "        tmp = a[i] - b[i]\n",
    "        d += tmp * tmp\n",
    "    return np.sqrt(d)\n",
    "\n",
    "def d_argmin(a, b, c):\n",
    "    if a <= b and a <= c:\n",
    "        return 0\n",
    "    elif b <= c:\n",
    "        return 1\n",
    "    else:\n",
    "        return 2\n",
    "\n",
    "def d_min(a, b, c):\n",
    "    if a < b and a < c:\n",
    "        return a\n",
    "    elif b < c:\n",
    "        return b\n",
    "    else:\n",
    "        return c\n",
    "\n",
    "def refill_cost_matrix(a, b, cost_mat, start_a, end_a, start_b, end_b, constraint, dist_func=euclidean_distance):\n",
    "    # Include some buffer beyond just the strokes being flipped\n",
    "    # To get improvement, compare the cost at this point before and after\n",
    "    #cost_mat = np.empty((a.shape[0] + 1, b.shape[0] + 1), dtype=np.float64)\n",
    "    #cost_mat[:] = INFINITY\n",
    "    #cost_mat[0, 0] = 0\n",
    "    for i in range(start_a+1, end_a+1):\n",
    "        for j in range(max(start_b+1, i-constraint), min(end_b+1, i+constraint+1)):\n",
    "            cost_mat[i, j] = dist_func(a[i - 1], b[j - 1]) +\\\n",
    "                d_min(cost_mat[i - 1, j], cost_mat[i, j - 1], cost_mat[i - 1, j - 1])\n",
    "\n",
    "    return cost_mat[1:, 1:]\n",
    "\n",
    "\n",
    "def traceback_partial(cost_mat, ilen, jlen, )\n",
    "\n",
    "def create_cost_mat_2d(a,b,constraint, dist_func=euclidean_distance):\n",
    "    cost_mat = np.empty((a.shape[0] + 1, b.shape[0] + 1), dtype=np.float64)\n",
    "    cost_mat[:] = INFINITY\n",
    "    cost_mat[0, 0] = 0\n",
    "    for i in range(1, cost_mat.shape[0]):\n",
    "        for j in range(max(1, i-constraint), min(cost_mat.shape[1], i+constraint+1)):\n",
    "            cost_mat[i, j] = dist_func(a[i - 1], b[j - 1]) +\\\n",
    "                d_min(cost_mat[i - 1, j], cost_mat[i, j - 1], cost_mat[i - 1, j - 1])\n",
    "\n",
    "    return cost_mat[1:, 1:]\n",
    "    \n",
    "def traceback(cost_mat, ilen, jlen):\n",
    "    cost = 0.0\n",
    "    i = ilen - 1\n",
    "    j = jlen - 1\n",
    "#     cdef vector[int] a\n",
    "#     cdef vector[int] b\n",
    "#     a.push_back(i)\n",
    "#     b.push_back(j)\n",
    "\n",
    "    a = []\n",
    "    b = []\n",
    "    a.append(i)\n",
    "    b.append(j)\n",
    "    #cdef int match\n",
    "    while (i > 0 or j > 0):\n",
    "        match = d_argmin(cost_mat[i - 1, j - 1], cost_mat[i - 1, j], cost_mat[i, j - 1])\n",
    "        if match == 0:\n",
    "            i -= 1\n",
    "            j -= 1\n",
    "            cost += cost_mat[i - 1, j - 1]\n",
    "        elif match == 1:\n",
    "            i -= 1\n",
    "            cost += cost_mat[i - 1, j]\n",
    "        else:\n",
    "            j -= 1\n",
    "            cost += cost_mat[i, j - 1]\n",
    "        a.push_back(i)\n",
    "        b.push_back(j)\n",
    "    return a, b, cost\n",
    "\n",
    "\n",
    "np.set_printoptions(suppress=True)\n",
    "    \n",
    "x1 = np.array([1,2.0,3])\n",
    "x2 = np.array([1,1.2,3])\n",
    "mat = create_cost_mat_2d(x1,x2,constraint=5)\n",
    "r = traceback(mat, x1.shape[0], x2.shape[0])\n",
    "print(r)\n",
    "\n",
    "if False:\n",
    "    x1 = np.array([1,2.9,2.9,3])\n",
    "    x2 = np.array([1.1,1.2,1.4,3])\n",
    "    mat = create_cost_mat_2d(x1,x2,constraint=5)\n",
    "    print(mat)\n",
    "    traceback(mat, x1.shape[0], x2.shape[0])\n",
    "\n",
    "# [0 0 0 1 2 3]\n",
    "# [0 1 2 3 3 3]\n",
    "\n"
   ]
  },
  {
   "cell_type": "code",
   "execution_count": 2,
   "metadata": {},
   "outputs": [],
   "source": [
    "def d_min(a, b, c):\n",
    "    if a < b and a < c:\n",
    "        return a\n",
    "    elif b < c:\n",
    "        return b\n",
    "    else:\n",
    "        return c\n"
   ]
  },
  {
   "cell_type": "code",
   "execution_count": 3,
   "metadata": {},
   "outputs": [
    {
     "name": "stdout",
     "output_type": "stream",
     "text": [
      "(<MemoryView of 'ndarray' at 0x7f35705f76c0>, 26.5, [0, 1, 1, 1, 1, 1, 1, 1], [0, 1, 2, 3, 4, 5, 6, 7])\n",
      "(<MemoryView of 'ndarray' at 0x7f35705f7860>, 26.5, [0, 1, 2, 3, 4, 5, 6, 7], [0, 1, 1, 1, 1, 1, 1, 1])\n",
      "(<MemoryView of 'ndarray' at 0x7f35705f76c0>, 26.5, [0, 1, 1, 1, 1, 1, 1, 1], [0, 1, 2, 3, 4, 5, 6, 7])\n",
      "(<MemoryView of 'ndarray' at 0x7f35705f7860>, 26.5, [0, 1, 2, 3, 4, 5, 6, 7], [0, 1, 1, 1, 1, 1, 1, 1])\n",
      "[[   0.1    0.3]\n",
      " [   1.9    1.8]\n",
      " [   3.7    3.5]\n",
      " [   5.6    5.3]\n",
      " [   9.5    9.1]\n",
      " [  14.4   13.9]\n",
      " [1000.    19.7]\n",
      " [1000.  1000. ]]\n",
      "([0, 1, 2, 3, 4, 5, 6, 7], [0, 1, 1, 1, 1, 1, 1, 1], 1033.9)\n",
      "[[   0.1    1.9    3.7    5.6    9.5   14.4 1000.  1000. ]\n",
      " [   0.3    1.8    3.5    5.3    9.1   13.9   19.7 1000. ]]\n",
      "([0, 1, 1, 1, 1, 1, 1, 1], [0, 1, 2, 3, 4, 5, 6, 7], 1033.9)\n"
     ]
    },
    {
     "name": "stderr",
     "output_type": "stream",
     "text": [
      "<ipython-input-3-204019ece499>:7: UserWarning: Constraint 2 too small for sequences length 2 and 8; using 7\n",
      "  x = constrained_dtw1d(x2,x1,2)\n",
      "<ipython-input-3-204019ece499>:9: UserWarning: Constraint 2 too small for sequences length 8 and 2; using 7\n",
      "  x = constrained_dtw1d(x1,x2,2)\n"
     ]
    }
   ],
   "source": [
    "from pydtw import *\n",
    "# from taylor_dtw.custom_dtw import *\n",
    "\n",
    "x1 = np.array([1,2.9,2.9,3,5,6,7,8])\n",
    "x2 = np.array([1.1,1.2])\n",
    "\n",
    "x = constrained_dtw1d(x2,x1,2)\n",
    "print(x)\n",
    "x = constrained_dtw1d(x1,x2,2)\n",
    "print(x)\n",
    "x = dtw1d(x2,x1)\n",
    "print(x)\n",
    "x = dtw1d(x1,x2)\n",
    "print(x)\n",
    "\n",
    "\n",
    "mat = create_cost_mat_2d(x1,x2,constraint=5)\n",
    "print(mat)\n",
    "print(traceback(mat, len(x1), len(x2)))\n",
    "mat = create_cost_mat_2d(x2,x1,constraint=5)\n",
    "print(mat)\n",
    "print(traceback(mat, len(x2), len(x1)))"
   ]
  },
  {
   "cell_type": "code",
   "execution_count": null,
   "metadata": {},
   "outputs": [],
   "source": []
  },
  {
   "cell_type": "code",
   "execution_count": 4,
   "metadata": {},
   "outputs": [
    {
     "name": "stdout",
     "output_type": "stream",
     "text": [
      "[[0.1 0.3 0.7 2.7]\n",
      " [1.9 1.8 1.8 0.8]\n",
      " [3.7 3.5 3.3 0.9]\n",
      " [5.6 5.3 4.9 0.9]]\n"
     ]
    }
   ],
   "source": [
    "x1 = np.array([1,2.9,2.9,3])\n",
    "x2 = np.array([1.1,1.2,1.4,3])\n",
    "mat = create_cost_mat_2d(x1,x2,constraint=50000000)\n",
    "print(mat)\n"
   ]
  },
  {
   "cell_type": "code",
   "execution_count": 5,
   "metadata": {},
   "outputs": [
    {
     "name": "stdout",
     "output_type": "stream",
     "text": [
      "1.9000000000000001 1.9000000000000001\n",
      "[0, 0, 1, 2, 3] [0, 1, 2, 3, 3]\n",
      "[[0.1 0.3 inf inf]\n",
      " [1.9 1.8 1.8 inf]\n",
      " [inf 3.5 3.3 1.9]\n",
      " [inf inf 4.9 1.9]]\n"
     ]
    }
   ],
   "source": [
    "import numpy as np\n",
    "#from pydtw import *\n",
    "x1 = np.array([1,2.9,2.9,3])\n",
    "x2 = np.array([1.1,1.2,1.4,3])\n",
    "\n",
    "#constrained_dtw1d(x1,x2,10)\n",
    "f, cost, a, b = dtw1d(x1,x2)\n",
    "print(np.sum(np.abs(x1[a]-x2[b])), cost)\n",
    "print(a, b)\n",
    "print(np.asarray(f))"
   ]
  },
  {
   "cell_type": "code",
   "execution_count": 6,
   "metadata": {},
   "outputs": [
    {
     "name": "stdout",
     "output_type": "stream",
     "text": [
      "[[0.  0.2 2.2]\n",
      " [1.  0.8 1.2]\n",
      " [3.  2.6 0.8]]\n"
     ]
    }
   ],
   "source": [
    "x1 = np.array([1,2.0,3])\n",
    "x2 = np.array([1,1.2,3])\n",
    "mat = create_cost_mat_2d(x1,x2, constraint=10)\n",
    "dist, cost, a, b = dtw1d(x1, x2, )\n",
    "print(mat)"
   ]
  },
  {
   "cell_type": "code",
   "execution_count": 7,
   "metadata": {},
   "outputs": [],
   "source": [
    "%reload_ext autoreload\n",
    "%autoreload 2\n",
    "\n",
    "import sys\n",
    "sys.path.append(\"../../\")\n",
    "sys.path.append(\"../\")\n",
    "sys.path.append(\"/media/data/GitHub/simple_hwr\")\n",
    "import os\n",
    "import numpy as np\n",
    "from hwr_utils import *\n",
    "from hwr_utils.stroke_plotting import *\n",
    "from hwr_utils.stroke_recovery import get_number_of_stroke_pts_from_gt\n",
    "from hwr_utils.stroke_recovery import *\n",
    "import json\n",
    "from matplotlib import pyplot as plt"
   ]
  },
  {
   "cell_type": "code",
   "execution_count": 8,
   "metadata": {},
   "outputs": [],
   "source": []
  },
  {
   "cell_type": "code",
   "execution_count": 128,
   "metadata": {},
   "outputs": [],
   "source": [
    "def process(gt, gt_next, pred, str_len, window_size=window):\n",
    "    \"\"\" Match the GT stroke + a few more strokes\n",
    "        Get last match to GT stroke\n",
    "        \n",
    "        \n",
    "        gt_next: next stroke\n",
    "    \"\"\"\n",
    "    _comb = np.concatenate([gt, gt_next], axis=0)\n",
    "    #print(\"combined\", _comb, pred)\n",
    "    f, costr, a, b = constrained_dtw1d(_comb,pred, window_size)\n",
    "    #print(a,b)\n",
    "    #print(\"GT\", _comb[a])\n",
    "    #print(\"Pred\", pred[b])\n",
    "    dist = np.sum(abs(_comb[a]-pred[b]))\n",
    "    return dist, a, b\n",
    "    \n",
    "\n",
    "\n",
    "def DTW(gt, preds,window=5):\n",
    "    gt_1d = gt[:,0].copy(order='C')\n",
    "    preds_1d = preds[:,0].copy(order='C')\n",
    "\n",
    "    gt_stroke_lens = get_number_of_stroke_pts_from_gt(gt, stroke_numbers=False)\n",
    "    gt_stroke_lens = np.insert(gt_stroke_lens,0,0) # possibly swap first stroke\n",
    "\n",
    "    match_a = []\n",
    "    match_b = []\n",
    "    # Cython Function that takes exisiting distance matrix and only fills out the last bit\n",
    "\n",
    "    pos_gt = 0\n",
    "    pos_pred = 0\n",
    "\n",
    "    ## FIRST ATTEMPT AT MANUAL DTW MATCH\n",
    "    for i in range(len(gt_stroke_lens)):\n",
    "        next_stroke_length = gt_stroke_lens[i+1] if i+1<len(gt_stroke_lens) else 0\n",
    "        str_len = gt_stroke_lens[i]\n",
    "        temp_window = min(window, next_stroke_length)\n",
    "\n",
    "        end_gt, end_pred = pos_gt+str_len, pos_pred+str_len+temp_window\n",
    "        gt_next = gt_1d[end_gt:end_gt+next_stroke_length]\n",
    "        gt_stroke = gt_1d[pos_gt:end_gt]\n",
    "        pred_stroke = preds_1d[pos_pred:end_pred]    \n",
    "        #print(gt_stroke, gt_next, pred_stroke)\n",
    "        dist,a,b = process(gt_stroke,gt_next[:temp_window],pred_stroke,str_len,window)  \n",
    "        \n",
    "\n",
    "        if i < len(gt_stroke_lens)-1:\n",
    "            gtr_next=gt_next[::-1][:temp_window].copy(order='C')\n",
    "            distr,ar,br = process(gt_stroke,gtr_next,pred_stroke,str_len,temp_window)   \n",
    "            # Invert the next stroke\n",
    "            #print(\"LOSS\", dist, distr)\n",
    "            if distr<dist:\n",
    "                #print(\"REVERSE REVERSE!\")\n",
    "                gt_1d[end_gt:end_gt+next_stroke_length] = gtr_next\n",
    "                a,b = ar, br\n",
    "\n",
    "            #print(\"A\", a)\n",
    "            #print(\"B\", b)\n",
    "\n",
    "\n",
    "\n",
    "            if i>0: # first one doesn't save alignment\n",
    "                last_stroke_idx_a = len(a) - 1 - np.argmax(a[::-1]==str_len) # how far to go in the alignment list\n",
    "                # -1 because 0 indexing; 10 - np.argmax(np.array([5]*10)[::-1]==5) - 1\n",
    "                #print(\"How far to go in alignment list\", last_stroke_idx_a)\n",
    "                pos_pred_update = b[last_stroke_idx_a] # how far the pred matches\n",
    "                #print(\"How far the pred matches\", pos_pred_update)\n",
    "                #print(\"How far the gt matches (by def)\", str_len)\n",
    "\n",
    "                match_a += [x+pos_gt   for x in   a[:last_stroke_idx_a]]\n",
    "                match_b += [x+pos_pred for x in b[:last_stroke_idx_a]]\n",
    "                pos_gt += str_len\n",
    "                pos_pred += pos_pred_update\n",
    "        else:\n",
    "            match_a += [x+pos_gt   for x in a]\n",
    "            match_b += [x+pos_pred for x in b]\n",
    "\n",
    "#         print(\"MATCH A:\", match_a)\n",
    "#         print(\"MATCH B:\", match_b)\n",
    "#         print(\"NEW POS:\", pos_gt, pos_pred)\n",
    "#     print(gt_1d)\n"
   ]
  },
  {
   "cell_type": "code",
   "execution_count": 129,
   "metadata": {},
   "outputs": [
    {
     "name": "stdout",
     "output_type": "stream",
     "text": [
      "[[ 0.  1.  1.  3.]\n",
      " [ 4.  5.  0.  7.]\n",
      " [ 8.  9.  0. 11.]\n",
      " [12. 13.  1. 15.]\n",
      " [16. 17.  0. 19.]\n",
      " [20. 21.  1. 23.]\n",
      " [24. 25.  1. 27.]\n",
      " [28. 29.  0. 31.]\n",
      " [32. 33.  0. 35.]]\n",
      "[0 3 2 1 3]\n",
      "[[ 8.  9.  1.  3.]\n",
      " [ 4.  5.  0.  7.]\n",
      " [ 0.  1.  0. 11.]\n",
      " [12. 13.  1. 15.]\n",
      " [16. 17.  0. 19.]\n",
      " [20. 21.  1. 23.]\n",
      " [21. 21.  1. 23.]\n",
      " [32. 33.  1. 27.]\n",
      " [28. 29.  0. 31.]\n",
      " [24. 25.  0. 35.]]\n"
     ]
    }
   ],
   "source": [
    "gt = np.array(range(36)).reshape(9,4).astype(np.float64)\n",
    "gt[:,2] = [1,0,0,1,0,1,1,0,0]\n",
    "preds = [[8, 9, 1, 3], [4, 5, 0, 7], [0, 1, 0, 11], [12, 13, 1, 15], [16, 17, 0, 19], [20, 21, 1, 23], [32, 33, 1, 27], [28, 29, 0, 31], [24, 25, 0, 35]]\n",
    "preds = [[8, 9, 1, 3], [4, 5, 0, 7], [0, 1, 0, 11], [12, 13, 1, 15], [16, 17, 0, 19], [20, 21, 1, 23], [21, 21, 1, 23], [32, 33, 1, 27], [28, 29, 0, 31], [24, 25, 0, 35]]\n",
    "preds = np.asarray(preds).astype(np.float64)\n",
    "\n",
    "pos_gt = 0\n",
    "pos_pred = 0\n",
    "\n",
    "print(gt)\n",
    "print(gt_stroke_lens)\n",
    "print(preds)\n",
    "\n",
    "DTW(gt, preds, window = 5)"
   ]
  },
  {
   "cell_type": "code",
   "execution_count": 10,
   "metadata": {},
   "outputs": [
    {
     "ename": "IndentationError",
     "evalue": "expected an indented block (<ipython-input-10-7418267b8e6d>, line 5)",
     "output_type": "error",
     "traceback": [
      "\u001b[0;36m  File \u001b[0;32m\"<ipython-input-10-7418267b8e6d>\"\u001b[0;36m, line \u001b[0;32m5\u001b[0m\n\u001b[0;31m    f, cost, a, b = constrained_dtw1d(gt,pred, window=20)\u001b[0m\n\u001b[0m    ^\u001b[0m\n\u001b[0;31mIndentationError\u001b[0m\u001b[0;31m:\u001b[0m expected an indented block\n"
     ]
    }
   ],
   "source": [
    "def find_worst_strokes(gt, pred, a, b):\n",
    "\n",
    "    \n",
    "    \n",
    "f, cost, a, b = constrained_dtw1d(gt,pred, window=20)\n"
   ]
  },
  {
   "cell_type": "code",
   "execution_count": null,
   "metadata": {},
   "outputs": [],
   "source": [
    "import numpy as np\n",
    "from matplotlib import pyplot as plt\n",
    "max_width = 8\n",
    "\n",
    "t = []\n",
    "for i in range(10000):\n",
    "    #x = min(max(int(abs(np.random.exponential()) * (max_width) * .2 + 2), 1), max_width)\n",
    "    x = min(max(int(abs(np.random.randn()) * (max_width - 1) * .5 + 1), 1),max_width)\n",
    "    #x = min(max(int(abs(np.random.beta(2,5)) * max_width + 1), 1),max_width)\n",
    "\n",
    "    t.append(x)\n",
    "\n",
    "plt.hist(t)"
   ]
  },
  {
   "cell_type": "code",
   "execution_count": null,
   "metadata": {},
   "outputs": [],
   "source": [
    "import numpy as np\n",
    "from matplotlib import pyplot as plt\n",
    "max_width = 8\n",
    "\n",
    "t = []\n",
    "for i in range(10000):\n",
    "    #x = min(max(int(abs(np.random.exponential()) * (max_width) * .2 + 2), 1), max_width)\n",
    "    #x = min(max(int(abs(np.random.randn()) * (max_width - 1) * .5 + 1), 1),max_width)\n",
    "    x = min(max(int(abs(np.random.beta(2,4)) * max_width + .8), 1),max_width)\n",
    "\n",
    "    t.append(x)\n",
    "\n",
    "plt.hist(t)"
   ]
  },
  {
   "cell_type": "code",
   "execution_count": 114,
   "metadata": {},
   "outputs": [
    {
     "data": {
      "text/plain": [
       "9"
      ]
     },
     "execution_count": 114,
     "metadata": {},
     "output_type": "execute_result"
    }
   ],
   "source": []
  },
  {
   "cell_type": "code",
   "execution_count": null,
   "metadata": {},
   "outputs": [],
   "source": []
  }
 ],
 "metadata": {
  "kernelspec": {
   "display_name": "hwr",
   "language": "python",
   "name": "hwr"
  },
  "language_info": {
   "codemirror_mode": {
    "name": "ipython",
    "version": 3
   },
   "file_extension": ".py",
   "mimetype": "text/x-python",
   "name": "python",
   "nbconvert_exporter": "python",
   "pygments_lexer": "ipython3",
   "version": "3.8.1"
  }
 },
 "nbformat": 4,
 "nbformat_minor": 2
}
