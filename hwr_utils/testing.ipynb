{
 "cells": [
  {
   "cell_type": "code",
   "execution_count": 4,
   "metadata": {
    "collapsed": true
   },
   "outputs": [],
   "source": [
    "%reload_ext autoreload\n",
    "%autoreload 2\n",
    "\n",
    "import os, sys\n",
    "sys.path.append(\"..\")\n",
    "#sys.path.append(\"../models\")\n",
    "import torch\n",
    "from models.basic import CNN, BidirectionalRNN\n",
    "from models.stroke_recovery_loss import StrokeLoss\n",
    "from torch import nn\n"
   ]
  },
  {
   "cell_type": "code",
   "execution_count": 18,
   "metadata": {},
   "outputs": [
    {
     "name": "stdout",
     "output_type": "stream",
     "text": [
      "Intermediate pass None\n"
     ]
    },
    {
     "data": {
      "text/plain": [
       "{400: 404,\n",
       " 401: 404,\n",
       " 402: 406,\n",
       " 403: 406,\n",
       " 404: 408,\n",
       " 405: 408,\n",
       " 406: 410,\n",
       " 407: 410,\n",
       " 408: 412,\n",
       " 409: 412,\n",
       " 410: 414,\n",
       " 411: 414,\n",
       " 412: 416,\n",
       " 413: 416,\n",
       " 414: 418,\n",
       " 415: 418,\n",
       " 416: 420,\n",
       " 417: 420,\n",
       " 418: 422,\n",
       " 419: 422,\n",
       " 420: 424,\n",
       " 421: 424,\n",
       " 422: 426,\n",
       " 423: 426,\n",
       " 424: 428,\n",
       " 425: 428,\n",
       " 426: 430,\n",
       " 427: 430,\n",
       " 428: 432,\n",
       " 429: 432,\n",
       " 430: 434,\n",
       " 431: 434,\n",
       " 432: 436,\n",
       " 433: 436,\n",
       " 434: 438,\n",
       " 435: 438,\n",
       " 436: 440,\n",
       " 437: 440,\n",
       " 438: 442,\n",
       " 439: 442,\n",
       " 440: 444,\n",
       " 441: 444,\n",
       " 442: 446,\n",
       " 443: 446,\n",
       " 444: 448,\n",
       " 445: 448,\n",
       " 446: 450,\n",
       " 447: 450,\n",
       " 448: 452,\n",
       " 449: 452,\n",
       " 450: 454,\n",
       " 451: 454,\n",
       " 452: 456,\n",
       " 453: 456,\n",
       " 454: 458,\n",
       " 455: 458,\n",
       " 456: 460,\n",
       " 457: 460,\n",
       " 458: 462,\n",
       " 459: 462,\n",
       " 460: 464,\n",
       " 461: 464,\n",
       " 462: 466,\n",
       " 463: 466,\n",
       " 464: 468,\n",
       " 465: 468,\n",
       " 466: 470,\n",
       " 467: 470,\n",
       " 468: 472,\n",
       " 469: 472,\n",
       " 470: 474,\n",
       " 471: 474,\n",
       " 472: 476,\n",
       " 473: 476,\n",
       " 474: 478,\n",
       " 475: 478,\n",
       " 476: 480,\n",
       " 477: 480,\n",
       " 478: 482,\n",
       " 479: 482,\n",
       " 480: 484,\n",
       " 481: 484,\n",
       " 482: 486,\n",
       " 483: 486,\n",
       " 484: 488,\n",
       " 485: 488,\n",
       " 486: 490,\n",
       " 487: 490,\n",
       " 488: 492,\n",
       " 489: 492,\n",
       " 490: 494,\n",
       " 491: 494,\n",
       " 492: 496,\n",
       " 493: 496,\n",
       " 494: 498,\n",
       " 495: 498,\n",
       " 496: 500,\n",
       " 497: 500,\n",
       " 498: 502,\n",
       " 499: 502}"
      ]
     },
     "execution_count": 18,
     "metadata": {},
     "output_type": "execute_result"
    }
   ],
   "source": [
    "cnn = CNN(nc=1, cnn_type=\"default64\")\n",
    "\n",
    "\n",
    "def calculate_output_size(data, cnn):\n",
    "    \"\"\" For each possible width, calculate the CNN output width\n",
    "    Args:\n",
    "        data:\n",
    "\n",
    "    Returns:\n",
    "\n",
    "    \"\"\"\n",
    "    all_possible_widths = set()\n",
    "    for i in data:\n",
    "        all_possible_widths.add(i)\n",
    "\n",
    "    width_to_output_mapping={}\n",
    "    for i in all_possible_widths:\n",
    "        t = torch.zeros(1, 1, 32, i)\n",
    "        shape = cnn(t).shape\n",
    "        width_to_output_mapping[i] = shape[0]\n",
    "    return width_to_output_mapping\n",
    "    \n",
    "data = range(400,500)\n",
    "\n",
    "calculate_output_size(data, cnn)\n"
   ]
  },
  {
   "cell_type": "code",
   "execution_count": 23,
   "metadata": {},
   "outputs": [
    {
     "name": "stdout",
     "output_type": "stream",
     "text": [
      "start magic\n",
      "normal call\n",
      "end magic\n"
     ]
    }
   ],
   "source": [
    "class Test(object):\n",
    "    def init( self ):\n",
    "        pass\n",
    "\n",
    "    def _decorator(foo):\n",
    "        def magic( self ) :\n",
    "            print(\"start magic\")\n",
    "            foo( self )\n",
    "            print(\"end magic\")\n",
    "        return magic\n",
    "   \n",
    "    @_decorator\n",
    "    def bar( self ) :\n",
    "        print(\"normal call\")\n",
    "\n",
    "test = Test()\n",
    "\n",
    "test.bar()"
   ]
  },
  {
   "cell_type": "code",
   "execution_count": null,
   "metadata": {},
   "outputs": [],
   "source": []
  }
 ],
 "metadata": {
  "kernelspec": {
   "display_name": "hwr5",
   "language": "python",
   "name": "hwr5"
  },
  "language_info": {
   "codemirror_mode": {
    "name": "ipython",
    "version": 3
   },
   "file_extension": ".py",
   "mimetype": "text/x-python",
   "name": "python",
   "nbconvert_exporter": "python",
   "pygments_lexer": "ipython3",
   "version": "3.7.3"
  }
 },
 "nbformat": 4,
 "nbformat_minor": 2
}
