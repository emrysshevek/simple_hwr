{
 "cells": [
  {
   "cell_type": "code",
   "execution_count": 11,
   "metadata": {},
   "outputs": [
    {
     "name": "stdout",
     "output_type": "stream",
     "text": [
      "[0.         1.41421356 1.41421356 1.41421356 1.41421356 1.41421356\n",
      " 1.41421356 1.41421356 1.41421356 1.41421356]\n"
     ]
    },
    {
     "ename": "IndexError",
     "evalue": "arrays used as indices must be of integer (or boolean) type",
     "output_type": "error",
     "traceback": [
      "\u001b[0;31m---------------------------------------------------------------------------\u001b[0m",
      "\u001b[0;31mIndexError\u001b[0m                                Traceback (most recent call last)",
      "\u001b[0;32m<ipython-input-11-724b1cac45e3>\u001b[0m in \u001b[0;36m<module>\u001b[0;34m\u001b[0m\n\u001b[1;32m     47\u001b[0m \u001b[0mdistances\u001b[0m \u001b[0;34m=\u001b[0m \u001b[0mdistance_metric\u001b[0m\u001b[0;34m(\u001b[0m\u001b[0mx\u001b[0m\u001b[0;34m,\u001b[0m\u001b[0my\u001b[0m\u001b[0;34m)\u001b[0m\u001b[0;34m\u001b[0m\u001b[0;34m\u001b[0m\u001b[0m\n\u001b[1;32m     48\u001b[0m \u001b[0mprint\u001b[0m\u001b[0;34m(\u001b[0m\u001b[0mdistances\u001b[0m\u001b[0;34m)\u001b[0m\u001b[0;34m\u001b[0m\u001b[0;34m\u001b[0m\u001b[0m\n\u001b[0;32m---> 49\u001b[0;31m \u001b[0mprint\u001b[0m\u001b[0;34m(\u001b[0m\u001b[0mdistances\u001b[0m\u001b[0;34m[\u001b[0m\u001b[0mstart_strokes\u001b[0m\u001b[0;34m]\u001b[0m\u001b[0;34m)\u001b[0m\u001b[0;34m\u001b[0m\u001b[0;34m\u001b[0m\u001b[0m\n\u001b[0m\u001b[1;32m     50\u001b[0m \u001b[0mdistances\u001b[0m\u001b[0;34m[\u001b[0m\u001b[0mstart_strokes\u001b[0m\u001b[0;34m==\u001b[0m\u001b[0;36m1\u001b[0m\u001b[0;34m]\u001b[0m \u001b[0;34m=\u001b[0m \u001b[0;36m0\u001b[0m\u001b[0;34m\u001b[0m\u001b[0;34m\u001b[0m\u001b[0m\n\u001b[1;32m     51\u001b[0m \u001b[0mprint\u001b[0m\u001b[0;34m(\u001b[0m\u001b[0mdistances\u001b[0m\u001b[0;34m)\u001b[0m\u001b[0;34m\u001b[0m\u001b[0;34m\u001b[0m\u001b[0m\n",
      "\u001b[0;31mIndexError\u001b[0m: arrays used as indices must be of integer (or boolean) type"
     ]
    }
   ],
   "source": [
    "import numpy as np\n",
    "\n",
    "def distance_metric(x,y):\n",
    "    \"\"\" Euclidean distance metric between x and x-1; first item in stroke has distance of epsilon\n",
    "    Args:\n",
    "        x: array-like\n",
    "        y: array-like\n",
    "\n",
    "    Returns:\n",
    "\n",
    "    \"\"\"\n",
    "\n",
    "    output = np.zeros(x.size)\n",
    "    output[1:] = ((x[:-1] - x[1:]) ** 2 + (y[:-1] - y[1:]) ** 2) ** (1 / 2)\n",
    "    #output[0] = 1e-8\n",
    "    return output\n",
    "\n",
    "def reparameterize_as_func_of_distance(x,y,start_strokes):\n",
    "    \"\"\" Instead of time, re-parameterize entire sequence as distance travelled\n",
    "\n",
    "    Args:\n",
    "        x: List of x's\n",
    "        y: List of y's\n",
    "        start_strokes: List of start stroke identifiers [1,0,0,1...\n",
    "\n",
    "    Returns:\n",
    "        distance travelled for each complete stroke\n",
    "    \"\"\"\n",
    "    if isinstance(x, list):\n",
    "        x=np.array(x)\n",
    "    if isinstance(y, list):\n",
    "        y=np.array(y)\n",
    "\n",
    "    distances = distance_metric(x,y)\n",
    "    distances[start_strokes==1] = 0\n",
    "    cum_sum = np.cumsum(distances) # distance is 0 at first point; keeps length the same\n",
    "    return cum_sum\n",
    "\n",
    "\n",
    "x = np.array(range(0,10))\n",
    "y = x.copy()\n",
    "start_strokes = np.zeros(10)\n",
    "start_strokes[0] =1\n",
    "start_strokes[5] =1\n",
    "start_strokes[8] =1\n",
    "\n",
    "distances = distance_metric(x,y)\n",
    "print(distances)\n",
    "print(distances[start_strokes==1])\n",
    "distances[start_strokes==1] = 0\n",
    "print(distances)\n",
    "    \n",
    "reparameterize_as_func_of_distance(x,y,start_strokes)\n"
   ]
  },
  {
   "cell_type": "code",
   "execution_count": 12,
   "metadata": {},
   "outputs": [
    {
     "data": {
      "text/plain": [
       "array([ True, False, False, False, False,  True, False, False,  True,\n",
       "       False])"
      ]
     },
     "execution_count": 12,
     "metadata": {},
     "output_type": "execute_result"
    }
   ],
   "source": [
    "start_strokes==1"
   ]
  },
  {
   "cell_type": "code",
   "execution_count": null,
   "metadata": {},
   "outputs": [],
   "source": []
  }
 ],
 "metadata": {
  "kernelspec": {
   "display_name": "hwr5",
   "language": "python",
   "name": "hwr5"
  },
  "language_info": {
   "codemirror_mode": {
    "name": "ipython",
    "version": 3
   },
   "file_extension": ".py",
   "mimetype": "text/x-python",
   "name": "python",
   "nbconvert_exporter": "python",
   "pygments_lexer": "ipython3",
   "version": "3.7.3"
  }
 },
 "nbformat": 4,
 "nbformat_minor": 2
}
