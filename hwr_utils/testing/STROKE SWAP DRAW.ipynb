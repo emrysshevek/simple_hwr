{
 "cells": [
  {
   "cell_type": "code",
   "execution_count": 1,
   "metadata": {},
   "outputs": [
    {
     "name": "stdout",
     "output_type": "stream",
     "text": [
      "/media/data/GitHub/simple_hwr/hwr_utils/testing\n"
     ]
    }
   ],
   "source": [
    "%reload_ext autoreload\n",
    "%autoreload 2\n",
    "\n",
    "import sys\n",
    "sys.path.append(\"../../\")\n",
    "sys.path.append(\"../\")\n",
    "import os\n",
    "print(os.getcwd())\n",
    "from models.basic import CNN\n",
    "import os\n",
    "os.environ[\"CUDA_VISIBLE_DEVICES\"]=\"0\"\n",
    "\n",
    "# width_to_output_mapping = {}\n",
    "# device = \"cuda\"\n",
    "\n",
    "# cnn = CNN(nc=1, cnn_type=\"default64\", first_conv_opts=None)\n",
    "# cnn.to(device)\n",
    "# for width in range(233,240):\n",
    "#     try:\n",
    "#         t = torch.zeros(1, 1, 32, width).to(device)\n",
    "#     except:\n",
    "#         device = \"cpu\"\n",
    "#         t = torch.zeros(1, 1, 32, width).to(device)\n",
    "\n",
    "#     shape = cnn(t).shape\n",
    "#     width_to_output_mapping[width] = shape[0]\n",
    "    "
   ]
  },
  {
   "cell_type": "code",
   "execution_count": 2,
   "metadata": {},
   "outputs": [
    {
     "name": "stdout",
     "output_type": "stream",
     "text": [
      "/media/data/GitHub/simple_hwr/hwr_utils/testing\n",
      "../../data/online_coordinate_data/MAX_stroke_vTEST_AUGMENTFull/test_online_coords.json\n",
      "Loading .npy version\n"
     ]
    },
    {
     "name": "stderr",
     "output_type": "stream",
     "text": [
      "INFO:root.hwr_utils.stroke_dataset:('Original dataloader size', 501)\n",
      "INFO:root.hwr_utils.stroke_dataset:('Dataloader size', 500)\n",
      "../../hwr_utils/stroke_dataset.py:201: UserWarning: UNK NUMBER OF SAMPLES!!!\n",
      "  warnings.warn(\"UNK NUMBER OF SAMPLES!!!\")\n"
     ]
    },
    {
     "name": "stdout",
     "output_type": "stream",
     "text": [
      "(544, 4)\n"
     ]
    }
   ],
   "source": [
    "import tempfile\n",
    "from pathlib import Path\n",
    "import numpy as np\n",
    "from torch.utils.data import DataLoader\n",
    "from models.basic import CNN, BidirectionalRNN\n",
    "from torch import nn\n",
    "from loss_module.stroke_recovery_loss import StrokeLoss\n",
    "import torch\n",
    "from models.CoordConv import CoordConv\n",
    "from trainers import TrainerStrokeRecovery\n",
    "from hwr_utils.stroke_dataset import StrokeRecoveryDataset, read_img\n",
    "from hwr_utils.stroke_recovery import *\n",
    "from hwr_utils import utils, stroke_recovery\n",
    "from torch.optim import lr_scheduler\n",
    "from timeit import default_timer as timer\n",
    "from train_stroke_recovery import graph\n",
    "from hwr_utils.distortions import *\n",
    "from hwr_utils.stroke_plotting import *\n",
    "\n",
    "## DRAW THE IMAGE\n",
    "#Pillow-simd\n",
    "\n",
    "from PIL import Image, ImageDraw\n",
    "\n",
    "def loader():\n",
    "    folder = Path(\"online_coordinate_data/3_stroke_vSmall\")\n",
    "    folder = Path(\"online_coordinate_data/8_stroke_vSmall_16\")\n",
    "    folder = Path(\"online_coordinate_data/MAX_stroke_vTEST_AUGMENTFull\")\n",
    "\n",
    "    print(os.getcwd())\n",
    "    x_relative_positions = True\n",
    "    test_size = 500\n",
    "    train_size = None\n",
    "    batch_size=8\n",
    "    #gt_format = [\"x\",\"y\",\"stroke_number\",\"eos\"]\n",
    "    gt_format = [\"x\",\"y\",\"sos\",\"eos\"]\n",
    "\n",
    "    test_dataset=StrokeRecoveryDataset([folder / \"test_online_coords.json\"],\n",
    "                            img_height = 61,\n",
    "                            num_of_channels = 1.,\n",
    "                            max_images_to_load = test_size,\n",
    "                            root=r\"../../data\",\n",
    "                            cnn=None,\n",
    "                            gt_format=gt_format,\n",
    "                            )\n",
    "\n",
    "    test_dataloader = DataLoader(test_dataset,\n",
    "                                  batch_size=batch_size,\n",
    "                                  shuffle=True,\n",
    "                                  num_workers=3,\n",
    "                                  collate_fn=test_dataset.collate,\n",
    "                                  pin_memory=False)\n",
    "\n",
    "    device=\"cuda\"\n",
    "    globals().update(locals())\n",
    "    return test_dataloader\n",
    "\n",
    "def reload_and_get_new_example():\n",
    "    test_dataloader = loader()\n",
    "    return next(iter(test_dataloader))\n",
    "\n",
    "def get_instance():\n",
    "#     if not 'test_dataloader' in globals():\n",
    "#         test_dataloader = loader()\n",
    "    example = next(iter(test_dataloader)) # BATCH, WIDTH, VOCAB\n",
    "    instance = example[\"gt_list\"][0].numpy()\n",
    "    return instance, example\n",
    "\n",
    "def test_drawing():\n",
    "    instance, example = get_instance()\n",
    "    \n",
    "    draw_from_gt(instance)\n",
    "    draw_from_raw(gt_to_raw(instance))\n",
    "\n",
    "loader()\n",
    "#test_drawing()\n",
    "\n",
    "# example = next(iter(test_dataloader)) # BATCH, WIDTH, VOCAB\n",
    "# instance = example[\"gt_list\"][0].numpy()\n",
    "instance, example = get_instance()\n",
    "\n",
    "print(instance.shape)\n",
    "#swap_strokes_left()"
   ]
  },
  {
   "cell_type": "code",
   "execution_count": null,
   "metadata": {},
   "outputs": [],
   "source": [
    "\n",
    "\n"
   ]
  },
  {
   "cell_type": "code",
   "execution_count": 16,
   "metadata": {},
   "outputs": [],
   "source": [
    "# What if we only target i's?\n",
    "    # Very short strokes\n",
    "    # Swap over if the furtherest left stroke of next stroke is further right than the current one\n",
    "\n",
    "def test_drawing_swaps(gt):\n",
    "    print(gt.shape)\n",
    "    data = draw_from_gt(gt, show=False, right_padding=\"random\", color=(0,0,0), linewidth=1, use_stroke_number=False)[::-1]\n",
    "    img = Image.fromarray(data, \"RGB\")\n",
    "    #img.show()\n",
    "\n",
    "    # Create an image\n",
    "    swapped_strokes = Image.new(\"RGB\", (data.shape[:2][::-1]), (255, 255, 255))\n",
    "    swapped_strokes.paste(img)\n",
    "    draw = ImageDraw.Draw(swapped_strokes)\n",
    "\n",
    "    new_gt = swap_strokes_left(gt, stroke_numbers=False)\n",
    "\n",
    "    new_gt_pil = list(gt_to_pil(new_gt*61, stroke_number=False))\n",
    "    gt_pil = list(gt_to_pil(gt*61, stroke_number=False))\n",
    "\n",
    "    #print(len(gt_pil))\n",
    "    #STop\n",
    "    show=False\n",
    "    for i in range(len(new_gt_pil)):\n",
    "        if len(gt_pil[i]) != len(new_gt_pil[i]) or not np.allclose(gt_pil[i], new_gt_pil[i]):\n",
    "            draw.line(gt_pil[i], fill=(0,0,255), width=2)\n",
    "            draw.line(new_gt_pil[i], fill=(0,255,0), width=2)\n",
    "            draw_ellipse(gt_pil[i], draw, color=(0,0,255), width=2)\n",
    "            draw_ellipse(new_gt_pil[i], draw, color=(0,255,0), width=1)\n",
    "\n",
    "            \n",
    "            show=True\n",
    "            break\n",
    "    if show:\n",
    "        Image.fromarray((np.array(swapped_strokes)[::-1]), \"RGB\").show()\n",
    "\n",
    "def draw_ellipse(point, draw, color=(0,0,255), width=2):\n",
    "    line1 = [x-width/2 for x in point[0]]\n",
    "    line2 = [x+width/2 for x in point[0]]\n",
    "    point = np.r_[line1, line2].flatten().tolist()\n",
    "    draw.ellipse(point, fill=color, outline=color)\n",
    "\n",
    "    #overlay_images(background, instance)"
   ]
  },
  {
   "cell_type": "code",
   "execution_count": null,
   "metadata": {},
   "outputs": [
    {
     "name": "stdout",
     "output_type": "stream",
     "text": [
      "(479, 4)\n",
      "(845, 4)\n",
      "(1174, 4)\n",
      "(774, 4)\n",
      "(807, 4)\n",
      "(1125, 4)\n",
      "(583, 4)\n",
      "(626, 4)\n"
     ]
    },
    {
     "name": "stdin",
     "output_type": "stream",
     "text": [
      " \n"
     ]
    },
    {
     "name": "stdout",
     "output_type": "stream",
     "text": [
      "(815, 4)\n",
      "(578, 4)\n",
      "(855, 4)\n",
      "(277, 4)\n",
      "(1121, 4)\n",
      "(930, 4)\n",
      "(733, 4)\n",
      "(286, 4)\n"
     ]
    },
    {
     "name": "stdin",
     "output_type": "stream",
     "text": [
      " \n"
     ]
    },
    {
     "name": "stdout",
     "output_type": "stream",
     "text": [
      "(784, 4)\n",
      "(919, 4)\n",
      "(687, 4)\n",
      "(1047, 4)\n",
      "(585, 4)\n",
      "(840, 4)\n",
      "(893, 4)\n",
      "(1016, 4)\n"
     ]
    },
    {
     "name": "stdin",
     "output_type": "stream",
     "text": [
      " \n"
     ]
    },
    {
     "name": "stdout",
     "output_type": "stream",
     "text": [
      "(966, 4)\n",
      "(1095, 4)\n",
      "(911, 4)\n",
      "(1080, 4)\n",
      "(477, 4)\n",
      "(272, 4)\n",
      "(1017, 4)\n",
      "(627, 4)\n"
     ]
    },
    {
     "name": "stdin",
     "output_type": "stream",
     "text": [
      " \n"
     ]
    },
    {
     "name": "stdout",
     "output_type": "stream",
     "text": [
      "(641, 4)\n",
      "(171, 4)\n",
      "(790, 4)\n",
      "(829, 4)\n",
      "(720, 4)\n",
      "(552, 4)\n",
      "(818, 4)\n",
      "(739, 4)\n"
     ]
    },
    {
     "name": "stdin",
     "output_type": "stream",
     "text": [
      " \n"
     ]
    },
    {
     "name": "stdout",
     "output_type": "stream",
     "text": [
      "(622, 4)\n",
      "(676, 4)\n",
      "(1137, 4)\n",
      "(1040, 4)\n",
      "(488, 4)\n",
      "(343, 4)\n",
      "(707, 4)\n",
      "(461, 4)\n"
     ]
    },
    {
     "name": "stdin",
     "output_type": "stream",
     "text": [
      " \n"
     ]
    },
    {
     "name": "stdout",
     "output_type": "stream",
     "text": [
      "(835, 4)\n",
      "(678, 4)\n",
      "(725, 4)\n",
      "(975, 4)\n",
      "(1000, 4)\n",
      "(501, 4)\n",
      "(777, 4)\n",
      "(901, 4)\n"
     ]
    },
    {
     "name": "stdin",
     "output_type": "stream",
     "text": [
      " \n"
     ]
    },
    {
     "name": "stdout",
     "output_type": "stream",
     "text": [
      "(855, 4)\n",
      "(594, 4)\n",
      "(780, 4)\n",
      "(481, 4)\n",
      "(717, 4)\n",
      "(354, 4)\n",
      "(988, 4)\n",
      "(765, 4)\n"
     ]
    },
    {
     "name": "stdin",
     "output_type": "stream",
     "text": [
      " \n"
     ]
    },
    {
     "name": "stdout",
     "output_type": "stream",
     "text": [
      "(891, 4)\n",
      "(803, 4)\n",
      "(643, 4)\n",
      "(824, 4)\n",
      "(688, 4)\n",
      "(587, 4)\n",
      "(278, 4)\n",
      "(719, 4)\n"
     ]
    },
    {
     "name": "stdin",
     "output_type": "stream",
     "text": [
      " \n"
     ]
    },
    {
     "name": "stdout",
     "output_type": "stream",
     "text": [
      "(393, 4)\n",
      "(662, 4)\n",
      "(690, 4)\n",
      "(623, 4)\n",
      "(956, 4)\n",
      "(873, 4)\n",
      "(1098, 4)\n",
      "(675, 4)\n"
     ]
    },
    {
     "name": "stdin",
     "output_type": "stream",
     "text": [
      " \n"
     ]
    },
    {
     "name": "stdout",
     "output_type": "stream",
     "text": [
      "(300, 4)\n",
      "(634, 4)\n",
      "(762, 4)\n",
      "(778, 4)\n",
      "(637, 4)\n",
      "(483, 4)\n",
      "(832, 4)\n",
      "(1013, 4)\n"
     ]
    },
    {
     "name": "stdin",
     "output_type": "stream",
     "text": [
      " \n"
     ]
    },
    {
     "name": "stdout",
     "output_type": "stream",
     "text": [
      "(517, 4)\n",
      "(922, 4)\n",
      "(1213, 4)\n",
      "(347, 4)\n",
      "(727, 4)\n",
      "(718, 4)\n",
      "(509, 4)\n",
      "(625, 4)\n"
     ]
    },
    {
     "name": "stdin",
     "output_type": "stream",
     "text": [
      " \n"
     ]
    },
    {
     "name": "stdout",
     "output_type": "stream",
     "text": [
      "(239, 4)\n",
      "(1060, 4)\n",
      "(699, 4)\n",
      "(619, 4)\n",
      "(860, 4)\n",
      "(610, 4)\n",
      "(700, 4)\n",
      "(314, 4)\n"
     ]
    },
    {
     "name": "stdin",
     "output_type": "stream",
     "text": [
      " \n"
     ]
    },
    {
     "name": "stdout",
     "output_type": "stream",
     "text": [
      "(801, 4)\n",
      "(1115, 4)\n",
      "(771, 4)\n",
      "(904, 4)\n",
      "(672, 4)\n",
      "(970, 4)\n",
      "(808, 4)\n",
      "(91, 4)\n"
     ]
    },
    {
     "name": "stdin",
     "output_type": "stream",
     "text": [
      " \n"
     ]
    },
    {
     "name": "stdout",
     "output_type": "stream",
     "text": [
      "(763, 4)\n",
      "(502, 4)\n",
      "(662, 4)\n",
      "(1174, 4)\n",
      "(600, 4)\n",
      "(566, 4)\n",
      "(655, 4)\n",
      "(525, 4)\n"
     ]
    },
    {
     "name": "stdin",
     "output_type": "stream",
     "text": [
      " \n"
     ]
    },
    {
     "name": "stdout",
     "output_type": "stream",
     "text": [
      "(506, 4)\n",
      "(1018, 4)\n",
      "(1144, 4)\n",
      "(877, 4)\n",
      "(1082, 4)\n",
      "(517, 4)\n",
      "(619, 4)\n",
      "(785, 4)\n"
     ]
    }
   ],
   "source": [
    "for i in test_dataloader:\n",
    "    for ii in i[\"gt_list\"]:\n",
    "        test_drawing_swaps(ii.numpy())\n",
    "    input()"
   ]
  },
  {
   "cell_type": "code",
   "execution_count": null,
   "metadata": {},
   "outputs": [],
   "source": []
  }
 ],
 "metadata": {
  "kernelspec": {
   "display_name": "hwr5",
   "language": "python",
   "name": "hwr5"
  },
  "language_info": {
   "codemirror_mode": {
    "name": "ipython",
    "version": 3
   },
   "file_extension": ".py",
   "mimetype": "text/x-python",
   "name": "python",
   "nbconvert_exporter": "python",
   "pygments_lexer": "ipython3",
   "version": "3.8.1"
  }
 },
 "nbformat": 4,
 "nbformat_minor": 2
}
