{
 "cells": [
  {
   "cell_type": "code",
   "execution_count": 19,
   "metadata": {
    "collapsed": true
   },
   "outputs": [
    {
     "name": "stdout",
     "output_type": "stream",
     "text": [
      "/media/data/GitHub/simple_hwr/hwr_utils/testing\n",
      "/media/data/GitHub/simple_hwr/hwr_utils/testing\n",
      "../../data/online_coordinate_data/MAX_stroke_vTEST_AUGMENTFull/test_online_coords.json\n"
     ]
    },
    {
     "name": "stderr",
     "output_type": "stream",
     "text": [
      "INFO:root.hwr_utils.stroke_dataset:('Original dataloader figsize', 501)\n",
      "INFO:root.hwr_utils.stroke_dataset:('Dataloader figsize', 5)\n",
      "100%|██████████| 5/5 [00:00<00:00, 927.74it/s]\n"
     ]
    }
   ],
   "source": [
    "%reload_ext autoreload\n",
    "%autoreload 2\n",
    "\n",
    "import sys\n",
    "sys.path.append(\"../../\")\n",
    "\n",
    "import os\n",
    "print(os.getcwd())\n",
    "\n",
    "import tempfile\n",
    "from pathlib import Path\n",
    "import numpy as np\n",
    "from torch.utils.data import DataLoader\n",
    "from models.basic import CNN, BidirectionalRNN\n",
    "from torch import nn\n",
    "from loss_module.stroke_recovery_loss import StrokeLoss\n",
    "import torch\n",
    "from models.CoordConv import CoordConv\n",
    "from trainers import TrainerStrokeRecovery\n",
    "from hwr_utils.stroke_dataset import StrokeRecoveryDataset, read_img\n",
    "from hwr_utils.stroke_recovery import *\n",
    "from hwr_utils import utils, stroke_recovery\n",
    "from torch.optim import lr_scheduler\n",
    "from timeit import default_timer as timer\n",
    "from train_stroke_recovery import graph\n",
    "from hwr_utils.distortions import *\n",
    "from hwr_utils.stroke_plotting import *\n",
    "\n",
    "\n",
    "## DRAW THE IMAGE\n",
    "#Pillow-simd\n",
    "\n",
    "from PIL import Image, ImageDraw\n",
    "\n",
    "def loader():\n",
    "    folder = Path(\"online_coordinate_data/3_stroke_vSmall\")\n",
    "    folder = Path(\"online_coordinate_data/8_stroke_vSmall_16\")\n",
    "    folder = Path(\"online_coordinate_data/MAX_stroke_vTEST_AUGMENTFull\")\n",
    "\n",
    "    print(os.getcwd())\n",
    "    x_relative_positions = True\n",
    "    test_size = 5\n",
    "    train_size = None\n",
    "    batch_size=32\n",
    "\n",
    "    test_dataset=StrokeRecoveryDataset([folder / \"test_online_coords.json\"],\n",
    "                            img_height = 60,\n",
    "                            num_of_channels = 1.,\n",
    "                            max_images_to_load = test_size,\n",
    "                            root=r\"../../data\",\n",
    "                            )\n",
    "\n",
    "    test_dataloader = DataLoader(test_dataset,\n",
    "                                  batch_size=batch_size,\n",
    "                                  shuffle=True,\n",
    "                                  num_workers=3,\n",
    "                                  collate_fn=test_dataset.collate,\n",
    "                                  pin_memory=False)\n",
    "\n",
    "    device=\"cuda\"\n",
    "    globals().update(locals())\n",
    "    return test_dataloader\n",
    "\n",
    "def get_instance():\n",
    "#     if not 'test_dataloader' in globals():\n",
    "#         test_dataloader = loader()\n",
    "    example = next(iter(test_dataloader)) # BATCH, WIDTH, VOCAB\n",
    "    instance = example[\"gt_list\"][0].numpy()\n",
    "    return instance, example\n",
    "\n",
    "def test_drawing():\n",
    "    instance, example = get_instance()\n",
    "    \n",
    "    draw_from_gt(instance)\n",
    "    draw_from_raw(gt_to_raw(instance))\n",
    "\n",
    "loader()\n",
    "test_drawing()\n",
    "\n",
    "example = next(iter(test_dataloader)) # BATCH, WIDTH, VOCAB\n",
    "instance = example[\"gt_list\"][0].numpy()"
   ]
  },
  {
   "cell_type": "code",
   "execution_count": null,
   "metadata": {},
   "outputs": [],
   "source": [
    "from time import sleep\n",
    "device=\"cuda\"\n",
    "example = next(iter(test_dataloader)) # BATCH, WIDTH, VOCAB\n",
    "output = Path(\"./TEST_GRAPHING\")\n",
    "print(example.keys())\n",
    "\n",
    "# This graphs the directions etc.\n",
    "# graph(example, save_folder=output, x_relative_positions=x_relative_positions)\n",
    "\n",
    "def draw_temp(stroke_list):\n",
    "    fd, path = tempfile.mkstemp()\n",
    "    path = \"./temp\"\n",
    "    path += \".png\"\n",
    "    ratio = None\n",
    "    try:\n",
    "        draw_strokes(stroke_list, ratio, save_path=path, line_width=.8)\n",
    "        img = read_img(path)\n",
    "    finally:\n",
    "        #os.remove(path)\n",
    "        pass\n",
    "    return img\n"
   ]
  },
  {
   "cell_type": "code",
   "execution_count": null,
   "metadata": {
    "collapsed": false,
    "pycharm": {
     "name": "#%%\n"
    }
   },
   "outputs": [],
   "source": [
    "example = next(iter(test_dataloader)) # BATCH, WIDTH, VOCAB\n",
    "instance = example[\"gt_list\"][0].numpy()\n",
    "start_points = stroke_recovery.relativefy(instance[:,2])\n",
    "s = start_points\n",
    "start_indices = np.argwhere(s==1).astype(int).reshape(-1)\n",
    "l = np.split(instance[:,0:2], start_indices)\n",
    "\n",
    "output = []\n",
    "\n",
    "for item in l:\n",
    "    if item.shape[0]:\n",
    "        output.append({\"x\": item[:,0].tolist(), \"y\": item[:,1].tolist()})\n",
    "\n",
    "#print(output)\n",
    "draw_strokes(output, x_to_y=None)\n",
    "\n",
    "img = draw_temp(output)\n",
    "print(img.shape)"
   ]
  },
  {
   "cell_type": "code",
   "execution_count": null,
   "metadata": {},
   "outputs": [],
   "source": [
    "path = \"./temp\"\n",
    "img = read_img(path)\n"
   ]
  },
  {
   "cell_type": "code",
   "execution_count": null,
   "metadata": {},
   "outputs": [],
   "source": [
    "import dill\n",
    "dill.dump_session('notebook_env.db')\n",
    "#dill.load_session('notebook_env.db')\n",
    "\n",
    "print(output)"
   ]
  },
  {
   "cell_type": "code",
   "execution_count": null,
   "metadata": {},
   "outputs": [],
   "source": []
  },
  {
   "cell_type": "code",
   "execution_count": null,
   "metadata": {},
   "outputs": [],
   "source": [
    "print(example.keys())"
   ]
  },
  {
   "cell_type": "code",
   "execution_count": null,
   "metadata": {},
   "outputs": [],
   "source": [
    "# Test draw\n",
    "img  = Image.new(\"L\", (50, 60), 255)\n",
    "draw = ImageDraw.Draw(img)\n",
    "draw.line([(0,0), (50,50)])\n",
    "img.show()"
   ]
  },
  {
   "cell_type": "code",
   "execution_count": null,
   "metadata": {},
   "outputs": [],
   "source": [
    "warp_points\n"
   ]
  },
  {
   "cell_type": "code",
   "execution_count": null,
   "metadata": {},
   "outputs": [],
   "source": [
    "x = np.random.randint(5,10,(10,10))"
   ]
  },
  {
   "cell_type": "code",
   "execution_count": null,
   "metadata": {},
   "outputs": [],
   "source": [
    "top = 1\n",
    "bottom = 4\n",
    "left = 2\n",
    "right = 3\n",
    "\n",
    "np.pad(x, ((top,bottom),(left,right)))\n"
   ]
  },
  {
   "cell_type": "code",
   "execution_count": null,
   "metadata": {},
   "outputs": [],
   "source": [
    "y = x[0]+1"
   ]
  },
  {
   "cell_type": "code",
   "execution_count": null,
   "metadata": {},
   "outputs": [],
   "source": [
    "print(y)"
   ]
  },
  {
   "cell_type": "code",
   "execution_count": null,
   "metadata": {},
   "outputs": [],
   "source": [
    "print(x)"
   ]
  },
  {
   "cell_type": "code",
   "execution_count": null,
   "metadata": {},
   "outputs": [],
   "source": [
    "instance, example = get_instance()\n",
    "\n",
    "print(instance.shape)\n",
    "img = draw_from_gt(instance, show=False)\n",
    "new_gt, new_img = random_pad(instance, img, 20, 20)\n",
    "\n",
    "img = Image.fromarray(new_img, 'L')\n",
    "img.show()\n",
    "draw_from_gt(new_gt, show=True)\n"
   ]
  },
  {
   "cell_type": "code",
   "execution_count": null,
   "metadata": {},
   "outputs": [],
   "source": [
    "#loader()\n",
    "from stroke_plotting import *\n",
    "instance, example = get_instance()\n",
    "\n",
    "print(instance.shape)\n",
    "get_x_y_min_max_from_gt(instance)\n",
    "img = draw_from_gt(instance, show=True)\n",
    "new_gt = random_pad(instance, 15, 15)\n",
    "draw_from_gt(new_gt, show=True, right_padding=\"random\")\n"
   ]
  },
  {
   "cell_type": "code",
   "execution_count": null,
   "metadata": {},
   "outputs": [],
   "source": [
    "img = draw_from_gt(instance, show=True)\n",
    "img = blur(img.copy() / 127.5 - 1.0, max_intensity=1.1)\n",
    "print(img)\n",
    "img = (img + 1.0) * 127.5\n",
    "f = Image.fromarray(np.uint8(img), 'L')\n",
    "f.show()\n",
    "\n"
   ]
  },
  {
   "cell_type": "code",
   "execution_count": null,
   "metadata": {},
   "outputs": [],
   "source": [
    "from hwr_utils.grid_distortion import *\n",
    "img = draw_from_gt(instance, show=True)\n",
    "img = Image.fromarray(img, 'L')\n",
    "img.show()\n",
    "\n",
    "if False:\n",
    "    img = warp_points(instance, random_state=None)\n",
    "    img = np.c_[img, instance[:,2]]\n"
   ]
  },
  {
   "cell_type": "code",
   "execution_count": null,
   "metadata": {},
   "outputs": [],
   "source": [
    "## DISTORT IMAGE\n",
    "from hwr_utils.grid_distortion  import *\n",
    "img_prime = draw_from_gt(instance, show=False, max_width=3)\n",
    "for i in range(0,1):\n",
    "    img = img_prime.copy()\n",
    "    if True:\n",
    "        img = gaussian_noise(\n",
    "                blur(\n",
    "                    random_distortions(img_prime.copy()),\n",
    "                    max_intensity=1.3),\n",
    "                max_intensity=.1)\n",
    "    f = Image.fromarray(np.uint8(img), 'L')\n",
    "    #f.show()\n",
    "# Render GT on top of image\n",
    "f = f.convert(\"RGB\")\n",
    "img_prime = draw_from_gt(instance, show=False, linewidth=1, color=[255,0,0], alpha=True)\n",
    "gt = Image.fromarray(np.uint8(img_prime), 'RGBA')\n",
    "f.paste(gt, (0, 0), gt)\n",
    "f.show()\n",
    "\n",
    "#f = Image.fromarray(np.uint8(img), 'L')\n",
    "    \n"
   ]
  },
  {
   "cell_type": "code",
   "execution_count": null,
   "metadata": {},
   "outputs": [],
   "source": [
    "from matplotlib import pyplot as plt\n",
    "l = []\n",
    "max_width = 3\n",
    "for i in range(1000):\n",
    "    l.append(max(int(abs(np.random.randn())*(max_width-1)*.5 + 1 ),1))\n",
    "\n",
    "plt.hist(l)"
   ]
  },
  {
   "cell_type": "code",
   "execution_count": null,
   "metadata": {},
   "outputs": [],
   "source": [
    "### WARP\n",
    "\n",
    "for i in range(10):\n",
    "    gt = instance.copy()\n",
    "    height = 61\n",
    "    x = warp_points(gt*height)/height # convert to pixel space\n",
    "    x = np.c_[x, instance[:,2]]\n",
    "    img = draw_from_gt(x, show=True, max_width=2, save_path=\"./warp.png\")\n"
   ]
  },
  {
   "cell_type": "code",
   "execution_count": null,
   "metadata": {},
   "outputs": [],
   "source": [
    "m = np.array([[0,2,3,4,5],[0,2,3,4,5]])\n",
    "m = m.reshape(-1,2)\n",
    "print(m.shape)\n",
    "x = warp_points(m)\n",
    "print(x)"
   ]
  },
  {
   "cell_type": "code",
   "execution_count": null,
   "metadata": {},
   "outputs": [],
   "source": [
    "f.show()\n",
    "\n"
   ]
  },
  {
   "cell_type": "code",
   "execution_count": null,
   "metadata": {},
   "outputs": [],
   "source": [
    "im = Image.fromarray(np.uint8(img), 'L')\n",
    "transparent_area = (0,0,50,50)\n",
    "\n",
    "mask=Image.new('L', im.size, color=255)\n",
    "draw=ImageDraw.Draw(mask) \n",
    "draw.rectangle(transparent_area, fill=0)\n",
    "im.putalpha(mask)\n",
    "im.show()"
   ]
  },
  {
   "cell_type": "code",
   "execution_count": 43,
   "metadata": {},
   "outputs": [],
   "source": [
    "def show(numpy_array):\n",
    "    f = Image.fromarray(np.uint8(numpy_array), 'L')\n",
    "    f.show()\n",
    "    return f\n",
    "\n",
    "img_prime = draw_from_gt(instance, show=False, max_width=3)\n",
    "background = Image.fromarray(np.uint8(img_prime), 'L')\n",
    "\n",
    "for i in range(0,10):\n",
    "    img = img_prime.copy()\n",
    "\n",
    "    if False:\n",
    "        img = random_distortions(img_prime.copy(), sigma=20.0, noise_max=2)\n",
    "    else:\n",
    "        img = blur(img_prime.copy(), max_intensity=1.0)\n",
    "    \n",
    "    show(img)\n",
    "    # OVERLAY\n",
    "    #bg = overlay_images(background_img=img, foreground_gt=instance, normalized=False)\n",
    "    #bg.show()\n"
   ]
  },
  {
   "cell_type": "code",
   "execution_count": null,
   "metadata": {},
   "outputs": [],
   "source": []
  }
 ],
 "metadata": {
  "kernelspec": {
   "display_name": "hwr5",
   "language": "python",
   "name": "hwr5"
  },
  "language_info": {
   "codemirror_mode": {
    "name": "ipython",
    "version": 3
   },
   "file_extension": ".py",
   "mimetype": "text/x-python",
   "name": "python",
   "nbconvert_exporter": "python",
   "pygments_lexer": "ipython3",
   "version": "3.7.3"
  },
  "pycharm": {
   "stem_cell": {
    "cell_type": "raw",
    "metadata": {
     "collapsed": false
    },
    "source": []
   }
  }
 },
 "nbformat": 4,
 "nbformat_minor": 2
}
