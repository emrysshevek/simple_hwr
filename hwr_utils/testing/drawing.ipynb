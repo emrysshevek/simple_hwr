{
 "cells": [
  {
   "cell_type": "code",
   "execution_count": 41,
   "metadata": {
    "collapsed": true
   },
   "outputs": [
    {
     "name": "stdout",
     "output_type": "stream",
     "text": [
      "/media/data/GitHub/simple_hwr/hwr_utils/testing\n",
      "../../data/online_coordinate_data/MAX_stroke_vTEST_AUGMENTFull/test_online_coords.json\n"
     ]
    },
    {
     "name": "stderr",
     "output_type": "stream",
     "text": [
      "INFO:root.hwr_utils.stroke_dataset:('Original dataloader size', 501)\n",
      "INFO:root.hwr_utils.stroke_dataset:('Dataloader size', 5)\n",
      "100%|██████████| 5/5 [00:00<00:00, 1211.11it/s]\n"
     ]
    }
   ],
   "source": [
    "%reload_ext autoreload\n",
    "%autoreload 2\n",
    "\n",
    "import sys\n",
    "sys.path.append(\"../../\")\n",
    "\n",
    "import os\n",
    "print(os.getcwd())\n",
    "\n",
    "import tempfile\n",
    "from pathlib import Path\n",
    "import numpy as np\n",
    "from torch.utils.data import DataLoader\n",
    "from models.basic import CNN, BidirectionalRNN\n",
    "from torch import nn\n",
    "from loss_module.stroke_recovery_loss import StrokeLoss\n",
    "import torch\n",
    "from models.CoordConv import CoordConv\n",
    "from trainers import TrainerStrokeRecovery\n",
    "from hwr_utils.stroke_dataset import StrokeRecoveryDataset, read_img\n",
    "from hwr_utils.stroke_recovery import *\n",
    "from hwr_utils import utils, stroke_recovery\n",
    "from torch.optim import lr_scheduler\n",
    "from timeit import default_timer as timer\n",
    "from train_stroke_recovery import graph\n"
   ]
  },
  {
   "cell_type": "code",
   "execution_count": 50,
   "metadata": {},
   "outputs": [
    {
     "name": "stdout",
     "output_type": "stream",
     "text": [
      "dict_keys(['line_imgs', 'gt', 'gt_list', 'gt_format', 'label_lengths', 'paths', 'x_func', 'y_func', 'start_times'])\n"
     ]
    }
   ],
   "source": [
    "from time import sleep\n",
    "device=\"cuda\"\n",
    "example = next(iter(test_dataloader)) # BATCH, WIDTH, VOCAB\n",
    "output = Path(\"./TEST_GRAPHING\")\n",
    "print(example.keys())\n",
    "\n",
    "# This graphs the directions etc.\n",
    "# graph(example, save_folder=output, x_relative_positions=x_relative_positions)\n",
    "\n",
    "def draw_temp(stroke_list):\n",
    "    fd, path = tempfile.mkstemp()\n",
    "    path = \"./temp\"\n",
    "    path += \".png\"\n",
    "    ratio = None\n",
    "    try:\n",
    "        draw_strokes(stroke_list, ratio, save_path=path, line_width=.8)\n",
    "        img = read_img(path)\n",
    "    finally:\n",
    "        #os.remove(path)\n",
    "        pass\n",
    "    return img\n"
   ]
  },
  {
   "cell_type": "code",
   "execution_count": 51,
   "metadata": {
    "collapsed": false,
    "pycharm": {
     "name": "#%%\n"
    }
   },
   "outputs": [
    {
     "name": "stdout",
     "output_type": "stream",
     "text": [
      "HERE (17, 1)\n",
      "HERE (17, 1)\n",
      "(61, 911, 1)\n"
     ]
    },
    {
     "data": {
      "image/png": "[encoded data removed]",
      "text/plain": [
       "<Figure size 432x288 with 1 Axes>"
      ]
     },
     "metadata": {
      "needs_background": "light"
     },
     "output_type": "display_data"
    }
   ],
   "source": [
    "instance = example[\"gt_list\"][0].numpy()\n",
    "start_points = stroke_recovery.relativefy(instance[:,2])\n",
    "s = start_points\n",
    "start_indices = np.argwhere(s==1).astype(int).reshape(-1)\n",
    "l = np.split(instance[:,0:2], start_indices)\n",
    "\n",
    "output = []\n",
    "\n",
    "for item in l:\n",
    "    if item.shape[0]:\n",
    "        output.append({\"x\": item[:,0].tolist(), \"y\": item[:,1].tolist()})\n",
    "\n",
    "#print(output)\n",
    "draw_strokes(output, x_to_y=None)\n",
    "\n",
    "img = draw_temp(output)\n",
    "print(img.shape)"
   ]
  },
  {
   "cell_type": "code",
   "execution_count": 21,
   "metadata": {},
   "outputs": [
    {
     "name": "stderr",
     "output_type": "stream",
     "text": [
      "WARNING:root:Warning: image is None: temp\n"
     ]
    }
   ],
   "source": [
    "path = \"./temp\"\n",
    "img = read_img(path)\n"
   ]
  },
  {
   "cell_type": "code",
   "execution_count": 117,
   "metadata": {},
   "outputs": [
    {
     "ename": "TypeError",
     "evalue": "can't pickle ImagingCore objects",
     "output_type": "error",
     "traceback": [
      "\u001b[0;31m---------------------------------------------------------------------------\u001b[0m",
      "\u001b[0;31mTypeError\u001b[0m                                 Traceback (most recent call last)",
      "\u001b[0;32m<ipython-input-117-38c38fd53be8>\u001b[0m in \u001b[0;36m<module>\u001b[0;34m\u001b[0m\n\u001b[1;32m      1\u001b[0m \u001b[0;32mimport\u001b[0m \u001b[0mdill\u001b[0m\u001b[0;34m\u001b[0m\u001b[0;34m\u001b[0m\u001b[0m\n\u001b[0;32m----> 2\u001b[0;31m \u001b[0mdill\u001b[0m\u001b[0;34m.\u001b[0m\u001b[0mdump_session\u001b[0m\u001b[0;34m(\u001b[0m\u001b[0;34m'notebook_env.db'\u001b[0m\u001b[0;34m)\u001b[0m\u001b[0;34m\u001b[0m\u001b[0;34m\u001b[0m\u001b[0m\n\u001b[0m\u001b[1;32m      3\u001b[0m \u001b[0;31m#dill.load_session('notebook_env.db')\u001b[0m\u001b[0;34m\u001b[0m\u001b[0;34m\u001b[0m\u001b[0;34m\u001b[0m\u001b[0m\n\u001b[1;32m      4\u001b[0m \u001b[0;34m\u001b[0m\u001b[0m\n\u001b[1;32m      5\u001b[0m \u001b[0mprint\u001b[0m\u001b[0;34m(\u001b[0m\u001b[0moutput\u001b[0m\u001b[0;34m)\u001b[0m\u001b[0;34m\u001b[0m\u001b[0;34m\u001b[0m\u001b[0m\n",
      "\u001b[0;32m~/anaconda3/envs/hwr5/lib/python3.7/site-packages/dill/_dill.py\u001b[0m in \u001b[0;36mdump_session\u001b[0;34m(filename, main, byref, **kwds)\u001b[0m\n\u001b[1;32m    349\u001b[0m         \u001b[0mpickler\u001b[0m\u001b[0;34m.\u001b[0m\u001b[0m_recurse\u001b[0m \u001b[0;34m=\u001b[0m \u001b[0;32mFalse\u001b[0m \u001b[0;31m# disable pickling recursion for globals\u001b[0m\u001b[0;34m\u001b[0m\u001b[0;34m\u001b[0m\u001b[0m\n\u001b[1;32m    350\u001b[0m         \u001b[0mpickler\u001b[0m\u001b[0;34m.\u001b[0m\u001b[0m_session\u001b[0m \u001b[0;34m=\u001b[0m \u001b[0;32mTrue\u001b[0m  \u001b[0;31m# is best indicator of when pickling a session\u001b[0m\u001b[0;34m\u001b[0m\u001b[0;34m\u001b[0m\u001b[0m\n\u001b[0;32m--> 351\u001b[0;31m         \u001b[0mpickler\u001b[0m\u001b[0;34m.\u001b[0m\u001b[0mdump\u001b[0m\u001b[0;34m(\u001b[0m\u001b[0mmain\u001b[0m\u001b[0;34m)\u001b[0m\u001b[0;34m\u001b[0m\u001b[0;34m\u001b[0m\u001b[0m\n\u001b[0m\u001b[1;32m    352\u001b[0m     \u001b[0;32mfinally\u001b[0m\u001b[0;34m:\u001b[0m\u001b[0;34m\u001b[0m\u001b[0;34m\u001b[0m\u001b[0m\n\u001b[1;32m    353\u001b[0m         \u001b[0;32mif\u001b[0m \u001b[0mf\u001b[0m \u001b[0;32mis\u001b[0m \u001b[0;32mnot\u001b[0m \u001b[0mfilename\u001b[0m\u001b[0;34m:\u001b[0m  \u001b[0;31m# If newly opened file\u001b[0m\u001b[0;34m\u001b[0m\u001b[0;34m\u001b[0m\u001b[0m\n",
      "\u001b[0;32m~/anaconda3/envs/hwr5/lib/python3.7/site-packages/dill/_dill.py\u001b[0m in \u001b[0;36mdump\u001b[0;34m(self, obj)\u001b[0m\n\u001b[1;32m    443\u001b[0m             \u001b[0;32mraise\u001b[0m \u001b[0mPicklingError\u001b[0m\u001b[0;34m(\u001b[0m\u001b[0mmsg\u001b[0m\u001b[0;34m)\u001b[0m\u001b[0;34m\u001b[0m\u001b[0;34m\u001b[0m\u001b[0m\n\u001b[1;32m    444\u001b[0m         \u001b[0;32melse\u001b[0m\u001b[0;34m:\u001b[0m\u001b[0;34m\u001b[0m\u001b[0;34m\u001b[0m\u001b[0m\n\u001b[0;32m--> 445\u001b[0;31m             \u001b[0mStockPickler\u001b[0m\u001b[0;34m.\u001b[0m\u001b[0mdump\u001b[0m\u001b[0;34m(\u001b[0m\u001b[0mself\u001b[0m\u001b[0;34m,\u001b[0m \u001b[0mobj\u001b[0m\u001b[0;34m)\u001b[0m\u001b[0;34m\u001b[0m\u001b[0;34m\u001b[0m\u001b[0m\n\u001b[0m\u001b[1;32m    446\u001b[0m         \u001b[0mstack\u001b[0m\u001b[0;34m.\u001b[0m\u001b[0mclear\u001b[0m\u001b[0;34m(\u001b[0m\u001b[0;34m)\u001b[0m  \u001b[0;31m# clear record of 'recursion-sensitive' pickled objects\u001b[0m\u001b[0;34m\u001b[0m\u001b[0;34m\u001b[0m\u001b[0m\n\u001b[1;32m    447\u001b[0m         \u001b[0;32mreturn\u001b[0m\u001b[0;34m\u001b[0m\u001b[0;34m\u001b[0m\u001b[0m\n",
      "\u001b[0;32m~/anaconda3/envs/hwr5/lib/python3.7/pickle.py\u001b[0m in \u001b[0;36mdump\u001b[0;34m(self, obj)\u001b[0m\n\u001b[1;32m    435\u001b[0m         \u001b[0;32mif\u001b[0m \u001b[0mself\u001b[0m\u001b[0;34m.\u001b[0m\u001b[0mproto\u001b[0m \u001b[0;34m>=\u001b[0m \u001b[0;36m4\u001b[0m\u001b[0;34m:\u001b[0m\u001b[0;34m\u001b[0m\u001b[0;34m\u001b[0m\u001b[0m\n\u001b[1;32m    436\u001b[0m             \u001b[0mself\u001b[0m\u001b[0;34m.\u001b[0m\u001b[0mframer\u001b[0m\u001b[0;34m.\u001b[0m\u001b[0mstart_framing\u001b[0m\u001b[0;34m(\u001b[0m\u001b[0;34m)\u001b[0m\u001b[0;34m\u001b[0m\u001b[0;34m\u001b[0m\u001b[0m\n\u001b[0;32m--> 437\u001b[0;31m         \u001b[0mself\u001b[0m\u001b[0;34m.\u001b[0m\u001b[0msave\u001b[0m\u001b[0;34m(\u001b[0m\u001b[0mobj\u001b[0m\u001b[0;34m)\u001b[0m\u001b[0;34m\u001b[0m\u001b[0;34m\u001b[0m\u001b[0m\n\u001b[0m\u001b[1;32m    438\u001b[0m         \u001b[0mself\u001b[0m\u001b[0;34m.\u001b[0m\u001b[0mwrite\u001b[0m\u001b[0;34m(\u001b[0m\u001b[0mSTOP\u001b[0m\u001b[0;34m)\u001b[0m\u001b[0;34m\u001b[0m\u001b[0;34m\u001b[0m\u001b[0m\n\u001b[1;32m    439\u001b[0m         \u001b[0mself\u001b[0m\u001b[0;34m.\u001b[0m\u001b[0mframer\u001b[0m\u001b[0;34m.\u001b[0m\u001b[0mend_framing\u001b[0m\u001b[0;34m(\u001b[0m\u001b[0;34m)\u001b[0m\u001b[0;34m\u001b[0m\u001b[0;34m\u001b[0m\u001b[0m\n",
      "\u001b[0;32m~/anaconda3/envs/hwr5/lib/python3.7/pickle.py\u001b[0m in \u001b[0;36msave\u001b[0;34m(self, obj, save_persistent_id)\u001b[0m\n\u001b[1;32m    502\u001b[0m         \u001b[0mf\u001b[0m \u001b[0;34m=\u001b[0m \u001b[0mself\u001b[0m\u001b[0;34m.\u001b[0m\u001b[0mdispatch\u001b[0m\u001b[0;34m.\u001b[0m\u001b[0mget\u001b[0m\u001b[0;34m(\u001b[0m\u001b[0mt\u001b[0m\u001b[0;34m)\u001b[0m\u001b[0;34m\u001b[0m\u001b[0;34m\u001b[0m\u001b[0m\n\u001b[1;32m    503\u001b[0m         \u001b[0;32mif\u001b[0m \u001b[0mf\u001b[0m \u001b[0;32mis\u001b[0m \u001b[0;32mnot\u001b[0m \u001b[0;32mNone\u001b[0m\u001b[0;34m:\u001b[0m\u001b[0;34m\u001b[0m\u001b[0;34m\u001b[0m\u001b[0m\n\u001b[0;32m--> 504\u001b[0;31m             \u001b[0mf\u001b[0m\u001b[0;34m(\u001b[0m\u001b[0mself\u001b[0m\u001b[0;34m,\u001b[0m \u001b[0mobj\u001b[0m\u001b[0;34m)\u001b[0m \u001b[0;31m# Call unbound method with explicit self\u001b[0m\u001b[0;34m\u001b[0m\u001b[0;34m\u001b[0m\u001b[0m\n\u001b[0m\u001b[1;32m    505\u001b[0m             \u001b[0;32mreturn\u001b[0m\u001b[0;34m\u001b[0m\u001b[0;34m\u001b[0m\u001b[0m\n\u001b[1;32m    506\u001b[0m \u001b[0;34m\u001b[0m\u001b[0m\n",
      "\u001b[0;32m~/anaconda3/envs/hwr5/lib/python3.7/site-packages/dill/_dill.py\u001b[0m in \u001b[0;36msave_module\u001b[0;34m(pickler, obj)\u001b[0m\n\u001b[1;32m   1293\u001b[0m                 + [\"__builtins__\", \"__loader__\"]]\n\u001b[1;32m   1294\u001b[0m             pickler.save_reduce(_import_module, (obj.__name__,), obj=obj,\n\u001b[0;32m-> 1295\u001b[0;31m                                 state=_main_dict)\n\u001b[0m\u001b[1;32m   1296\u001b[0m             \u001b[0mlog\u001b[0m\u001b[0;34m.\u001b[0m\u001b[0minfo\u001b[0m\u001b[0;34m(\u001b[0m\u001b[0;34m\"# M1\"\u001b[0m\u001b[0;34m)\u001b[0m\u001b[0;34m\u001b[0m\u001b[0;34m\u001b[0m\u001b[0m\n\u001b[1;32m   1297\u001b[0m         \u001b[0;32melse\u001b[0m\u001b[0;34m:\u001b[0m\u001b[0;34m\u001b[0m\u001b[0;34m\u001b[0m\u001b[0m\n",
      "\u001b[0;32m~/anaconda3/envs/hwr5/lib/python3.7/pickle.py\u001b[0m in \u001b[0;36msave_reduce\u001b[0;34m(self, func, args, state, listitems, dictitems, obj)\u001b[0m\n\u001b[1;32m    660\u001b[0m \u001b[0;34m\u001b[0m\u001b[0m\n\u001b[1;32m    661\u001b[0m         \u001b[0;32mif\u001b[0m \u001b[0mstate\u001b[0m \u001b[0;32mis\u001b[0m \u001b[0;32mnot\u001b[0m \u001b[0;32mNone\u001b[0m\u001b[0;34m:\u001b[0m\u001b[0;34m\u001b[0m\u001b[0;34m\u001b[0m\u001b[0m\n\u001b[0;32m--> 662\u001b[0;31m             \u001b[0msave\u001b[0m\u001b[0;34m(\u001b[0m\u001b[0mstate\u001b[0m\u001b[0;34m)\u001b[0m\u001b[0;34m\u001b[0m\u001b[0;34m\u001b[0m\u001b[0m\n\u001b[0m\u001b[1;32m    663\u001b[0m             \u001b[0mwrite\u001b[0m\u001b[0;34m(\u001b[0m\u001b[0mBUILD\u001b[0m\u001b[0;34m)\u001b[0m\u001b[0;34m\u001b[0m\u001b[0;34m\u001b[0m\u001b[0m\n\u001b[1;32m    664\u001b[0m \u001b[0;34m\u001b[0m\u001b[0m\n",
      "\u001b[0;32m~/anaconda3/envs/hwr5/lib/python3.7/pickle.py\u001b[0m in \u001b[0;36msave\u001b[0;34m(self, obj, save_persistent_id)\u001b[0m\n\u001b[1;32m    502\u001b[0m         \u001b[0mf\u001b[0m \u001b[0;34m=\u001b[0m \u001b[0mself\u001b[0m\u001b[0;34m.\u001b[0m\u001b[0mdispatch\u001b[0m\u001b[0;34m.\u001b[0m\u001b[0mget\u001b[0m\u001b[0;34m(\u001b[0m\u001b[0mt\u001b[0m\u001b[0;34m)\u001b[0m\u001b[0;34m\u001b[0m\u001b[0;34m\u001b[0m\u001b[0m\n\u001b[1;32m    503\u001b[0m         \u001b[0;32mif\u001b[0m \u001b[0mf\u001b[0m \u001b[0;32mis\u001b[0m \u001b[0;32mnot\u001b[0m \u001b[0;32mNone\u001b[0m\u001b[0;34m:\u001b[0m\u001b[0;34m\u001b[0m\u001b[0;34m\u001b[0m\u001b[0m\n\u001b[0;32m--> 504\u001b[0;31m             \u001b[0mf\u001b[0m\u001b[0;34m(\u001b[0m\u001b[0mself\u001b[0m\u001b[0;34m,\u001b[0m \u001b[0mobj\u001b[0m\u001b[0;34m)\u001b[0m \u001b[0;31m# Call unbound method with explicit self\u001b[0m\u001b[0;34m\u001b[0m\u001b[0;34m\u001b[0m\u001b[0m\n\u001b[0m\u001b[1;32m    505\u001b[0m             \u001b[0;32mreturn\u001b[0m\u001b[0;34m\u001b[0m\u001b[0;34m\u001b[0m\u001b[0m\n\u001b[1;32m    506\u001b[0m \u001b[0;34m\u001b[0m\u001b[0m\n",
      "\u001b[0;32m~/anaconda3/envs/hwr5/lib/python3.7/site-packages/dill/_dill.py\u001b[0m in \u001b[0;36msave_module_dict\u001b[0;34m(pickler, obj)\u001b[0m\n\u001b[1;32m    910\u001b[0m             \u001b[0;31m# we only care about session the first pass thru\u001b[0m\u001b[0;34m\u001b[0m\u001b[0;34m\u001b[0m\u001b[0;34m\u001b[0m\u001b[0m\n\u001b[1;32m    911\u001b[0m             \u001b[0mpickler\u001b[0m\u001b[0;34m.\u001b[0m\u001b[0m_session\u001b[0m \u001b[0;34m=\u001b[0m \u001b[0;32mFalse\u001b[0m\u001b[0;34m\u001b[0m\u001b[0;34m\u001b[0m\u001b[0m\n\u001b[0;32m--> 912\u001b[0;31m         \u001b[0mStockPickler\u001b[0m\u001b[0;34m.\u001b[0m\u001b[0msave_dict\u001b[0m\u001b[0;34m(\u001b[0m\u001b[0mpickler\u001b[0m\u001b[0;34m,\u001b[0m \u001b[0mobj\u001b[0m\u001b[0;34m)\u001b[0m\u001b[0;34m\u001b[0m\u001b[0;34m\u001b[0m\u001b[0m\n\u001b[0m\u001b[1;32m    913\u001b[0m         \u001b[0mlog\u001b[0m\u001b[0;34m.\u001b[0m\u001b[0minfo\u001b[0m\u001b[0;34m(\u001b[0m\u001b[0;34m\"# D2\"\u001b[0m\u001b[0;34m)\u001b[0m\u001b[0;34m\u001b[0m\u001b[0;34m\u001b[0m\u001b[0m\n\u001b[1;32m    914\u001b[0m     \u001b[0;32mreturn\u001b[0m\u001b[0;34m\u001b[0m\u001b[0;34m\u001b[0m\u001b[0m\n",
      "\u001b[0;32m~/anaconda3/envs/hwr5/lib/python3.7/pickle.py\u001b[0m in \u001b[0;36msave_dict\u001b[0;34m(self, obj)\u001b[0m\n\u001b[1;32m    854\u001b[0m \u001b[0;34m\u001b[0m\u001b[0m\n\u001b[1;32m    855\u001b[0m         \u001b[0mself\u001b[0m\u001b[0;34m.\u001b[0m\u001b[0mmemoize\u001b[0m\u001b[0;34m(\u001b[0m\u001b[0mobj\u001b[0m\u001b[0;34m)\u001b[0m\u001b[0;34m\u001b[0m\u001b[0;34m\u001b[0m\u001b[0m\n\u001b[0;32m--> 856\u001b[0;31m         \u001b[0mself\u001b[0m\u001b[0;34m.\u001b[0m\u001b[0m_batch_setitems\u001b[0m\u001b[0;34m(\u001b[0m\u001b[0mobj\u001b[0m\u001b[0;34m.\u001b[0m\u001b[0mitems\u001b[0m\u001b[0;34m(\u001b[0m\u001b[0;34m)\u001b[0m\u001b[0;34m)\u001b[0m\u001b[0;34m\u001b[0m\u001b[0;34m\u001b[0m\u001b[0m\n\u001b[0m\u001b[1;32m    857\u001b[0m \u001b[0;34m\u001b[0m\u001b[0m\n\u001b[1;32m    858\u001b[0m     \u001b[0mdispatch\u001b[0m\u001b[0;34m[\u001b[0m\u001b[0mdict\u001b[0m\u001b[0;34m]\u001b[0m \u001b[0;34m=\u001b[0m \u001b[0msave_dict\u001b[0m\u001b[0;34m\u001b[0m\u001b[0;34m\u001b[0m\u001b[0m\n",
      "\u001b[0;32m~/anaconda3/envs/hwr5/lib/python3.7/pickle.py\u001b[0m in \u001b[0;36m_batch_setitems\u001b[0;34m(self, items)\u001b[0m\n\u001b[1;32m    880\u001b[0m                 \u001b[0;32mfor\u001b[0m \u001b[0mk\u001b[0m\u001b[0;34m,\u001b[0m \u001b[0mv\u001b[0m \u001b[0;32min\u001b[0m \u001b[0mtmp\u001b[0m\u001b[0;34m:\u001b[0m\u001b[0;34m\u001b[0m\u001b[0;34m\u001b[0m\u001b[0m\n\u001b[1;32m    881\u001b[0m                     \u001b[0msave\u001b[0m\u001b[0;34m(\u001b[0m\u001b[0mk\u001b[0m\u001b[0;34m)\u001b[0m\u001b[0;34m\u001b[0m\u001b[0;34m\u001b[0m\u001b[0m\n\u001b[0;32m--> 882\u001b[0;31m                     \u001b[0msave\u001b[0m\u001b[0;34m(\u001b[0m\u001b[0mv\u001b[0m\u001b[0;34m)\u001b[0m\u001b[0;34m\u001b[0m\u001b[0;34m\u001b[0m\u001b[0m\n\u001b[0m\u001b[1;32m    883\u001b[0m                 \u001b[0mwrite\u001b[0m\u001b[0;34m(\u001b[0m\u001b[0mSETITEMS\u001b[0m\u001b[0;34m)\u001b[0m\u001b[0;34m\u001b[0m\u001b[0;34m\u001b[0m\u001b[0m\n\u001b[1;32m    884\u001b[0m             \u001b[0;32melif\u001b[0m \u001b[0mn\u001b[0m\u001b[0;34m:\u001b[0m\u001b[0;34m\u001b[0m\u001b[0;34m\u001b[0m\u001b[0m\n",
      "\u001b[0;32m~/anaconda3/envs/hwr5/lib/python3.7/pickle.py\u001b[0m in \u001b[0;36msave\u001b[0;34m(self, obj, save_persistent_id)\u001b[0m\n\u001b[1;32m    547\u001b[0m \u001b[0;34m\u001b[0m\u001b[0m\n\u001b[1;32m    548\u001b[0m         \u001b[0;31m# Save the reduce() output and finally memoize the object\u001b[0m\u001b[0;34m\u001b[0m\u001b[0;34m\u001b[0m\u001b[0;34m\u001b[0m\u001b[0m\n\u001b[0;32m--> 549\u001b[0;31m         \u001b[0mself\u001b[0m\u001b[0;34m.\u001b[0m\u001b[0msave_reduce\u001b[0m\u001b[0;34m(\u001b[0m\u001b[0mobj\u001b[0m\u001b[0;34m=\u001b[0m\u001b[0mobj\u001b[0m\u001b[0;34m,\u001b[0m \u001b[0;34m*\u001b[0m\u001b[0mrv\u001b[0m\u001b[0;34m)\u001b[0m\u001b[0;34m\u001b[0m\u001b[0;34m\u001b[0m\u001b[0m\n\u001b[0m\u001b[1;32m    550\u001b[0m \u001b[0;34m\u001b[0m\u001b[0m\n\u001b[1;32m    551\u001b[0m     \u001b[0;32mdef\u001b[0m \u001b[0mpersistent_id\u001b[0m\u001b[0;34m(\u001b[0m\u001b[0mself\u001b[0m\u001b[0;34m,\u001b[0m \u001b[0mobj\u001b[0m\u001b[0;34m)\u001b[0m\u001b[0;34m:\u001b[0m\u001b[0;34m\u001b[0m\u001b[0;34m\u001b[0m\u001b[0m\n",
      "\u001b[0;32m~/anaconda3/envs/hwr5/lib/python3.7/pickle.py\u001b[0m in \u001b[0;36msave_reduce\u001b[0;34m(self, func, args, state, listitems, dictitems, obj)\u001b[0m\n\u001b[1;32m    660\u001b[0m \u001b[0;34m\u001b[0m\u001b[0m\n\u001b[1;32m    661\u001b[0m         \u001b[0;32mif\u001b[0m \u001b[0mstate\u001b[0m \u001b[0;32mis\u001b[0m \u001b[0;32mnot\u001b[0m \u001b[0;32mNone\u001b[0m\u001b[0;34m:\u001b[0m\u001b[0;34m\u001b[0m\u001b[0;34m\u001b[0m\u001b[0m\n\u001b[0;32m--> 662\u001b[0;31m             \u001b[0msave\u001b[0m\u001b[0;34m(\u001b[0m\u001b[0mstate\u001b[0m\u001b[0;34m)\u001b[0m\u001b[0;34m\u001b[0m\u001b[0;34m\u001b[0m\u001b[0m\n\u001b[0m\u001b[1;32m    663\u001b[0m             \u001b[0mwrite\u001b[0m\u001b[0;34m(\u001b[0m\u001b[0mBUILD\u001b[0m\u001b[0;34m)\u001b[0m\u001b[0;34m\u001b[0m\u001b[0;34m\u001b[0m\u001b[0m\n\u001b[1;32m    664\u001b[0m \u001b[0;34m\u001b[0m\u001b[0m\n",
      "\u001b[0;32m~/anaconda3/envs/hwr5/lib/python3.7/pickle.py\u001b[0m in \u001b[0;36msave\u001b[0;34m(self, obj, save_persistent_id)\u001b[0m\n\u001b[1;32m    502\u001b[0m         \u001b[0mf\u001b[0m \u001b[0;34m=\u001b[0m \u001b[0mself\u001b[0m\u001b[0;34m.\u001b[0m\u001b[0mdispatch\u001b[0m\u001b[0;34m.\u001b[0m\u001b[0mget\u001b[0m\u001b[0;34m(\u001b[0m\u001b[0mt\u001b[0m\u001b[0;34m)\u001b[0m\u001b[0;34m\u001b[0m\u001b[0;34m\u001b[0m\u001b[0m\n\u001b[1;32m    503\u001b[0m         \u001b[0;32mif\u001b[0m \u001b[0mf\u001b[0m \u001b[0;32mis\u001b[0m \u001b[0;32mnot\u001b[0m \u001b[0;32mNone\u001b[0m\u001b[0;34m:\u001b[0m\u001b[0;34m\u001b[0m\u001b[0;34m\u001b[0m\u001b[0m\n\u001b[0;32m--> 504\u001b[0;31m             \u001b[0mf\u001b[0m\u001b[0;34m(\u001b[0m\u001b[0mself\u001b[0m\u001b[0;34m,\u001b[0m \u001b[0mobj\u001b[0m\u001b[0;34m)\u001b[0m \u001b[0;31m# Call unbound method with explicit self\u001b[0m\u001b[0;34m\u001b[0m\u001b[0;34m\u001b[0m\u001b[0m\n\u001b[0m\u001b[1;32m    505\u001b[0m             \u001b[0;32mreturn\u001b[0m\u001b[0;34m\u001b[0m\u001b[0;34m\u001b[0m\u001b[0m\n\u001b[1;32m    506\u001b[0m \u001b[0;34m\u001b[0m\u001b[0m\n",
      "\u001b[0;32m~/anaconda3/envs/hwr5/lib/python3.7/site-packages/dill/_dill.py\u001b[0m in \u001b[0;36msave_module_dict\u001b[0;34m(pickler, obj)\u001b[0m\n\u001b[1;32m    910\u001b[0m             \u001b[0;31m# we only care about session the first pass thru\u001b[0m\u001b[0;34m\u001b[0m\u001b[0;34m\u001b[0m\u001b[0;34m\u001b[0m\u001b[0m\n\u001b[1;32m    911\u001b[0m             \u001b[0mpickler\u001b[0m\u001b[0;34m.\u001b[0m\u001b[0m_session\u001b[0m \u001b[0;34m=\u001b[0m \u001b[0;32mFalse\u001b[0m\u001b[0;34m\u001b[0m\u001b[0;34m\u001b[0m\u001b[0m\n\u001b[0;32m--> 912\u001b[0;31m         \u001b[0mStockPickler\u001b[0m\u001b[0;34m.\u001b[0m\u001b[0msave_dict\u001b[0m\u001b[0;34m(\u001b[0m\u001b[0mpickler\u001b[0m\u001b[0;34m,\u001b[0m \u001b[0mobj\u001b[0m\u001b[0;34m)\u001b[0m\u001b[0;34m\u001b[0m\u001b[0;34m\u001b[0m\u001b[0m\n\u001b[0m\u001b[1;32m    913\u001b[0m         \u001b[0mlog\u001b[0m\u001b[0;34m.\u001b[0m\u001b[0minfo\u001b[0m\u001b[0;34m(\u001b[0m\u001b[0;34m\"# D2\"\u001b[0m\u001b[0;34m)\u001b[0m\u001b[0;34m\u001b[0m\u001b[0;34m\u001b[0m\u001b[0m\n\u001b[1;32m    914\u001b[0m     \u001b[0;32mreturn\u001b[0m\u001b[0;34m\u001b[0m\u001b[0;34m\u001b[0m\u001b[0m\n",
      "\u001b[0;32m~/anaconda3/envs/hwr5/lib/python3.7/pickle.py\u001b[0m in \u001b[0;36msave_dict\u001b[0;34m(self, obj)\u001b[0m\n\u001b[1;32m    854\u001b[0m \u001b[0;34m\u001b[0m\u001b[0m\n\u001b[1;32m    855\u001b[0m         \u001b[0mself\u001b[0m\u001b[0;34m.\u001b[0m\u001b[0mmemoize\u001b[0m\u001b[0;34m(\u001b[0m\u001b[0mobj\u001b[0m\u001b[0;34m)\u001b[0m\u001b[0;34m\u001b[0m\u001b[0;34m\u001b[0m\u001b[0m\n\u001b[0;32m--> 856\u001b[0;31m         \u001b[0mself\u001b[0m\u001b[0;34m.\u001b[0m\u001b[0m_batch_setitems\u001b[0m\u001b[0;34m(\u001b[0m\u001b[0mobj\u001b[0m\u001b[0;34m.\u001b[0m\u001b[0mitems\u001b[0m\u001b[0;34m(\u001b[0m\u001b[0;34m)\u001b[0m\u001b[0;34m)\u001b[0m\u001b[0;34m\u001b[0m\u001b[0;34m\u001b[0m\u001b[0m\n\u001b[0m\u001b[1;32m    857\u001b[0m \u001b[0;34m\u001b[0m\u001b[0m\n\u001b[1;32m    858\u001b[0m     \u001b[0mdispatch\u001b[0m\u001b[0;34m[\u001b[0m\u001b[0mdict\u001b[0m\u001b[0;34m]\u001b[0m \u001b[0;34m=\u001b[0m \u001b[0msave_dict\u001b[0m\u001b[0;34m\u001b[0m\u001b[0;34m\u001b[0m\u001b[0m\n",
      "\u001b[0;32m~/anaconda3/envs/hwr5/lib/python3.7/pickle.py\u001b[0m in \u001b[0;36m_batch_setitems\u001b[0;34m(self, items)\u001b[0m\n\u001b[1;32m    880\u001b[0m                 \u001b[0;32mfor\u001b[0m \u001b[0mk\u001b[0m\u001b[0;34m,\u001b[0m \u001b[0mv\u001b[0m \u001b[0;32min\u001b[0m \u001b[0mtmp\u001b[0m\u001b[0;34m:\u001b[0m\u001b[0;34m\u001b[0m\u001b[0;34m\u001b[0m\u001b[0m\n\u001b[1;32m    881\u001b[0m                     \u001b[0msave\u001b[0m\u001b[0;34m(\u001b[0m\u001b[0mk\u001b[0m\u001b[0;34m)\u001b[0m\u001b[0;34m\u001b[0m\u001b[0;34m\u001b[0m\u001b[0m\n\u001b[0;32m--> 882\u001b[0;31m                     \u001b[0msave\u001b[0m\u001b[0;34m(\u001b[0m\u001b[0mv\u001b[0m\u001b[0;34m)\u001b[0m\u001b[0;34m\u001b[0m\u001b[0;34m\u001b[0m\u001b[0m\n\u001b[0m\u001b[1;32m    883\u001b[0m                 \u001b[0mwrite\u001b[0m\u001b[0;34m(\u001b[0m\u001b[0mSETITEMS\u001b[0m\u001b[0;34m)\u001b[0m\u001b[0;34m\u001b[0m\u001b[0;34m\u001b[0m\u001b[0m\n\u001b[1;32m    884\u001b[0m             \u001b[0;32melif\u001b[0m \u001b[0mn\u001b[0m\u001b[0;34m:\u001b[0m\u001b[0;34m\u001b[0m\u001b[0;34m\u001b[0m\u001b[0m\n",
      "\u001b[0;32m~/anaconda3/envs/hwr5/lib/python3.7/pickle.py\u001b[0m in \u001b[0;36msave\u001b[0;34m(self, obj, save_persistent_id)\u001b[0m\n\u001b[1;32m    522\u001b[0m             \u001b[0mreduce\u001b[0m \u001b[0;34m=\u001b[0m \u001b[0mgetattr\u001b[0m\u001b[0;34m(\u001b[0m\u001b[0mobj\u001b[0m\u001b[0;34m,\u001b[0m \u001b[0;34m\"__reduce_ex__\"\u001b[0m\u001b[0;34m,\u001b[0m \u001b[0;32mNone\u001b[0m\u001b[0;34m)\u001b[0m\u001b[0;34m\u001b[0m\u001b[0;34m\u001b[0m\u001b[0m\n\u001b[1;32m    523\u001b[0m             \u001b[0;32mif\u001b[0m \u001b[0mreduce\u001b[0m \u001b[0;32mis\u001b[0m \u001b[0;32mnot\u001b[0m \u001b[0;32mNone\u001b[0m\u001b[0;34m:\u001b[0m\u001b[0;34m\u001b[0m\u001b[0;34m\u001b[0m\u001b[0m\n\u001b[0;32m--> 524\u001b[0;31m                 \u001b[0mrv\u001b[0m \u001b[0;34m=\u001b[0m \u001b[0mreduce\u001b[0m\u001b[0;34m(\u001b[0m\u001b[0mself\u001b[0m\u001b[0;34m.\u001b[0m\u001b[0mproto\u001b[0m\u001b[0;34m)\u001b[0m\u001b[0;34m\u001b[0m\u001b[0;34m\u001b[0m\u001b[0m\n\u001b[0m\u001b[1;32m    525\u001b[0m             \u001b[0;32melse\u001b[0m\u001b[0;34m:\u001b[0m\u001b[0;34m\u001b[0m\u001b[0;34m\u001b[0m\u001b[0m\n\u001b[1;32m    526\u001b[0m                 \u001b[0mreduce\u001b[0m \u001b[0;34m=\u001b[0m \u001b[0mgetattr\u001b[0m\u001b[0;34m(\u001b[0m\u001b[0mobj\u001b[0m\u001b[0;34m,\u001b[0m \u001b[0;34m\"__reduce__\"\u001b[0m\u001b[0;34m,\u001b[0m \u001b[0;32mNone\u001b[0m\u001b[0;34m)\u001b[0m\u001b[0;34m\u001b[0m\u001b[0;34m\u001b[0m\u001b[0m\n",
      "\u001b[0;31mTypeError\u001b[0m: can't pickle ImagingCore objects"
     ]
    }
   ],
   "source": [
    "import dill\n",
    "dill.dump_session('notebook_env.db')\n",
    "#dill.load_session('notebook_env.db')\n",
    "\n",
    "print(output)"
   ]
  },
  {
   "cell_type": "code",
   "execution_count": 47,
   "metadata": {},
   "outputs": [
    {
     "name": "stdout",
     "output_type": "stream",
     "text": [
      "0.008916861 0.9953917 0.0025406505 5.3824883\n",
      "0.00891686137765646 0.9953917264938354 0.0025406505446881056 5.382488250732422\n"
     ]
    }
   ],
   "source": [
    "## DRAW THE IMAGE\n",
    "#Pillow-simd\n",
    "\n",
    "from PIL import Image, ImageDraw\n",
    "\n",
    "def gt_to_raw(instance):\n",
    "    start_points = np.array(stroke_recovery.relativefy(instance[:,2]))\n",
    "    start_indices = np.argwhere(start_points==1).astype(int).reshape(-1)\n",
    "    l = np.split(instance[:,0:2], start_indices)\n",
    "    output = []\n",
    "\n",
    "    for item in l:\n",
    "        if item.shape[0]:\n",
    "            output.append({\"x\": item[:,0].tolist(), \"y\": item[:,1].tolist()})\n",
    "    return output\n",
    "\n",
    "def gt_to_pil_format(instance):\n",
    "    start_points = stroke_recovery.relativefy(instance[:,2])\n",
    "    start_indices = np.argwhere(start_points==1).astype(int).reshape(-1)\n",
    "    l = np.split(instance[:, 0:2], start_indices)\n",
    "    return l\n",
    "\n",
    "def get_x_to_y_from_gt(instance):\n",
    "    x_max = np.max(instance[:,0])\n",
    "    x_min = np.min(instance[:,0])\n",
    "    y_min = np.min(instance[:,1])\n",
    "    y_max = np.max(instance[:,1])    \n",
    "    print(y_min, y_max, x_min, x_max)\n",
    "    return (x_max-x_min)/(y_max-y_min)\n",
    "\n",
    "def get_x_to_y_from_raw(instance):\n",
    "    y_min = min([min(x[\"y\"]) for x in instance])\n",
    "    y_max = max([max(x[\"y\"]) for x in instance])\n",
    "    x_min = min([min(x[\"x\"]) for x in instance])\n",
    "    x_max = max([max(x[\"x\"]) for x in instance])\n",
    "    print(y_min, y_max, x_min, x_max)\n",
    "    return (x_max-x_min)/(y_max-y_min)\n",
    "    \n",
    "def draw_from_raw(raw, save_path=None, height=60):\n",
    "    x_to_y = get_x_to_y_from_raw(raw)   \n",
    "    width = int(x_to_y * height)\n",
    "    \n",
    "    img  = Image.new(\"L\", (width, height), 255)\n",
    "    draw = ImageDraw.Draw(img)\n",
    "\n",
    "    for line in raw:\n",
    "        coords = zip((np.array(line[\"x\"])*height), (np.array(line[\"y\"])*height))\n",
    "        coords = list(coords)\n",
    "        draw.line(coords, fill=0, width=1)\n",
    "\n",
    "    data = np.array(img)[::-1] # invert the y-axis\n",
    "\n",
    "    img = Image.fromarray(data, 'L')\n",
    "    if save_path:\n",
    "        img.save(save_path)\n",
    "    else:\n",
    "        img.show()\n",
    "\n",
    "def draw_from_gt(gt, save_path=None, height=60):\n",
    "    x_to_y = get_x_to_y_from_gt(gt)   \n",
    "    width = int(x_to_y * height)\n",
    "    \n",
    "    # Rescale the PIL format\n",
    "    gt_rescaled = gt.copy()\n",
    "    gt_rescaled[:,0:2] = gt_rescaled[:,0:2] * height\n",
    "    \n",
    "    pil_format = gt_to_pil_format(gt_rescaled)     \n",
    "    img  = Image.new(\"L\", (width, height), 255)\n",
    "    draw = ImageDraw.Draw(img)\n",
    "    \n",
    "    for line in pil_format:\n",
    "        if line.size:\n",
    "            line = line.flatten().tolist()\n",
    "            draw.line(line, fill=0, width=1)\n",
    "            \n",
    "    data = np.array(img)[::-1] # invert the y-axis\n",
    "\n",
    "    img = Image.fromarray(data, 'L')\n",
    "    if save_path:\n",
    "        img.save(save_path)\n",
    "    else:\n",
    "        img.show()\n",
    "\n",
    "def loader():\n",
    "    folder = Path(\"online_coordinate_data/3_stroke_vSmall\")\n",
    "    folder = Path(\"online_coordinate_data/8_stroke_vSmall_16\")\n",
    "    folder = Path(\"online_coordinate_data/MAX_stroke_vTEST_AUGMENTFull\")\n",
    "\n",
    "    print(os.getcwd())\n",
    "    x_relative_positions = True\n",
    "    test_size = 5\n",
    "    train_size = None\n",
    "    batch_size=32\n",
    "\n",
    "    test_dataset=StrokeRecoveryDataset([folder / \"test_online_coords.json\"],\n",
    "                            img_height = 60,\n",
    "                            num_of_channels = 1.,\n",
    "                            max_images_to_load = test_size,\n",
    "                            root=r\"../../data\",\n",
    "                            )\n",
    "\n",
    "    test_dataloader = DataLoader(test_dataset,\n",
    "                                  batch_size=batch_size,\n",
    "                                  shuffle=True,\n",
    "                                  num_workers=3,\n",
    "                                  collate_fn=test_dataset.collate,\n",
    "                                  pin_memory=False)\n",
    "\n",
    "    device=\"cuda\"\n",
    "    globals().update(locals())\n",
    "    return test_dataloader\n",
    "\n",
    "def get_instance():\n",
    "#     if not 'test_dataloader' in globals():\n",
    "#         test_dataloader = loader()\n",
    "    example = next(iter(test_dataloader)) # BATCH, WIDTH, VOCAB\n",
    "    instance = example[\"gt_list\"][0].numpy()\n",
    "    return instance, example\n",
    "def test_drawing():\n",
    "    instance, example = get_instance()\n",
    "    \n",
    "    draw_from_gt(instance)\n",
    "    draw_from_raw(gt_to_raw(example[\"gt_list\"][0]))\n",
    "\n",
    "test_drawing()"
   ]
  },
  {
   "cell_type": "code",
   "execution_count": 119,
   "metadata": {},
   "outputs": [
    {
     "name": "stdout",
     "output_type": "stream",
     "text": [
      "dict_keys(['line_imgs', 'gt', 'gt_list', 'gt_format', 'label_lengths', 'paths', 'x_func', 'y_func', 'start_times'])\n"
     ]
    }
   ],
   "source": [
    "print(example.keys())"
   ]
  },
  {
   "cell_type": "code",
   "execution_count": 168,
   "metadata": {},
   "outputs": [],
   "source": [
    "# Test draw\n",
    "img  = Image.new(\"L\", (50, 60), 255)\n",
    "draw = ImageDraw.Draw(img)\n",
    "draw.line([(0,0), (50,50)])\n",
    "img.show()"
   ]
  },
  {
   "cell_type": "code",
   "execution_count": 1,
   "metadata": {},
   "outputs": [
    {
     "ename": "ImportError",
     "evalue": "cannot import name 'Image' from 'PIL' (unknown location)",
     "output_type": "error",
     "traceback": [
      "\u001b[0;31m---------------------------------------------------------------------------\u001b[0m",
      "\u001b[0;31mImportError\u001b[0m                               Traceback (most recent call last)",
      "\u001b[0;32m<ipython-input-1-a080b7565c3a>\u001b[0m in \u001b[0;36m<module>\u001b[0;34m\u001b[0m\n\u001b[0;32m----> 1\u001b[0;31m \u001b[0;32mfrom\u001b[0m \u001b[0mPIL\u001b[0m \u001b[0;32mimport\u001b[0m \u001b[0mImage\u001b[0m\u001b[0;34m,\u001b[0m \u001b[0mImageDraw\u001b[0m\u001b[0;34m\u001b[0m\u001b[0;34m\u001b[0m\u001b[0m\n\u001b[0m",
      "\u001b[0;31mImportError\u001b[0m: cannot import name 'Image' from 'PIL' (unknown location)"
     ]
    }
   ],
   "source": [
    "warp_points\n"
   ]
  },
  {
   "cell_type": "code",
   "execution_count": 20,
   "metadata": {},
   "outputs": [],
   "source": [
    "x = np.random.randint(5,10,(10,10))"
   ]
  },
  {
   "cell_type": "code",
   "execution_count": 30,
   "metadata": {},
   "outputs": [
    {
     "data": {
      "text/plain": [
       "array([[0, 0, 0, 0, 0, 0, 0, 0, 0, 0, 0, 0, 0, 0, 0],\n",
       "       [0, 0, 6, 7, 7, 9, 5, 9, 5, 6, 9, 5, 0, 0, 0],\n",
       "       [0, 0, 6, 8, 5, 8, 5, 8, 6, 8, 7, 7, 0, 0, 0],\n",
       "       [0, 0, 9, 9, 8, 8, 6, 9, 7, 5, 8, 7, 0, 0, 0],\n",
       "       [0, 0, 7, 8, 7, 6, 9, 9, 7, 7, 9, 7, 0, 0, 0],\n",
       "       [0, 0, 6, 5, 8, 8, 7, 5, 9, 9, 6, 9, 0, 0, 0],\n",
       "       [0, 0, 6, 9, 7, 5, 7, 8, 9, 6, 6, 6, 0, 0, 0],\n",
       "       [0, 0, 6, 9, 7, 7, 6, 6, 8, 8, 7, 6, 0, 0, 0],\n",
       "       [0, 0, 5, 7, 6, 8, 5, 6, 9, 6, 6, 7, 0, 0, 0],\n",
       "       [0, 0, 7, 6, 8, 7, 6, 5, 5, 8, 6, 8, 0, 0, 0],\n",
       "       [0, 0, 6, 9, 5, 7, 9, 8, 8, 6, 9, 5, 0, 0, 0],\n",
       "       [0, 0, 0, 0, 0, 0, 0, 0, 0, 0, 0, 0, 0, 0, 0],\n",
       "       [0, 0, 0, 0, 0, 0, 0, 0, 0, 0, 0, 0, 0, 0, 0],\n",
       "       [0, 0, 0, 0, 0, 0, 0, 0, 0, 0, 0, 0, 0, 0, 0],\n",
       "       [0, 0, 0, 0, 0, 0, 0, 0, 0, 0, 0, 0, 0, 0, 0]])"
      ]
     },
     "execution_count": 30,
     "metadata": {},
     "output_type": "execute_result"
    }
   ],
   "source": [
    "top = 1\n",
    "bottom = 4\n",
    "left = 2\n",
    "right = 3\n",
    "\n",
    "np.pad(x, ((top,bottom),(left,right)))\n"
   ]
  },
  {
   "cell_type": "code",
   "execution_count": 31,
   "metadata": {},
   "outputs": [],
   "source": [
    "y = x[0]+1"
   ]
  },
  {
   "cell_type": "code",
   "execution_count": 32,
   "metadata": {},
   "outputs": [
    {
     "name": "stdout",
     "output_type": "stream",
     "text": [
      "[ 7  8  8 10  6 10  6  7 10  6]\n"
     ]
    }
   ],
   "source": [
    "print(y)"
   ]
  },
  {
   "cell_type": "code",
   "execution_count": 33,
   "metadata": {},
   "outputs": [
    {
     "name": "stdout",
     "output_type": "stream",
     "text": [
      "[[6 7 7 9 5 9 5 6 9 5]\n",
      " [6 8 5 8 5 8 6 8 7 7]\n",
      " [9 9 8 8 6 9 7 5 8 7]\n",
      " [7 8 7 6 9 9 7 7 9 7]\n",
      " [6 5 8 8 7 5 9 9 6 9]\n",
      " [6 9 7 5 7 8 9 6 6 6]\n",
      " [6 9 7 7 6 6 8 8 7 6]\n",
      " [5 7 6 8 5 6 9 6 6 7]\n",
      " [7 6 8 7 6 5 5 8 6 8]\n",
      " [6 9 5 7 9 8 8 6 9 5]]\n"
     ]
    }
   ],
   "source": [
    "print(x)"
   ]
  },
  {
   "cell_type": "code",
   "execution_count": 100,
   "metadata": {},
   "outputs": [
    {
     "name": "stdout",
     "output_type": "stream",
     "text": [
      "(247, 4)\n",
      "Top 4\n",
      "Bottom 4\n",
      "Right 14\n",
      "Left 14\n",
      "0.20535398 5.0190973 0.058672562 0.9413275\n"
     ]
    },
    {
     "data": {
      "text/plain": [
       "array([[255, 255, 255, ..., 255, 255, 255],\n",
       "       [255, 255, 255, ..., 255, 255, 255],\n",
       "       [255, 255, 255, ..., 255, 255, 255],\n",
       "       ...,\n",
       "       [255, 255, 255, ..., 255, 255, 255],\n",
       "       [255, 255, 255, ..., 255, 255, 255],\n",
       "       [255, 255, 255, ..., 255, 255, 255]], dtype=uint8)"
      ]
     },
     "execution_count": 100,
     "metadata": {},
     "output_type": "execute_result"
    }
   ],
   "source": [
    "from stroke_plotting import *\n",
    "instance, example = get_instance()\n",
    "\n",
    "print(instance.shape)\n",
    "img = draw_from_gt(instance, show=False)\n",
    "new_gt, new_img = random_pad(instance, img, 20, 20)\n",
    "\n",
    "img = Image.fromarray(new_img, 'L')\n",
    "img.show()\n",
    "draw_from_gt(new_gt, show=True)\n"
   ]
  },
  {
   "cell_type": "code",
   "execution_count": 147,
   "metadata": {},
   "outputs": [
    {
     "name": "stdout",
     "output_type": "stream",
     "text": [
      "(247, 4)\n",
      "0.0025406505 5.3824883 0.008916861 0.9953917\n",
      "0.0025406505 5.3824883 0.008916861 0.9953917\n"
     ]
    },
    {
     "data": {
      "text/plain": [
       "array([[255, 255, 255, ..., 255, 255, 255],\n",
       "       [255, 255, 255, ..., 255, 255, 255],\n",
       "       [255, 255, 255, ..., 255, 255, 255],\n",
       "       ...,\n",
       "       [255, 255, 255, ..., 255, 255, 255],\n",
       "       [255, 255, 255, ..., 255, 255, 255],\n",
       "       [255, 255, 255, ..., 255, 255, 255]], dtype=uint8)"
      ]
     },
     "execution_count": 147,
     "metadata": {},
     "output_type": "execute_result"
    }
   ],
   "source": [
    "#loader()\n",
    "from stroke_plotting import *\n",
    "instance, example = get_instance()\n",
    "\n",
    "print(instance.shape)\n",
    "get_x_y_min_max_from_gt(instance)\n",
    "img = draw_from_gt(instance, show=True)\n",
    "new_gt = random_pad(instance, 15, 15)\n",
    "draw_from_gt(new_gt, show=True, right_padding=\"random\")\n"
   ]
  },
  {
   "cell_type": "code",
   "execution_count": 254,
   "metadata": {},
   "outputs": [
    {
     "name": "stdout",
     "output_type": "stream",
     "text": [
      "[[1.         1.         1.         ... 1.         1.         1.        ]\n",
      " [1.         1.         1.         ... 1.         1.         1.        ]\n",
      " [0.99898241 0.99962966 0.99996103 ... 1.         1.         1.        ]\n",
      " ...\n",
      " [1.         1.         1.         ... 1.         1.         1.        ]\n",
      " [1.         1.         1.         ... 1.         1.         1.        ]\n",
      " [1.         1.         1.         ... 1.         1.         1.        ]]\n"
     ]
    }
   ],
   "source": [
    "from hwr_utils.grid_distortion  import *\n",
    "img = draw_from_gt(instance, show=True)\n",
    "img = blur(img.copy() / 127.5 - 1.0, max_intensity=1.1)\n",
    "print(img)\n",
    "img = (img + 1.0) * 127.5\n",
    "f = Image.fromarray(np.uint8(img), 'L')\n",
    "f.show()\n",
    "\n"
   ]
  },
  {
   "cell_type": "code",
   "execution_count": 251,
   "metadata": {},
   "outputs": [],
   "source": [
    "from hwr_utils.grid_distortion import *\n",
    "img = draw_from_gt(instance, show=True)\n",
    "img = Image.fromarray(img, 'L')\n",
    "img.show()\n",
    "\n",
    "if False:\n",
    "    img = warp_points(instance, random_state=None)\n",
    "    img = np.c_[img, instance[:,2]]\n"
   ]
  },
  {
   "cell_type": "code",
   "execution_count": 381,
   "metadata": {},
   "outputs": [],
   "source": [
    "## DISTORT IMAGE\n",
    "from hwr_utils.grid_distortion  import *\n",
    "img_prime = draw_from_gt(instance, show=False, max_width=3)\n",
    "for i in range(0,1):\n",
    "    img = img_prime.copy()\n",
    "    if True:\n",
    "        img = gaussian_noise(\n",
    "                blur(\n",
    "                    random_distortions(img_prime.copy()),\n",
    "                    max_intensity=1.3),\n",
    "                max_intensity=.1)\n",
    "    f = Image.fromarray(np.uint8(img), 'L')\n",
    "    #f.show()\n",
    "# Render GT on top of image\n",
    "f = f.convert(\"RGB\")\n",
    "img_prime = draw_from_gt(instance, show=False, linewidth=1, color=[255,0,0], alpha=True)\n",
    "gt = Image.fromarray(np.uint8(img_prime), 'RGBA')\n",
    "f.paste(gt, (0, 0), gt)\n",
    "f.show()\n",
    "\n",
    "#f = Image.fromarray(np.uint8(img), 'L')\n",
    "    \n"
   ]
  },
  {
   "cell_type": "code",
   "execution_count": 288,
   "metadata": {},
   "outputs": [
    {
     "data": {
      "text/plain": [
       "(array([686.,   0.,   0., 268.,   0.,   0.,  43.,   0.,   0.,   3.]),\n",
       " array([1. , 1.3, 1.6, 1.9, 2.2, 2.5, 2.8, 3.1, 3.4, 3.7, 4. ]),\n",
       " <a list of 10 Patch objects>)"
      ]
     },
     "execution_count": 288,
     "metadata": {},
     "output_type": "execute_result"
    },
    {
     "data": {
      "image/png": "[encoded data removed]",
      "text/plain": [
       "<Figure size 432x288 with 1 Axes>"
      ]
     },
     "metadata": {
      "needs_background": "light"
     },
     "output_type": "display_data"
    }
   ],
   "source": [
    "from matplotlib import pyplot as plt\n",
    "l = []\n",
    "max_width = 3\n",
    "for i in range(1000):\n",
    "    l.append(max(int(abs(np.random.randn())*(max_width-1)*.5 + 1 ),1))\n",
    "\n",
    "plt.hist(l)"
   ]
  },
  {
   "cell_type": "code",
   "execution_count": 332,
   "metadata": {},
   "outputs": [],
   "source": [
    "### WARP\n",
    "from hwr_utils.grid_distortion  import *\n",
    "\n",
    "for i in range(10):\n",
    "    gt = instance.copy()\n",
    "    height = 61\n",
    "    x = warp_points(gt*height)/height # convert to pixel space\n",
    "    x = np.c_[x, instance[:,2]]\n",
    "    img = draw_from_gt(x, show=True, max_width=2, save_path=\"./warp.png\")\n"
   ]
  },
  {
   "cell_type": "code",
   "execution_count": 303,
   "metadata": {},
   "outputs": [
    {
     "name": "stdout",
     "output_type": "stream",
     "text": [
      "(5, 2)\n",
      "[[0.         1.5344248 ]\n",
      " [3.1491663  3.9160643 ]\n",
      " [4.9054227  0.36522734]\n",
      " [2.0772712  2.7252445 ]\n",
      " [4.2210603  5.106885  ]]\n"
     ]
    }
   ],
   "source": [
    "m = np.array([[0,2,3,4,5],[0,2,3,4,5]])\n",
    "m = m.reshape(-1,2)\n",
    "print(m.shape)\n",
    "x = warp_points(m)\n",
    "print(x)"
   ]
  },
  {
   "cell_type": "code",
   "execution_count": 333,
   "metadata": {},
   "outputs": [],
   "source": [
    "f.show()\n",
    "\n"
   ]
  },
  {
   "cell_type": "code",
   "execution_count": 360,
   "metadata": {},
   "outputs": [],
   "source": [
    "im = Image.fromarray(np.uint8(img), 'L')\n",
    "transparent_area = (0,0,50,50)\n",
    "\n",
    "mask=Image.new('L', im.size, color=255)\n",
    "draw=ImageDraw.Draw(mask) \n",
    "draw.rectangle(transparent_area, fill=0)\n",
    "im.putalpha(mask)\n",
    "im.show()"
   ]
  },
  {
   "cell_type": "code",
   "execution_count": 56,
   "metadata": {},
   "outputs": [
    {
     "name": "stdout",
     "output_type": "stream",
     "text": [
      "2020-01-18T12:17:04.781716-07:00\n"
     ]
    }
   ],
   "source": [
    "import pytz\n",
    "import datetime\n",
    "MYTIMEZONE = pytz.timezone('US/Mountain')\n",
    "\n",
    "start_time = datetime.datetime.today().replace(tzinfo=MYTIMEZONE).isoformat()\n",
    "print(start_time)"
   ]
  },
  {
   "cell_type": "code",
   "execution_count": 57,
   "metadata": {},
   "outputs": [
    {
     "data": {
      "text/plain": [
       "{'Description': 'https://nhmu.utah.edu/free-days-nhmu\\nAlways free:\\nUtah Museum of Fine Arts : Free with EBT\\nClark Planetarium : Always Free; 110 400 W, Salt Lake City, UT\\nHill Aerospace Museum : Always Free; (Ogden) 7961 Wardleigh Rd, Hill AFB, UT 84056\\nThanksgiving Point : $2 per person, up to six people, with EBT',\n",
       " 'Subject': 'Natural History Museum of Utah',\n",
       " 'Start Date': '03/03/2020',\n",
       " 'End Date': '03/03/2020',\n",
       " 'Start Time': 0.4166666666666667}"
      ]
     },
     "execution_count": 57,
     "metadata": {},
     "output_type": "execute_result"
    }
   ],
   "source": [
    "{'Description': 'https://nhmu.utah.edu/free-days-nhmu\\nAlways free:\\nUtah Museum of Fine Arts : Free with EBT\\nClark Planetarium : Always Free; 110 400 W, Salt Lake City, UT\\nHill Aerospace Museum : Always Free; (Ogden) 7961 Wardleigh Rd, Hill AFB, UT 84056\\nThanksgiving Point : $2 per person, up to six people, with EBT', 'Subject': 'Natural History Museum of Utah', 'Start Date': '03/03/2020', 'End Date': '03/03/2020', 'Start Time': 0.4166666666666667}"
   ]
  },
  {
   "cell_type": "code",
   "execution_count": 61,
   "metadata": {},
   "outputs": [
    {
     "ename": "TypeError",
     "evalue": "integer argument expected, got float",
     "output_type": "error",
     "traceback": [
      "\u001b[0;31m---------------------------------------------------------------------------\u001b[0m",
      "\u001b[0;31mTypeError\u001b[0m                                 Traceback (most recent call last)",
      "\u001b[0;32m<ipython-input-61-34e0e75bc4c4>\u001b[0m in \u001b[0;36m<module>\u001b[0;34m\u001b[0m\n\u001b[0;32m----> 1\u001b[0;31m \u001b[0mdatetime\u001b[0m\u001b[0;34m.\u001b[0m\u001b[0mtime\u001b[0m\u001b[0;34m(\u001b[0m\u001b[0;36m.4\u001b[0m\u001b[0;34m*\u001b[0m\u001b[0;36m24\u001b[0m\u001b[0;34m)\u001b[0m\u001b[0;34m\u001b[0m\u001b[0;34m\u001b[0m\u001b[0m\n\u001b[0m",
      "\u001b[0;31mTypeError\u001b[0m: integer argument expected, got float"
     ]
    }
   ],
   "source": [
    "datetime.time(.4*24)"
   ]
  },
  {
   "cell_type": "code",
   "execution_count": 60,
   "metadata": {},
   "outputs": [
    {
     "data": {
      "text/plain": [
       "datetime.time(4, 0)"
      ]
     },
     "execution_count": 60,
     "metadata": {},
     "output_type": "execute_result"
    }
   ],
   "source": [
    "datetime.time(.4)"
   ]
  },
  {
   "cell_type": "code",
   "execution_count": 64,
   "metadata": {},
   "outputs": [
    {
     "name": "stdout",
     "output_type": "stream",
     "text": [
      "19 24 0\n"
     ]
    },
    {
     "data": {
      "text/plain": [
       "datetime.time(19, 24)"
      ]
     },
     "execution_count": 64,
     "metadata": {},
     "output_type": "execute_result"
    }
   ],
   "source": [
    "def time_from_decimal_hrs(hrs):\n",
    "    hours = int(hrs)\n",
    "    minutes = int((hrs*60) % 60)\n",
    "    seconds = int((hrs*3600) % 60)\n",
    "    return datetime.time(hours, minutes, seconds)\n",
    "time_from_decimal_hrs(19.4)\n"
   ]
  },
  {
   "cell_type": "code",
   "execution_count": 65,
   "metadata": {},
   "outputs": [
    {
     "data": {
      "text/plain": [
       "datetime.time(13, 16, 11, 649479)"
      ]
     },
     "execution_count": 65,
     "metadata": {},
     "output_type": "execute_result"
    }
   ],
   "source": [
    "datetime.datetime.now().time()"
   ]
  },
  {
   "cell_type": "code",
   "execution_count": 82,
   "metadata": {},
   "outputs": [
    {
     "data": {
      "text/plain": [
       "PosixPath('/media/myraw.csv')"
      ]
     },
     "execution_count": 82,
     "metadata": {},
     "output_type": "execute_result"
    }
   ],
   "source": [
    "from pathlib import Path\n",
    "Path.__add__ = lambda self, rhs: Path(self.parent / \"{}{}\".format(self.stem,rhs)).with_suffix(self.suffix)\n",
    "\n",
    "x = Path(\"/media/my.csv\")\n",
    "x + \"raw\"\n"
   ]
  },
  {
   "cell_type": "code",
   "execution_count": 85,
   "metadata": {},
   "outputs": [
    {
     "data": {
      "text/plain": [
       "False"
      ]
     },
     "execution_count": 85,
     "metadata": {},
     "output_type": "execute_result"
    }
   ],
   "source": [
    "from collections import OrderedDict\n",
    "x = [OrderedDict([('Subject', 'Tracy Aviary'), ('Date', 43501), ('Time', ''), ('Info', ''), ('Location', '')]), OrderedDict([('Subject', 'Utah Museum of Fine Arts'), ('Date', 'Always'), ('Time', ''), ('Info', 'Free with EBT'), ('Location', '')]), OrderedDict([('Subject', 'Natural History Museum of Utah (GET TICKETS!)'), ('Date', 43893), ('Time', 0.4166666666666667), ('Info', 'https://nhmu.utah.edu/free-days-nhmu'), ('Location', '301 Wakara Way, Salt Lake City, UT 84108')]), OrderedDict([('Subject', 'Natural History Museum of Utah (GET TICKETS!)'), ('Date', 43984), ('Time', 0.4166666666666667), ('Info', 'https://nhmu.utah.edu/free-days-nhmu'), ('Location', '301 Wakara Way, Salt Lake City, UT 84108')]), OrderedDict([('Subject', 'Natural History Museum of Utah (GET TICKETS!)'), ('Date', 44075), ('Time', 0.4166666666666667), ('Info', 'https://nhmu.utah.edu/free-days-nhmu'), ('Location', '301 Wakara Way, Salt Lake City, UT 84108')]), OrderedDict([('Subject', 'Butte Garden'), ('Date', 43945), ('Time', ''), ('Info', ''), ('Location', '300 Wakara Way, Salt Lake City, UT 84108')]), OrderedDict([('Subject', 'Butte Garden'), ('Date', 44036), ('Time', ''), ('Info', ''), ('Location', '300 Wakara Way, Salt Lake City, UT 84108')]), OrderedDict([('Subject', 'Butte Garden'), ('Date', 44081), ('Time', ''), ('Info', ''), ('Location', '300 Wakara Way, Salt Lake City, UT 84108')]), OrderedDict([('Subject', 'Butte Garden'), ('Date', 44109), ('Time', ''), ('Info', ''), ('Location', '300 Wakara Way, Salt Lake City, UT 84108')]), OrderedDict([('Subject', 'Butte Garden'), ('Date', 44170), ('Time', ''), ('Info', ''), ('Location', '300 Wakara Way, Salt Lake City, UT 84108')]), OrderedDict([('Subject', 'Butte Garden'), ('Date', 44171), ('Time', ''), ('Info', ''), ('Location', '300 Wakara Way, Salt Lake City, UT 84108')]), OrderedDict([('Subject', 'Clark Planetarium'), ('Date', 'Always'), ('Time', ''), ('Info', 'Always Free; 110 400 W, Salt Lake City, UT'), ('Location', '')]), OrderedDict([('Subject', 'Free National Parks'), ('Date', 43850), ('Time', ''), ('Info', ''), ('Location', '')]), OrderedDict([('Subject', 'Free National Parks'), ('Date', 43939), ('Time', ''), ('Info', ''), ('Location', '')]), OrderedDict([('Subject', 'Free National Parks'), ('Date', 44068), ('Time', ''), ('Info', ''), ('Location', '')]), OrderedDict([('Subject', 'Free National Parks'), ('Date', 44100), ('Time', ''), ('Info', ''), ('Location', '')]), OrderedDict([('Subject', 'Free National Parks'), ('Date', 44146), ('Time', ''), ('Info', ''), ('Location', '')]), OrderedDict([('Subject', 'Hill Aerospace Museum'), ('Date', 'Always'), ('Time', ''), ('Info', 'Always Free; (Ogden) 7961 Wardleigh Rd, Hill AFB, UT 84056'), ('Location', '')]), OrderedDict([('Subject', 'Scales and Tails'), ('Date', 'Always'), ('Time', ''), ('Info', 'Free with POAP'), ('Location', '')]), OrderedDict([('Subject', 'Hogle Zoo?'), ('Date', 44139), ('Time', ''), ('Info', 'Unconfirmed'), ('Location', '2600 Sunnyside Ave S, Salt Lake City, UT 84108')]), OrderedDict([('Subject', 'Hogle Zoo?'), ('Date', 44146), ('Time', ''), ('Info', 'Unconfirmed'), ('Location', '2600 Sunnyside Ave S, Salt Lake City, UT 84108')]), OrderedDict([('Subject', 'Hogle Zoo?'), ('Date', 44153), ('Time', ''), ('Info', 'Unconfirmed'), ('Location', '2600 Sunnyside Ave S, Salt Lake City, UT 84108')]), OrderedDict([('Subject', 'Hogle Zoo?'), ('Date', 44160), ('Time', ''), ('Info', 'Unconfirmed'), ('Location', '')]), OrderedDict([('Subject', 'Hogle Zoo?'), ('Date', 44167), ('Time', ''), ('Info', 'Unconfirmed'), ('Location', '')]), OrderedDict([('Subject', 'Hogle Zoo?'), ('Date', 44174), ('Time', ''), ('Info', 'Unconfirmed'), ('Location', '')]), OrderedDict([('Subject', 'Hogle Zoo?'), ('Date', 44181), ('Time', ''), ('Info', 'Unconfirmed'), ('Location', '')]), OrderedDict([('Subject', 'Hogle Zoo?'), ('Date', 44188), ('Time', ''), ('Info', 'Unconfirmed'), ('Location', '')]), OrderedDict([('Subject', 'Thanksgiving Point'), ('Date', 'Always'), ('Time', ''), ('Info', '$2 per person, up to six people, with EBT'), ('Location', '')])]\n",
    "y = [OrderedDict([('Subject', 'Tracy Aviary'), ('Date', 43501), ('Time', ''), ('Info', ''), ('Location', '')]), OrderedDict([('Subject', 'Utah Museum of Fine Arts'), ('Date', 'Always'), ('Time', ''), ('Info', 'Free with EBT'), ('Location', '')]), OrderedDict([('Subject', 'Natural History Museum of Utah (GET TICKETS!)'), ('Date', 43893), ('Time', 0.4166666666666667), ('Info', 'https://nhmu.utah.edu/free-days-nhmu'), ('Location', '301 Wakara Way, Salt Lake City, UT 84108')]), OrderedDict([('Subject', 'Natural History Museum of Utah (GET TICKETS!)'), ('Date', 43984), ('Time', 0.4166666666666667), ('Info', 'https://nhmu.utah.edu/free-days-nhmu'), ('Location', '301 Wakara Way, Salt Lake City, UT 84108')]), OrderedDict([('Subject', 'Natural History Museum of Utah (GET TICKETS!)'), ('Date', 44075), ('Time', 0.4166666666666667), ('Info', 'https://nhmu.utah.edu/free-days-nhmu'), ('Location', '301 Wakara Way, Salt Lake City, UT 84108')]), OrderedDict([('Subject', 'Butte Garden'), ('Date', 43945), ('Time', ''), ('Info', ''), ('Location', '300 Wakara Way, Salt Lake City, UT 84108')]), OrderedDict([('Subject', 'Butte Garden'), ('Date', 44036), ('Time', ''), ('Info', ''), ('Location', '300 Wakara Way, Salt Lake City, UT 84108')]), OrderedDict([('Subject', 'Butte Garden'), ('Date', 44081), ('Time', ''), ('Info', ''), ('Location', '300 Wakara Way, Salt Lake City, UT 84108')]), OrderedDict([('Subject', 'Butte Garden'), ('Date', 44109), ('Time', ''), ('Info', ''), ('Location', '300 Wakara Way, Salt Lake City, UT 84108')]), OrderedDict([('Subject', 'Butte Garden'), ('Date', 44170), ('Time', ''), ('Info', ''), ('Location', '300 Wakara Way, Salt Lake City, UT 84108')]), OrderedDict([('Subject', 'Butte Garden'), ('Date', 44171), ('Time', ''), ('Info', ''), ('Location', '300 Wakara Way, Salt Lake City, UT 84108')]), OrderedDict([('Subject', 'Clark Planetarium'), ('Date', 'Always'), ('Time', ''), ('Info', 'Always Free; 110 400 W, Salt Lake City, UT'), ('Location', '')]), OrderedDict([('Subject', 'Free National Parks'), ('Date', 43850), ('Time', ''), ('Info', ''), ('Location', '')]), OrderedDict([('Subject', 'Free National Parks'), ('Date', 43939), ('Time', ''), ('Info', ''), ('Location', '')]), OrderedDict([('Subject', 'Free National Parks'), ('Date', 44068), ('Time', ''), ('Info', ''), ('Location', '')]), OrderedDict([('Subject', 'Free National Parks'), ('Date', 44100), ('Time', ''), ('Info', ''), ('Location', '')]), OrderedDict([('Subject', 'Free National Parks'), ('Date', 44146), ('Time', ''), ('Info', ''), ('Location', '')]), OrderedDict([('Subject', 'Hill Aerospace Museum'), ('Date', 'Always'), ('Time', ''), ('Info', 'Always Free; (Ogden) 7961 Wardleigh Rd, Hill AFB, UT 84056'), ('Location', '')]), OrderedDict([('Subject', 'Scales and Tails'), ('Date', 'Always'), ('Time', ''), ('Info', 'Free with POAP'), ('Location', '')]), OrderedDict([('Subject', 'Hogle Zoo?'), ('Date', 44139), ('Time', ''), ('Info', 'Unconfirmed'), ('Location', '2600 Sunnyside Ave S, Salt Lake City, UT 84108')]), OrderedDict([('Subject', 'Hogle Zoo?'), ('Date', 44146), ('Time', ''), ('Info', 'Unconfirmed'), ('Location', '2600 Sunnyside Ave S, Salt Lake City, UT 84108')]), OrderedDict([('Subject', 'Hogle Zoo?'), ('Date', 44153), ('Time', ''), ('Info', 'Unconfirmed'), ('Location', '')]), OrderedDict([('Subject', 'Hogle Zoo?'), ('Date', 44160), ('Time', ''), ('Info', 'Unconfirmed'), ('Location', '')]), OrderedDict([('Subject', 'Hogle Zoo?'), ('Date', 44167), ('Time', ''), ('Info', 'Unconfirmed'), ('Location', '')]), OrderedDict([('Subject', 'Hogle Zoo?'), ('Date', 44174), ('Time', ''), ('Info', 'Unconfirmed'), ('Location', '')]), OrderedDict([('Subject', 'Hogle Zoo?'), ('Date', 44181), ('Time', ''), ('Info', 'Unconfirmed'), ('Location', '')]), OrderedDict([('Subject', 'Hogle Zoo?'), ('Date', 44188), ('Time', ''), ('Info', 'Unconfirmed'), ('Location', '')]), OrderedDict([('Subject', 'Thanksgiving Point'), ('Date', 'Always'), ('Time', ''), ('Info', '$2 per person, up to six people, with EBT'), ('Location', '')])]\n",
    "\n",
    "def different_from_old(line, old_calendar):\n",
    "    return old_calendar and all(line != old_line for old_line in old_calendar)\n",
    "\n",
    "different_from_old(x[0], y)"
   ]
  },
  {
   "cell_type": "code",
   "execution_count": null,
   "metadata": {},
   "outputs": [],
   "source": []
  }
 ],
 "metadata": {
  "kernelspec": {
   "display_name": "hwr5",
   "language": "python",
   "name": "hwr5"
  },
  "language_info": {
   "codemirror_mode": {
    "name": "ipython",
    "version": 3
   },
   "file_extension": ".py",
   "mimetype": "text/x-python",
   "name": "python",
   "nbconvert_exporter": "python",
   "pygments_lexer": "ipython3",
   "version": "3.7.3"
  },
  "pycharm": {
   "stem_cell": {
    "cell_type": "raw",
    "metadata": {
     "collapsed": false
    },
    "source": []
   }
  }
 },
 "nbformat": 4,
 "nbformat_minor": 2
}
