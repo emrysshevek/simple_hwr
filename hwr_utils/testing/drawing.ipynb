{
 "cells": [
  {
   "cell_type": "code",
   "execution_count": 90,
   "metadata": {},
   "outputs": [
    {
     "name": "stdout",
     "output_type": "stream",
     "text": [
      "Intermediate pass None\n"
     ]
    }
   ],
   "source": [
    "from models.basic import CNN\n",
    "import os\n",
    "os.environ[\"CUDA_VISIBLE_DEVICES\"]=\"0\"\n",
    "\n",
    "width_to_output_mapping = {}\n",
    "device = \"cuda\"\n",
    "\n",
    "cnn = CNN(nc=1, cnn_type=\"default64\", first_conv_opts=None)\n",
    "cnn.to(device)\n",
    "for width in range(233,240):\n",
    "    try:\n",
    "        t = torch.zeros(1, 1, 32, width).to(device)\n",
    "    except:\n",
    "        device = \"cpu\"\n",
    "        t = torch.zeros(1, 1, 32, width).to(device)\n",
    "\n",
    "    shape = cnn(t).shape\n",
    "    width_to_output_mapping[width] = shape[0]\n",
    "    "
   ]
  },
  {
   "cell_type": "code",
   "execution_count": 133,
   "metadata": {
    "collapsed": true
   },
   "outputs": [
    {
     "name": "stdout",
     "output_type": "stream",
     "text": [
      "/media/data/GitHub/simple_hwr/hwr_utils/testing\n",
      "/media/data/GitHub/simple_hwr/hwr_utils/testing\n",
      "../../data/online_coordinate_data/MAX_stroke_vTEST_AUGMENTFull/test_online_coords.json\n"
     ]
    },
    {
     "name": "stderr",
     "output_type": "stream",
     "text": [
      "INFO:root.hwr_utils.stroke_dataset:('Original dataloader figsize', 501)\n",
      "INFO:root.hwr_utils.stroke_dataset:('Dataloader figsize', 5)\n",
      "100%|██████████| 5/5 [00:00<00:00, 515.21it/s]\n"
     ]
    }
   ],
   "source": [
    "%reload_ext autoreload\n",
    "%autoreload 2\n",
    "\n",
    "import sys\n",
    "sys.path.append(\"../../\")\n",
    "\n",
    "import os\n",
    "print(os.getcwd())\n",
    "\n",
    "import tempfile\n",
    "from pathlib import Path\n",
    "import numpy as np\n",
    "from torch.utils.data import DataLoader\n",
    "from models.basic import CNN, BidirectionalRNN\n",
    "from torch import nn\n",
    "from loss_module.stroke_recovery_loss import StrokeLoss\n",
    "import torch\n",
    "from models.CoordConv import CoordConv\n",
    "from trainers import TrainerStrokeRecovery\n",
    "from hwr_utils.stroke_dataset import StrokeRecoveryDataset, read_img\n",
    "from hwr_utils.stroke_recovery import *\n",
    "from hwr_utils import utils, stroke_recovery\n",
    "from torch.optim import lr_scheduler\n",
    "from timeit import default_timer as timer\n",
    "from train_stroke_recovery import graph\n",
    "from hwr_utils.distortions import *\n",
    "from hwr_utils.stroke_plotting import *\n",
    "\n",
    "## DRAW THE IMAGE\n",
    "#Pillow-simd\n",
    "\n",
    "from PIL import Image, ImageDraw\n",
    "\n",
    "def loader():\n",
    "    folder = Path(\"online_coordinate_data/3_stroke_vSmall\")\n",
    "    folder = Path(\"online_coordinate_data/8_stroke_vSmall_16\")\n",
    "    folder = Path(\"online_coordinate_data/MAX_stroke_vTEST_AUGMENTFull\")\n",
    "\n",
    "    print(os.getcwd())\n",
    "    x_relative_positions = True\n",
    "    test_size = 5\n",
    "    train_size = None\n",
    "    batch_size=32\n",
    "\n",
    "    test_dataset=StrokeRecoveryDataset([folder / \"test_online_coords.json\"],\n",
    "                            img_height = 61,\n",
    "                            num_of_channels = 1.,\n",
    "                            max_images_to_load = test_size,\n",
    "                            root=r\"../../data\",\n",
    "                            cnn=cnn,\n",
    "\n",
    "                            )\n",
    "\n",
    "    test_dataloader = DataLoader(test_dataset,\n",
    "                                  batch_size=batch_size,\n",
    "                                  shuffle=True,\n",
    "                                  num_workers=3,\n",
    "                                  collate_fn=test_dataset.collate,\n",
    "                                  pin_memory=False)\n",
    "\n",
    "    device=\"cuda\"\n",
    "    globals().update(locals())\n",
    "    return test_dataloader\n",
    "\n",
    "def reload_and_get_new_example():\n",
    "    test_dataloader = loader()\n",
    "    return next(iter(test_dataloader))\n",
    "\n",
    "def get_instance():\n",
    "#     if not 'test_dataloader' in globals():\n",
    "#         test_dataloader = loader()\n",
    "    example = next(iter(test_dataloader)) # BATCH, WIDTH, VOCAB\n",
    "    instance = example[\"gt_list\"][0].numpy()\n",
    "    return instance, example\n",
    "\n",
    "def test_drawing():\n",
    "    instance, example = get_instance()\n",
    "    \n",
    "    draw_from_gt(instance)\n",
    "    draw_from_raw(gt_to_raw(instance))\n",
    "\n",
    "loader()\n",
    "#test_drawing()\n",
    "\n",
    "example = next(iter(test_dataloader)) # BATCH, WIDTH, VOCAB\n",
    "instance = example[\"gt_list\"][0].numpy()"
   ]
  },
  {
   "cell_type": "code",
   "execution_count": null,
   "metadata": {},
   "outputs": [],
   "source": [
    "from time import sleep\n",
    "device=\"cuda\"\n",
    "example = next(iter(test_dataloader)) # BATCH, WIDTH, VOCAB\n",
    "output = Path(\"./TEST_GRAPHING\")\n",
    "print(example.keys())\n",
    "\n",
    "# This graphs the directions etc.\n",
    "# graph(example, save_folder=output, x_relative_positions=x_relative_positions)\n",
    "\n",
    "def draw_temp(stroke_list):\n",
    "    fd, path = tempfile.mkstemp()\n",
    "    path = \"./temp\"\n",
    "    path += \".png\"\n",
    "    ratio = None\n",
    "    try:\n",
    "        draw_strokes(stroke_list, ratio, save_path=path, line_width=.8)\n",
    "        img = read_img(path)\n",
    "    finally:\n",
    "        #os.remove(path)\n",
    "        pass\n",
    "    return img\n"
   ]
  },
  {
   "cell_type": "code",
   "execution_count": null,
   "metadata": {
    "collapsed": false,
    "pycharm": {
     "name": "#%%\n"
    }
   },
   "outputs": [],
   "source": [
    "example = next(iter(test_dataloader)) # BATCH, WIDTH, VOCAB\n",
    "instance = example[\"gt_list\"][0].numpy()\n",
    "start_points = stroke_recovery.relativefy(instance[:,2])\n",
    "s = start_points\n",
    "start_indices = np.argwhere(s==1).astype(int).reshape(-1)\n",
    "l = np.split(instance[:,0:2], start_indices)\n",
    "\n",
    "output = []\n",
    "\n",
    "for item in l:\n",
    "    if item.shape[0]:\n",
    "        output.append({\"x\": item[:,0].tolist(), \"y\": item[:,1].tolist()})\n",
    "\n",
    "#print(output)\n",
    "draw_strokes(output, x_to_y=None)\n",
    "\n",
    "img = draw_temp(output)\n",
    "print(img.shape)"
   ]
  },
  {
   "cell_type": "code",
   "execution_count": null,
   "metadata": {},
   "outputs": [],
   "source": [
    "path = \"./temp\"\n",
    "img = read_img(path)\n"
   ]
  },
  {
   "cell_type": "code",
   "execution_count": null,
   "metadata": {},
   "outputs": [],
   "source": [
    "import dill\n",
    "dill.dump_session('notebook_env.db')\n",
    "#dill.load_session('notebook_env.db')\n",
    "\n",
    "print(output)"
   ]
  },
  {
   "cell_type": "code",
   "execution_count": null,
   "metadata": {},
   "outputs": [],
   "source": []
  },
  {
   "cell_type": "code",
   "execution_count": null,
   "metadata": {},
   "outputs": [],
   "source": [
    "print(example.keys())"
   ]
  },
  {
   "cell_type": "code",
   "execution_count": null,
   "metadata": {},
   "outputs": [],
   "source": [
    "# Test draw\n",
    "img  = Image.new(\"L\", (50, 60), 255)\n",
    "draw = ImageDraw.Draw(img)\n",
    "draw.line([(0,0), (50,50)])\n",
    "img.show()"
   ]
  },
  {
   "cell_type": "code",
   "execution_count": null,
   "metadata": {},
   "outputs": [],
   "source": [
    "warp_points\n"
   ]
  },
  {
   "cell_type": "code",
   "execution_count": null,
   "metadata": {},
   "outputs": [],
   "source": [
    "x = np.random.randint(5,10,(10,10))"
   ]
  },
  {
   "cell_type": "code",
   "execution_count": null,
   "metadata": {},
   "outputs": [],
   "source": [
    "top = 1\n",
    "bottom = 4\n",
    "left = 2\n",
    "right = 3\n",
    "\n",
    "np.pad(x, ((top,bottom),(left,right)))\n"
   ]
  },
  {
   "cell_type": "code",
   "execution_count": null,
   "metadata": {},
   "outputs": [],
   "source": [
    "y = x[0]+1"
   ]
  },
  {
   "cell_type": "code",
   "execution_count": null,
   "metadata": {},
   "outputs": [],
   "source": [
    "print(y)"
   ]
  },
  {
   "cell_type": "code",
   "execution_count": null,
   "metadata": {},
   "outputs": [],
   "source": [
    "print(x)"
   ]
  },
  {
   "cell_type": "code",
   "execution_count": null,
   "metadata": {},
   "outputs": [],
   "source": [
    "instance, example = get_instance()\n",
    "\n",
    "print(instance.shape)\n",
    "img = draw_from_gt(instance, show=False)\n",
    "new_gt, new_img = random_pad(instance, img, 20, 20)\n",
    "\n",
    "img = Image.fromarray(new_img, 'L')\n",
    "img.show()\n",
    "draw_from_gt(new_gt, show=True)\n"
   ]
  },
  {
   "cell_type": "code",
   "execution_count": null,
   "metadata": {},
   "outputs": [],
   "source": [
    "#loader()\n",
    "from stroke_plotting import *\n",
    "instance, example = get_instance()\n",
    "\n",
    "print(instance.shape)\n",
    "get_x_y_min_max_from_gt(instance)\n",
    "img = draw_from_gt(instance, show=True)\n",
    "new_gt = random_pad(instance, 15, 15)\n",
    "draw_from_gt(new_gt, show=True, right_padding=\"random\")\n"
   ]
  },
  {
   "cell_type": "code",
   "execution_count": null,
   "metadata": {},
   "outputs": [],
   "source": [
    "img = draw_from_gt(instance, show=True)\n",
    "img = blur(img.copy() / 127.5 - 1.0, max_intensity=1.1)\n",
    "print(img)\n",
    "img = (img + 1.0) * 127.5\n",
    "f = Image.fromarray(np.uint8(img), 'L')\n",
    "f.show()\n",
    "\n"
   ]
  },
  {
   "cell_type": "code",
   "execution_count": null,
   "metadata": {},
   "outputs": [],
   "source": [
    "from hwr_utils.grid_distortion import *\n",
    "img = draw_from_gt(instance, show=True)\n",
    "img = Image.fromarray(img, 'L')\n",
    "img.show()\n",
    "\n",
    "if False:\n",
    "    img = warp_points(instance, random_state=None)\n",
    "    img = np.c_[img, instance[:,2]]\n"
   ]
  },
  {
   "cell_type": "code",
   "execution_count": null,
   "metadata": {},
   "outputs": [],
   "source": [
    "## DISTORT IMAGE\n",
    "from hwr_utils.grid_distortion  import *\n",
    "img_prime = draw_from_gt(instance, show=False, max_width=3)\n",
    "for i in range(0,1):\n",
    "    img = img_prime.copy()\n",
    "    if True:\n",
    "        img = gaussian_noise(\n",
    "                blur(\n",
    "                    random_distortions(img_prime.copy()),\n",
    "                    max_intensity=1.3),\n",
    "                max_intensity=.1)\n",
    "    f = Image.fromarray(np.uint8(img), 'L')\n",
    "    #f.show()\n",
    "# Render GT on top of image\n",
    "f = f.convert(\"RGB\")\n",
    "img_prime = draw_from_gt(instance, show=False, linewidth=1, color=[255,0,0], alpha=True)\n",
    "gt = Image.fromarray(np.uint8(img_prime), 'RGBA')\n",
    "f.paste(gt, (0, 0), gt)\n",
    "f.show()\n",
    "\n",
    "#f = Image.fromarray(np.uint8(img), 'L')\n",
    "    \n"
   ]
  },
  {
   "cell_type": "code",
   "execution_count": null,
   "metadata": {},
   "outputs": [],
   "source": [
    "from matplotlib import pyplot as plt\n",
    "l = []\n",
    "max_width = 3\n",
    "for i in range(1000):\n",
    "    l.append(max(int(abs(np.random.randn())*(max_width-1)*.5 + 1 ),1))\n",
    "\n",
    "plt.hist(l)"
   ]
  },
  {
   "cell_type": "code",
   "execution_count": null,
   "metadata": {},
   "outputs": [],
   "source": [
    "### WARP\n",
    "\n",
    "for i in range(10):\n",
    "    gt = instance.copy()\n",
    "    height = 61\n",
    "    x = warp_points(gt*height)/height # convert to pixel space\n",
    "    x = np.c_[x, instance[:,2]]\n",
    "    img = draw_from_gt(x, show=True, max_width=2, save_path=\"./warp.png\")\n"
   ]
  },
  {
   "cell_type": "code",
   "execution_count": null,
   "metadata": {},
   "outputs": [],
   "source": [
    "m = np.array([[0,2,3,4,5],[0,2,3,4,5]])\n",
    "m = m.reshape(-1,2)\n",
    "print(m.shape)\n",
    "x = warp_points(m)\n",
    "print(x)"
   ]
  },
  {
   "cell_type": "code",
   "execution_count": null,
   "metadata": {},
   "outputs": [],
   "source": [
    "f.show()\n",
    "\n"
   ]
  },
  {
   "cell_type": "code",
   "execution_count": null,
   "metadata": {},
   "outputs": [],
   "source": [
    "im = Image.fromarray(np.uint8(img), 'L')\n",
    "transparent_area = (0,0,50,50)\n",
    "\n",
    "mask=Image.new('L', im.size, color=255)\n",
    "draw=ImageDraw.Draw(mask) \n",
    "draw.rectangle(transparent_area, fill=0)\n",
    "im.putalpha(mask)\n",
    "im.show()"
   ]
  },
  {
   "cell_type": "code",
   "execution_count": null,
   "metadata": {},
   "outputs": [],
   "source": []
  },
  {
   "cell_type": "code",
   "execution_count": 106,
   "metadata": {},
   "outputs": [
    {
     "name": "stdout",
     "output_type": "stream",
     "text": [
      "/media/data/GitHub/simple_hwr/hwr_utils/testing\n",
      "../../data/online_coordinate_data/MAX_stroke_vTEST_AUGMENTFull/test_online_coords.json\n"
     ]
    },
    {
     "name": "stderr",
     "output_type": "stream",
     "text": [
      "INFO:root.hwr_utils.stroke_dataset:('Original dataloader figsize', 501)\n",
      "INFO:root.hwr_utils.stroke_dataset:('Dataloader figsize', 5)\n",
      "100%|██████████| 5/5 [00:00<00:00, 348.99it/s]\n"
     ]
    },
    {
     "ename": "TypeError",
     "evalue": "unhashable type: 'slice'",
     "output_type": "error",
     "traceback": [
      "\u001b[0;31m---------------------------------------------------------------------------\u001b[0m",
      "\u001b[0;31mTypeError\u001b[0m                                 Traceback (most recent call last)",
      "\u001b[0;32m<ipython-input-106-aac891184d4e>\u001b[0m in \u001b[0;36m<module>\u001b[0;34m\u001b[0m\n\u001b[1;32m      5\u001b[0m \u001b[0;34m\u001b[0m\u001b[0m\n\u001b[1;32m      6\u001b[0m \u001b[0minstance\u001b[0m \u001b[0;34m=\u001b[0m \u001b[0mreload_and_get_new_example\u001b[0m\u001b[0;34m(\u001b[0m\u001b[0;34m)\u001b[0m\u001b[0;34m\u001b[0m\u001b[0;34m\u001b[0m\u001b[0m\n\u001b[0;32m----> 7\u001b[0;31m \u001b[0mimg_prime\u001b[0m \u001b[0;34m=\u001b[0m \u001b[0mdraw_from_gt\u001b[0m\u001b[0;34m(\u001b[0m\u001b[0minstance\u001b[0m\u001b[0;34m,\u001b[0m \u001b[0mshow\u001b[0m\u001b[0;34m=\u001b[0m\u001b[0;32mFalse\u001b[0m\u001b[0;34m,\u001b[0m \u001b[0mmax_width\u001b[0m\u001b[0;34m=\u001b[0m\u001b[0;36m3\u001b[0m\u001b[0;34m)\u001b[0m\u001b[0;34m\u001b[0m\u001b[0;34m\u001b[0m\u001b[0m\n\u001b[0m\u001b[1;32m      8\u001b[0m \u001b[0mbackground\u001b[0m \u001b[0;34m=\u001b[0m \u001b[0mImage\u001b[0m\u001b[0;34m.\u001b[0m\u001b[0mfromarray\u001b[0m\u001b[0;34m(\u001b[0m\u001b[0mnp\u001b[0m\u001b[0;34m.\u001b[0m\u001b[0muint8\u001b[0m\u001b[0;34m(\u001b[0m\u001b[0mimg_prime\u001b[0m\u001b[0;34m)\u001b[0m\u001b[0;34m,\u001b[0m \u001b[0;34m'L'\u001b[0m\u001b[0;34m)\u001b[0m\u001b[0;34m\u001b[0m\u001b[0;34m\u001b[0m\u001b[0m\n\u001b[1;32m      9\u001b[0m \u001b[0;34m\u001b[0m\u001b[0m\n",
      "\u001b[0;32m/media/data/GitHub/simple_hwr/hwr_utils/stroke_plotting.py\u001b[0m in \u001b[0;36mdraw_from_gt\u001b[0;34m(gt, show, save_path, width, height, right_padding, linewidth, max_width, color, alpha)\u001b[0m\n\u001b[1;32m    377\u001b[0m \u001b[0;34m\u001b[0m\u001b[0m\n\u001b[1;32m    378\u001b[0m     \u001b[0;32mif\u001b[0m \u001b[0mwidth\u001b[0m \u001b[0;32mis\u001b[0m \u001b[0;32mNone\u001b[0m\u001b[0;34m:\u001b[0m \u001b[0;31m# If no width, rescale based on height\u001b[0m\u001b[0;34m\u001b[0m\u001b[0;34m\u001b[0m\u001b[0m\n\u001b[0;32m--> 379\u001b[0;31m         \u001b[0mwidth\u001b[0m \u001b[0;34m=\u001b[0m \u001b[0mceil\u001b[0m\u001b[0;34m(\u001b[0m\u001b[0mnp\u001b[0m\u001b[0;34m.\u001b[0m\u001b[0mmax\u001b[0m\u001b[0;34m(\u001b[0m\u001b[0mgt\u001b[0m\u001b[0;34m[\u001b[0m\u001b[0;34m:\u001b[0m\u001b[0;34m,\u001b[0m\u001b[0;36m0\u001b[0m\u001b[0;34m]\u001b[0m\u001b[0;34m)\u001b[0m \u001b[0;34m*\u001b[0m \u001b[0mheight\u001b[0m\u001b[0;34m)\u001b[0m\u001b[0;34m+\u001b[0m\u001b[0mright_padding\u001b[0m\u001b[0;34m\u001b[0m\u001b[0;34m\u001b[0m\u001b[0m\n\u001b[0m\u001b[1;32m    380\u001b[0m         \u001b[0mwidth\u001b[0m \u001b[0;34m=\u001b[0m \u001b[0mmax\u001b[0m\u001b[0;34m(\u001b[0m\u001b[0mwidth\u001b[0m\u001b[0;34m,\u001b[0m \u001b[0mheight\u001b[0m\u001b[0;34m)\u001b[0m \u001b[0;31m# needs to be positive\u001b[0m\u001b[0;34m\u001b[0m\u001b[0;34m\u001b[0m\u001b[0m\n\u001b[1;32m    381\u001b[0m         \u001b[0mrescale\u001b[0m \u001b[0;34m=\u001b[0m \u001b[0mheight\u001b[0m\u001b[0;34m\u001b[0m\u001b[0;34m\u001b[0m\u001b[0m\n",
      "\u001b[0;31mTypeError\u001b[0m: unhashable type: 'slice'"
     ]
    }
   ],
   "source": [
    "def show(numpy_array):\n",
    "    f = Image.fromarray(np.uint8(numpy_array), 'L')\n",
    "    f.show()\n",
    "    return f\n",
    "\n",
    "img_prime = draw_from_gt(instance, show=False, max_width=3)\n",
    "background = Image.fromarray(np.uint8(img_prime), 'L')\n",
    "\n",
    "for i in range(0,10):\n",
    "    img = img_prime.copy()\n",
    "\n",
    "    if False:\n",
    "        img = random_distortions(img_prime.copy(), sigma=20.0, noise_max=2)\n",
    "    else:\n",
    "        img = blur(img_prime.copy(), max_intensity=1.0)\n",
    "    \n",
    "    show(img)\n",
    "    # OVERLAY\n",
    "    #bg = overlay_images(background_img=img, foreground_gt=instance, normalized=False)\n",
    "    #bg.show()\n"
   ]
  },
  {
   "cell_type": "code",
   "execution_count": 134,
   "metadata": {},
   "outputs": [
    {
     "name": "stdout",
     "output_type": "stream",
     "text": [
      "/media/data/GitHub/simple_hwr/hwr_utils/testing\n",
      "../../data/online_coordinate_data/MAX_stroke_vTEST_AUGMENTFull/test_online_coords.json\n"
     ]
    },
    {
     "name": "stderr",
     "output_type": "stream",
     "text": [
      "INFO:root.hwr_utils.stroke_dataset:('Original dataloader figsize', 501)\n",
      "INFO:root.hwr_utils.stroke_dataset:('Dataloader figsize', 5)\n",
      "100%|██████████| 5/5 [00:00<00:00, 1117.83it/s]\n"
     ]
    }
   ],
   "source": [
    "example = reload_and_get_new_example()"
   ]
  },
  {
   "cell_type": "code",
   "execution_count": 141,
   "metadata": {},
   "outputs": [
    {
     "name": "stdout",
     "output_type": "stream",
     "text": [
      "dict_keys(['line_imgs', 'gt', 'gt_list', 'gt_format', 'label_lengths', 'paths', 'x_func', 'y_func', 'start_times'])\n",
      "[PosixPath('../../data/online_coordinate_data/MAX_stroke_vTEST_AUGMENTFull/images/a01-013z-03_a01-013z-04.tif'), PosixPath('../../data/online_coordinate_data/MAX_stroke_vTEST_AUGMENTFull/images/a01-013z-05_a01-013z-06.tif'), PosixPath('../../data/online_coordinate_data/MAX_stroke_vTEST_AUGMENTFull/images/a01-013w-06.tif'), PosixPath('../../data/online_coordinate_data/MAX_stroke_vTEST_AUGMENTFull/images/a01-013z-02_a01-013z-03.tif'), PosixPath('../../data/online_coordinate_data/MAX_stroke_vTEST_AUGMENTFull/images/a01-013z-04_a01-013z-05.tif')]\n",
      "(61, 902)\n"
     ]
    }
   ],
   "source": [
    "print(example.keys())\n",
    "print(example[\"paths\"])\n",
    "\n",
    "def show_from_processed_img(img, redo=True):\n",
    "    if redo:\n",
    "        img = (img[:,:,0] + 1) * 127.5\n",
    "    print(img.shape)\n",
    "    img = Image.fromarray(np.uint8(img), 'L')\n",
    "    img.show()\n",
    "\n",
    "# Draw from Path\n",
    "path = example[\"paths\"][0]\n",
    "old_img = read_img(path)\n",
    "show_from_processed_img(old_img)\n",
    "\n",
    "gt = example[\"gt_list\"][0]\n",
    "if False:\n",
    "    ## Draw from GT\n",
    "    new_img = draw_from_gt(gt, show=True, max_width=2)\n",
    "    print(gt.shape, new_img.shape)\n",
    "\n",
    "#show_from_processed_img(new_img, redo=False)\n"
   ]
  },
  {
   "cell_type": "code",
   "execution_count": 142,
   "metadata": {},
   "outputs": [
    {
     "name": "stdout",
     "output_type": "stream",
     "text": [
      "906\n",
      "Image width 901\n",
      "(61, 908)\n"
     ]
    }
   ],
   "source": [
    "# Prep image, try to match the one drawn from path in size\n",
    "print(len(gt))\n",
    "new_img = StrokeRecoveryDataset.prep_image(gt.numpy(), img_height=61)[::-1]\n",
    "show_from_processed_img(new_img)\n"
   ]
  },
  {
   "cell_type": "code",
   "execution_count": 129,
   "metadata": {},
   "outputs": [
    {
     "name": "stdout",
     "output_type": "stream",
     "text": [
      "(1, 1, 61, 902)\n"
     ]
    },
    {
     "data": {
      "text/plain": [
       "torch.Size([906, 1, 1024])"
      ]
     },
     "execution_count": 129,
     "metadata": {},
     "output_type": "execute_result"
    }
   ],
   "source": [
    "x = old_img[np.newaxis].transpose(0,3,1,2)\n",
    "print(x.shape)\n",
    "f = cnn(Tensor(x).to(\"cuda\"))\n",
    "f.shape"
   ]
  },
  {
   "cell_type": "code",
   "execution_count": 45,
   "metadata": {},
   "outputs": [
    {
     "name": "stdout",
     "output_type": "stream",
     "text": [
      "torch.Size([247, 4])\n"
     ]
    }
   ],
   "source": [
    "5, 1, 61, 1126\n",
    "5, 1, 60, 1236\n",
    "print(example[\"gt_list\"][0].shape)"
   ]
  },
  {
   "cell_type": "code",
   "execution_count": 16,
   "metadata": {},
   "outputs": [
    {
     "data": {
      "text/plain": [
       "array([1.41421356, 2.23606798, 0.        ])"
      ]
     },
     "execution_count": 16,
     "metadata": {},
     "output_type": "execute_result"
    }
   ],
   "source": [
    "distance_metric = lambda x, y: np.append(((x[:-1] - x[1:]) ** 2 + (y[:-1] - y[1:]) ** 2) ** (1 / 2), 0)\n",
    "distance_metric(np.array([1,2,3]),np.array([2,3,5]))"
   ]
  },
  {
   "cell_type": "code",
   "execution_count": 25,
   "metadata": {},
   "outputs": [
    {
     "data": {
      "text/plain": [
       "array([1.41421356, 1.41421356])"
      ]
     },
     "execution_count": 25,
     "metadata": {},
     "output_type": "execute_result"
    }
   ],
   "source": [
    "from hwr_utils.stroke_recovery import calc_stroke_distances,parameterize_as_func_of_distance\n",
    "\n",
    "calc_stroke_distances([1,2,3,4],[2,3,4,5],[1,0,1,0])"
   ]
  },
  {
   "cell_type": "code",
   "execution_count": 26,
   "metadata": {},
   "outputs": [
    {
     "data": {
      "text/plain": [
       "array([0.        , 1.41421356, 2.82842712, 4.24264069])"
      ]
     },
     "execution_count": 26,
     "metadata": {},
     "output_type": "execute_result"
    }
   ],
   "source": [
    "parameterize_as_func_of_distance([1,2,3,4],[2,3,4,5],[1,0,1,0])"
   ]
  },
  {
   "cell_type": "code",
   "execution_count": 92,
   "metadata": {},
   "outputs": [
    {
     "name": "stdout",
     "output_type": "stream",
     "text": [
      "233 236\n",
      "234 238\n",
      "235 238\n",
      "236 240\n",
      "237 240\n",
      "238 242\n",
      "239 242\n"
     ]
    }
   ],
   "source": [
    "for image_width in width_to_output_mapping.keys():\n",
    "    print(image_width, width_to_output_mapping[image_width])"
   ]
  },
  {
   "cell_type": "code",
   "execution_count": 83,
   "metadata": {},
   "outputs": [],
   "source": [
    "width_to_output_mapping = lambda width: -(width % 2) + width + 4\n",
    "inverse = lambda gt_len: gt_len - 3"
   ]
  },
  {
   "cell_type": "code",
   "execution_count": 86,
   "metadata": {},
   "outputs": [
    {
     "name": "stdout",
     "output_type": "stream",
     "text": [
      "forward 10 14\n",
      "11\n",
      "forward 11 14\n",
      "11\n",
      "forward 12 16\n",
      "13\n",
      "forward 13 16\n",
      "13\n",
      "forward 14 18\n",
      "15\n",
      "forward 15 18\n",
      "15\n",
      "forward 16 20\n",
      "17\n",
      "forward 17 20\n",
      "17\n",
      "forward 18 22\n",
      "19\n",
      "forward 19 22\n",
      "19\n"
     ]
    }
   ],
   "source": [
    "for i in range(10,20): \n",
    "    m = width_to_output_mapping(i)\n",
    "    print(\"forward\", i,m)\n",
    "    print(inverse(m))\n",
    "    "
   ]
  },
  {
   "cell_type": "code",
   "execution_count": 61,
   "metadata": {},
   "outputs": [
    {
     "data": {
      "text/plain": [
       "17"
      ]
     },
     "execution_count": 61,
     "metadata": {},
     "output_type": "execute_result"
    }
   ],
   "source": [
    "int(65 / 4) + 1"
   ]
  },
  {
   "cell_type": "code",
   "execution_count": null,
   "metadata": {},
   "outputs": [],
   "source": []
  }
 ],
 "metadata": {
  "kernelspec": {
   "display_name": "hwr5",
   "language": "python",
   "name": "hwr5"
  },
  "language_info": {
   "codemirror_mode": {
    "name": "ipython",
    "version": 3
   },
   "file_extension": ".py",
   "mimetype": "text/x-python",
   "name": "python",
   "nbconvert_exporter": "python",
   "pygments_lexer": "ipython3",
   "version": "3.7.3"
  },
  "pycharm": {
   "stem_cell": {
    "cell_type": "raw",
    "metadata": {
     "collapsed": false
    },
    "source": []
   }
  }
 },
 "nbformat": 4,
 "nbformat_minor": 2
}
