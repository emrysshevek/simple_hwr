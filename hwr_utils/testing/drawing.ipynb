{
 "cells": [
  {
   "cell_type": "code",
   "execution_count": 1,
   "metadata": {
    "collapsed": true
   },
   "outputs": [
    {
     "name": "stdout",
     "output_type": "stream",
     "text": [
      "/media/data/GitHub/simple_hwr/hwr_utils/testing\n",
      "../../data/online_coordinate_data/MAX_stroke_vTEST_AUGMENTFull/test_online_coords.json\n"
     ]
    },
    {
     "name": "stderr",
     "output_type": "stream",
     "text": [
      "INFO:root.hwr_utils.stroke_dataset:('Original dataloader size', 501)\n",
      "INFO:root.hwr_utils.stroke_dataset:('Dataloader size', 5)\n",
      "100%|██████████| 5/5 [00:00<00:00, 1046.07it/s]\n"
     ]
    },
    {
     "ename": "AttributeError",
     "evalue": "'dict' object has no attribute 'raw'",
     "output_type": "error",
     "traceback": [
      "\u001b[0;31m---------------------------------------------------------------------------\u001b[0m",
      "\u001b[0;31mAttributeError\u001b[0m                            Traceback (most recent call last)",
      "\u001b[0;32m<ipython-input-1-8e52555c3119>\u001b[0m in \u001b[0;36m<module>\u001b[0;34m\u001b[0m\n\u001b[1;32m     57\u001b[0m \u001b[0mfd\u001b[0m\u001b[0;34m,\u001b[0m \u001b[0mpath\u001b[0m \u001b[0;34m=\u001b[0m \u001b[0mtempfile\u001b[0m\u001b[0;34m.\u001b[0m\u001b[0mmkstemp\u001b[0m\u001b[0;34m(\u001b[0m\u001b[0;34m)\u001b[0m\u001b[0;34m\u001b[0m\u001b[0;34m\u001b[0m\u001b[0m\n\u001b[1;32m     58\u001b[0m \u001b[0;32mtry\u001b[0m\u001b[0;34m:\u001b[0m\u001b[0;34m\u001b[0m\u001b[0;34m\u001b[0m\u001b[0m\n\u001b[0;32m---> 59\u001b[0;31m     \u001b[0mdraw_strokes\u001b[0m\u001b[0;34m(\u001b[0m\u001b[0mnormalize_stroke_list\u001b[0m\u001b[0;34m(\u001b[0m\u001b[0mexample\u001b[0m\u001b[0;34m.\u001b[0m\u001b[0mraw\u001b[0m\u001b[0;34m)\u001b[0m\u001b[0;34m,\u001b[0m \u001b[0mratio\u001b[0m\u001b[0;34m,\u001b[0m \u001b[0msave_path\u001b[0m\u001b[0;34m=\u001b[0m\u001b[0mpath\u001b[0m\u001b[0;34m,\u001b[0m \u001b[0mline_width\u001b[0m\u001b[0;34m=\u001b[0m\u001b[0;36m.8\u001b[0m\u001b[0;34m)\u001b[0m\u001b[0;34m\u001b[0m\u001b[0;34m\u001b[0m\u001b[0m\n\u001b[0m\u001b[1;32m     60\u001b[0m     \u001b[0mimg\u001b[0m \u001b[0;34m=\u001b[0m \u001b[0mread_img\u001b[0m\u001b[0;34m(\u001b[0m\u001b[0mpath\u001b[0m\u001b[0;34m)\u001b[0m\u001b[0;34m\u001b[0m\u001b[0;34m\u001b[0m\u001b[0m\n\u001b[1;32m     61\u001b[0m \u001b[0;32mfinally\u001b[0m\u001b[0;34m:\u001b[0m\u001b[0;34m\u001b[0m\u001b[0;34m\u001b[0m\u001b[0m\n",
      "\u001b[0;31mAttributeError\u001b[0m: 'dict' object has no attribute 'raw'"
     ]
    }
   ],
   "source": [
    "%reload_ext autoreload\n",
    "%autoreload 2\n",
    "\n",
    "import sys\n",
    "sys.path.append(\"../..\")\n",
    "\n",
    "import os\n",
    "import tempfile\n",
    "from pathlib import Path\n",
    "import numpy as np\n",
    "from torch.utils.data import DataLoader\n",
    "from models.basic import CNN, BidirectionalRNN\n",
    "from torch import nn\n",
    "from models.stroke_recovery_loss import StrokeLoss\n",
    "import torch\n",
    "from models.CoordConv import CoordConv\n",
    "from trainers import TrainerStrokeRecovery\n",
    "from hwr_utils.stroke_dataset import StrokeRecoveryDataset, read_img\n",
    "from hwr_utils.stroke_recovery import *\n",
    "from hwr_utils import utils\n",
    "from torch.optim import lr_scheduler\n",
    "from timeit import default_timer as timer\n",
    "from train_stroke_recovery import graph\n",
    "\n",
    "folder = Path(\"online_coordinate_data/3_stroke_vSmall\")\n",
    "folder = Path(\"online_coordinate_data/8_stroke_vSmall_16\")\n",
    "folder = Path(\"online_coordinate_data/MAX_stroke_vTEST_AUGMENTFull\")\n",
    "\n",
    "print(os.getcwd())\n",
    "x_relative_positions = True\n",
    "test_size = 5\n",
    "train_size = None\n",
    "batch_size=32\n",
    "\n",
    "test_dataset=StrokeRecoveryDataset([folder / \"test_online_coords.json\"],\n",
    "                        img_height = 60,\n",
    "                        num_of_channels = 1.,\n",
    "                        max_images_to_load = test_size,\n",
    "                        root=r\"../../data\",\n",
    "                        x_relative_positions=x_relative_positions\n",
    "                        )\n",
    "\n",
    "test_dataloader = DataLoader(test_dataset,\n",
    "                              batch_size=batch_size,\n",
    "                              shuffle=True,\n",
    "                              num_workers=3,\n",
    "                              collate_fn=test_dataset.collate,\n",
    "                              pin_memory=False)\n",
    "\n",
    "device=\"cuda\"\n",
    "example = next(iter(test_dataloader)) # BATCH, WIDTH, VOCAB\n",
    "output = Path(\"./TEST_GRAPHING\")\n",
    "\n",
    "# This graphs the directions etc.\n",
    "# graph(example, save_folder=output, x_relative_positions=x_relative_positions)\n",
    "\n",
    "fd, path = tempfile.mkstemp()\n",
    "try:\n",
    "    draw_strokes(normalize_stroke_list(example.raw), ratio, save_path=path, line_width=.8)\n",
    "    img = read_img(path)\n",
    "finally:\n",
    "    os.remove(path)\n",
    "\n",
    "print(img)\n"
   ]
  },
  {
   "cell_type": "code",
   "execution_count": null,
   "metadata": {},
   "outputs": [],
   "source": [
    "print(example.keys())"
   ]
  },
  {
   "cell_type": "code",
   "execution_count": null,
   "metadata": {},
   "outputs": [],
   "source": [
    "print(example[\"gt\"].shape)"
   ]
  },
  {
   "cell_type": "code",
   "execution_count": null,
   "metadata": {
    "collapsed": false,
    "pycharm": {
     "name": "#%%\n"
    }
   },
   "outputs": [],
   "source": [
    "np.r_(start_indices, end_indices)"
   ]
  },
  {
   "cell_type": "code",
   "execution_count": null,
   "metadata": {
    "collapsed": false,
    "pycharm": {
     "name": "#%%\n"
    }
   },
   "outputs": [],
   "source": [
    "array = np.array([1,0,0,0,0,0,0,0,1,0,0,0,0,0,1,0,0])\n",
    "start_indices = np.where(array)[0]\n",
    "start_point_ct = len(start_indices)\n",
    "total_point_ct = len(array)\n",
    "end_indices = np.append((start_indices-1)[1:], total_point_ct-1)\n",
    "\n",
    "xs = np.array(range(0, total_point_ct))*1.5\n",
    "x = np.interp(xs, np.append(start_indices*1.0, end_indices), np.append(np.ones(start_point_ct), np.zeros(start_point_ct)))\n",
    "\n",
    "print(x, xs, np.append(start_indices*1.0, end_indices))"
   ]
  },
  {
   "cell_type": "code",
   "execution_count": null,
   "metadata": {
    "collapsed": false,
    "pycharm": {
     "name": "#%%\n"
    }
   },
   "outputs": [],
   "source": [
    "array = np.array([1,0,0,0,0,0,0,0,1,0,0,0,0,0,1,0,0])\n",
    "start_indices = np.where(array)[0]\n",
    "start_point_ct = len(start_indices)\n",
    "total_point_ct = len(array)\n",
    "xs = np.repeat(start_indices,2)\n",
    "xs[::2] -= 1\n",
    "xs = np.append(xs[1:], total_point_ct)\n",
    "ys = np.zeros(2*start_point_ct)\n",
    "ys[1::2] += 1\n",
    "print(xs, ys)\n",
    "\n",
    "# make it distance traveled!\n",
    "\n",
    "interp_xs = np.array(range(0, total_point_ct))\n",
    "out = np.interp(interp_xs, xs, ys)\n",
    "print(out)"
   ]
  },
  {
   "cell_type": "code",
   "execution_count": null,
   "metadata": {
    "collapsed": false,
    "pycharm": {
     "name": "#%%\n"
    }
   },
   "outputs": [],
   "source": [
    "x = np.array([1,0,0,0,0,0,0,0,1,0,0,0,0,0,1,0,0])\n",
    "start_indices = np.where(x)\n",
    "#end_indices = start_indices-1\n",
    "\n",
    "print(start_indices)"
   ]
  },
  {
   "cell_type": "code",
   "execution_count": null,
   "metadata": {
    "collapsed": false,
    "pycharm": {
     "name": "#%%\n"
    }
   },
   "outputs": [],
   "source": [
    "m = np.array([1,0,0,0,0,0,0,0,1,0,0,0,0,0,1,0,0])\n",
    "np.append(m, 599, 5)"
   ]
  },
  {
   "cell_type": "code",
   "execution_count": 50,
   "metadata": {},
   "outputs": [
    {
     "ename": "TypeError",
     "evalue": "'RClass' object is not callable",
     "output_type": "error",
     "traceback": [
      "\u001b[0;31m---------------------------------------------------------------------------\u001b[0m",
      "\u001b[0;31mTypeError\u001b[0m                                 Traceback (most recent call last)",
      "\u001b[0;32m<ipython-input-50-47a8787ec5fe>\u001b[0m in \u001b[0;36m<module>\u001b[0;34m\u001b[0m\n\u001b[0;32m----> 1\u001b[0;31m \u001b[0mnp\u001b[0m\u001b[0;34m.\u001b[0m\u001b[0mr_\u001b[0m\u001b[0;34m(\u001b[0m\u001b[0mstart_indices\u001b[0m\u001b[0;34m,\u001b[0m \u001b[0mend_indices\u001b[0m\u001b[0;34m)\u001b[0m\u001b[0;34m\u001b[0m\u001b[0;34m\u001b[0m\u001b[0m\n\u001b[0m",
      "\u001b[0;31mTypeError\u001b[0m: 'RClass' object is not callable"
     ]
    }
   ],
   "source": []
  },
  {
   "cell_type": "code",
   "execution_count": 61,
   "metadata": {},
   "outputs": [
    {
     "name": "stdout",
     "output_type": "stream",
     "text": [
      "[1. 1. 1. 1. 1. 1. 1. 1. 1. 1. 0. 0. 0. 0. 0. 0. 0.] [ 0.   1.5  3.   4.5  6.   7.5  9.  10.5 12.  13.5 15.  16.5 18.  19.5\n",
      " 21.  22.5 24. ] [ 0.  8. 14.  7. 13. 17.]\n"
     ]
    }
   ],
   "source": [
    "array = np.array([1,0,0,0,0,0,0,0,1,0,0,0,0,0,1,0,0])\n",
    "start_indices = np.where(array)[0]\n",
    "start_point_ct = len(start_indices)\n",
    "total_point_ct = len(array)\n",
    "end_indices = np.append((start_indices-1)[1:], total_point_ct)\n",
    "\n",
    "xs = np.array(range(0, total_point_ct))*1.5\n",
    "x = np.interp(xs, np.append(start_indices*1.0, end_indices), np.append(np.ones(start_point_ct), np.zeros(start_point_ct)))\n",
    "\n",
    "print(x, xs, np.append(start_indices*1.0, end_indices))"
   ]
  },
  {
   "cell_type": "code",
   "execution_count": 79,
   "metadata": {},
   "outputs": [
    {
     "name": "stdout",
     "output_type": "stream",
     "text": [
      "[ 0  7  8 13 14 17] [0. 1. 0. 1. 0. 1.]\n",
      "[0.         0.14285714 0.28571429 0.42857143 0.57142857 0.71428571\n",
      " 0.85714286 1.         0.         0.2        0.4        0.6\n",
      " 0.8        1.         0.         0.33333333 0.66666667]\n"
     ]
    }
   ],
   "source": [
    "array = np.array([1,0,0,0,0,0,0,0,1,0,0,0,0,0,1,0,0])\n",
    "start_indices = np.where(array)[0]\n",
    "start_point_ct = len(start_indices)\n",
    "total_point_ct = len(array)\n",
    "xs = np.repeat(start_indices,2)\n",
    "xs[::2] -= 1\n",
    "xs = np.append(xs[1:], total_point_ct)\n",
    "ys = np.zeros(2*start_point_ct)\n",
    "ys[1::2] += 1\n",
    "print(xs, ys)\n",
    "\n",
    "# make it distance traveled!\n",
    "\n",
    "interp_xs = np.array(range(0, total_point_ct))\n",
    "out = np.interp(interp_xs, xs, ys)\n",
    "print(out)"
   ]
  },
  {
   "cell_type": "code",
   "execution_count": null,
   "metadata": {},
   "outputs": [],
   "source": [
    "x = np.array([1,0,0,0,0,0,0,0,1,0,0,0,0,0,1,0,0])\n",
    "start_indices = np.where(x)\n",
    "#end_indices = start_indices-1\n",
    "\n",
    "print(start_indices)"
   ]
  },
  {
   "cell_type": "code",
   "execution_count": 36,
   "metadata": {},
   "outputs": [
    {
     "ename": "IndexError",
     "evalue": "index 599 is out of bounds for axis 0 with size 17",
     "output_type": "error",
     "traceback": [
      "\u001b[0;31m---------------------------------------------------------------------------\u001b[0m",
      "\u001b[0;31mIndexError\u001b[0m                                Traceback (most recent call last)",
      "\u001b[0;32m<ipython-input-36-907024ed458f>\u001b[0m in \u001b[0;36m<module>\u001b[0;34m\u001b[0m\n\u001b[1;32m      1\u001b[0m \u001b[0mm\u001b[0m \u001b[0;34m=\u001b[0m \u001b[0mnp\u001b[0m\u001b[0;34m.\u001b[0m\u001b[0marray\u001b[0m\u001b[0;34m(\u001b[0m\u001b[0;34m[\u001b[0m\u001b[0;36m1\u001b[0m\u001b[0;34m,\u001b[0m\u001b[0;36m0\u001b[0m\u001b[0;34m,\u001b[0m\u001b[0;36m0\u001b[0m\u001b[0;34m,\u001b[0m\u001b[0;36m0\u001b[0m\u001b[0;34m,\u001b[0m\u001b[0;36m0\u001b[0m\u001b[0;34m,\u001b[0m\u001b[0;36m0\u001b[0m\u001b[0;34m,\u001b[0m\u001b[0;36m0\u001b[0m\u001b[0;34m,\u001b[0m\u001b[0;36m0\u001b[0m\u001b[0;34m,\u001b[0m\u001b[0;36m1\u001b[0m\u001b[0;34m,\u001b[0m\u001b[0;36m0\u001b[0m\u001b[0;34m,\u001b[0m\u001b[0;36m0\u001b[0m\u001b[0;34m,\u001b[0m\u001b[0;36m0\u001b[0m\u001b[0;34m,\u001b[0m\u001b[0;36m0\u001b[0m\u001b[0;34m,\u001b[0m\u001b[0;36m0\u001b[0m\u001b[0;34m,\u001b[0m\u001b[0;36m1\u001b[0m\u001b[0;34m,\u001b[0m\u001b[0;36m0\u001b[0m\u001b[0;34m,\u001b[0m\u001b[0;36m0\u001b[0m\u001b[0;34m]\u001b[0m\u001b[0;34m)\u001b[0m\u001b[0;34m\u001b[0m\u001b[0;34m\u001b[0m\u001b[0m\n\u001b[0;32m----> 2\u001b[0;31m \u001b[0mnp\u001b[0m\u001b[0;34m.\u001b[0m\u001b[0minsert\u001b[0m\u001b[0;34m(\u001b[0m\u001b[0mm\u001b[0m\u001b[0;34m,\u001b[0m \u001b[0;36m599\u001b[0m\u001b[0;34m,\u001b[0m \u001b[0;36m5\u001b[0m\u001b[0;34m)\u001b[0m\u001b[0;34m\u001b[0m\u001b[0;34m\u001b[0m\u001b[0m\n\u001b[0m",
      "\u001b[0;32m<__array_function__ internals>\u001b[0m in \u001b[0;36minsert\u001b[0;34m(*args, **kwargs)\u001b[0m\n",
      "\u001b[0;32m~/anaconda3/envs/hwr5/lib/python3.7/site-packages/numpy/lib/function_base.py\u001b[0m in \u001b[0;36minsert\u001b[0;34m(arr, obj, values, axis)\u001b[0m\n\u001b[1;32m   4582\u001b[0m             raise IndexError(\n\u001b[1;32m   4583\u001b[0m                 \u001b[0;34m\"index %i is out of bounds for axis %i with \"\u001b[0m\u001b[0;34m\u001b[0m\u001b[0;34m\u001b[0m\u001b[0m\n\u001b[0;32m-> 4584\u001b[0;31m                 \"size %i\" % (obj, axis, N))\n\u001b[0m\u001b[1;32m   4585\u001b[0m         \u001b[0;32mif\u001b[0m \u001b[0;34m(\u001b[0m\u001b[0mindex\u001b[0m \u001b[0;34m<\u001b[0m \u001b[0;36m0\u001b[0m\u001b[0;34m)\u001b[0m\u001b[0;34m:\u001b[0m\u001b[0;34m\u001b[0m\u001b[0;34m\u001b[0m\u001b[0m\n\u001b[1;32m   4586\u001b[0m             \u001b[0mindex\u001b[0m \u001b[0;34m+=\u001b[0m \u001b[0mN\u001b[0m\u001b[0;34m\u001b[0m\u001b[0;34m\u001b[0m\u001b[0m\n",
      "\u001b[0;31mIndexError\u001b[0m: index 599 is out of bounds for axis 0 with size 17"
     ]
    }
   ],
   "source": [
    "m = np.array([1,0,0,0,0,0,0,0,1,0,0,0,0,0,1,0,0])\n",
    "np.append(m, 599, 5)"
   ]
  },
  {
   "cell_type": "code",
   "execution_count": 2,
   "metadata": {},
   "outputs": [
    {
     "data": {
      "text/plain": [
       "array([ 4.24264069, 11.3137085 , 19.79898987, 22.627417  ])"
      ]
     },
     "execution_count": 2,
     "metadata": {},
     "output_type": "execute_result"
    }
   ],
   "source": [
    "import numpy as np\n",
    "def calc_distance(x,y):\n",
    "    return ((x[:-1] - x[1:])**2+(y[:-1] - y[1:])**2)**(1/2)\n",
    "\n",
    "def calc_stroke_distances(x,y,start_strokes):\n",
    "    [start_indices] = np.where(m)\n",
    "    total_point_ct = len(start_strokes)\n",
    "    end_indices = np.append((start_indices-1)[1:], total_point_ct-2) # one because legnth is +1, one because length is shortened after calculating distance\n",
    "    distances = calc_distance(x,y)\n",
    "    cum_sum = np.cumsum(distances)\n",
    "    lengths = cum_sum[end_indices]\n",
    "    return lengths\n",
    "\n",
    "x = np.array(range(0,17))#**2\n",
    "y = np.array(range(0,17))#**2\n",
    "m = np.array([1,0,0,1,0,0,0,0,1,0,0,0,0,0,1,0,0])\n",
    "calc_stroke_distances(x,y,m)"
   ]
  },
  {
   "cell_type": "code",
   "execution_count": 3,
   "metadata": {},
   "outputs": [
    {
     "name": "stdout",
     "output_type": "stream",
     "text": [
      "[ 0  2  3  7  8 13 14 17] [ 0.          4.24264069  0.         11.3137085   0.         19.79898987\n",
      "  0.         22.627417  ]\n",
      "[ 0.          2.12132034  4.24264069  0.          2.82842712  5.65685425\n",
      "  8.48528137 11.3137085   0.          3.95979797  7.91959595 11.87939392\n",
      " 15.8391919  19.79898987  0.          7.54247233 15.08494467]\n"
     ]
    }
   ],
   "source": [
    "start_points = np.array([1,0,0,1,0,0,0,0,1,0,0,0,0,0,1,0,0])\n",
    "start_indices = np.where(start_points)[0]\n",
    "start_point_ct = len(start_indices)\n",
    "total_point_ct = len(start_points)\n",
    "\n",
    "# Create list of start and end points (x's for interpolation)\n",
    "xs = np.repeat(start_indices,2)\n",
    "xs[::2] -= 1\n",
    "xs = np.append(xs[1:], total_point_ct)\n",
    "\n",
    "## Create y's for interpolation (the target values)\n",
    "ys = np.zeros(2*start_point_ct)\n",
    "\n",
    "# Make each stroke length 1\n",
    "#ys[1::2] += 1\n",
    "\n",
    "# Make each target the actual stroke length\n",
    "distances = calc_stroke_distances(x,y, start_points)\n",
    "ys[1::2] = distances\n",
    "print(xs, ys)\n",
    "\n",
    "interp_xs = np.array(range(0, total_point_ct))\n",
    "out = np.interp(interp_xs, xs, ys)\n",
    "print(out)"
   ]
  },
  {
   "cell_type": "code",
   "execution_count": 33,
   "metadata": {},
   "outputs": [
    {
     "data": {
      "text/plain": [
       "17"
      ]
     },
     "execution_count": 33,
     "metadata": {},
     "output_type": "execute_result"
    }
   ],
   "source": [
    "len([1,0,0,1,0,0,0,0,1,0,0,0,0,0,1,0,0])"
   ]
  },
  {
   "cell_type": "code",
   "execution_count": 35,
   "metadata": {},
   "outputs": [
    {
     "name": "stderr",
     "output_type": "stream",
     "text": [
      "<ipython-input-35-94f2b4b76aa7>:1: DeprecationWarning: The binary mode of fromstring is deprecated, as it behaves surprisingly on unicode inputs. Use frombuffer instead\n",
      "  np.fromstring(\"\"\"[0.         1.41421356 2.82842712 0.         1.41421356 2.82842712, 4.24264069 5.65685425 0.\n"
     ]
    },
    {
     "ename": "ValueError",
     "evalue": "string size must be a multiple of element size",
     "output_type": "error",
     "traceback": [
      "\u001b[0;31m---------------------------------------------------------------------------\u001b[0m",
      "\u001b[0;31mValueError\u001b[0m                                Traceback (most recent call last)",
      "\u001b[0;32m<ipython-input-35-94f2b4b76aa7>\u001b[0m in \u001b[0;36m<module>\u001b[0;34m\u001b[0m\n\u001b[0;32m----> 1\u001b[0;31m np.fromstring(\"\"\"[0.         1.41421356 2.82842712 0.         1.41421356 2.82842712, 4.24264069 5.65685425 0.\n\u001b[0m\u001b[1;32m      2\u001b[0m                                1.41421356 2.82842712 4.24264069 5.65685425 7.07106781 0.         1.41421356 2.82842712]\"\"\")\n",
      "\u001b[0;31mValueError\u001b[0m: string size must be a multiple of element size"
     ]
    }
   ],
   "source": [
    "np.fromstring(\"\"\"[0.         1.41421356 2.82842712 0.         1.41421356 2.82842712, 4.24264069 5.65685425 0.\n",
    "                               1.41421356 2.82842712 4.24264069 5.65685425 7.07106781 0.         1.41421356 2.82842712]\"\"\")"
   ]
  },
  {
   "cell_type": "code",
   "execution_count": 43,
   "metadata": {},
   "outputs": [
    {
     "ename": "SyntaxError",
     "evalue": "invalid syntax (<unknown>, line 1)",
     "output_type": "error",
     "traceback": [
      "Traceback \u001b[0;36m(most recent call last)\u001b[0m:\n",
      "  File \u001b[1;32m\"/home/taylor/anaconda3/envs/hwr/lib/python3.8/site-packages/IPython/core/interactiveshell.py\"\u001b[0m, line \u001b[1;32m3319\u001b[0m, in \u001b[1;35mrun_code\u001b[0m\n    exec(code_obj, self.user_global_ns, self.user_ns)\n",
      "  File \u001b[1;32m\"<ipython-input-43-4d50038fe780>\"\u001b[0m, line \u001b[1;32m12\u001b[0m, in \u001b[1;35m<module>\u001b[0m\n    to_numpy(a)\n",
      "  File \u001b[1;32m\"<ipython-input-43-4d50038fe780>\"\u001b[0m, line \u001b[1;32m10\u001b[0m, in \u001b[1;35mto_numpy\u001b[0m\n    array_string = np.array(literal_eval(array_string))\n",
      "  File \u001b[1;32m\"/home/taylor/anaconda3/envs/hwr/lib/python3.8/ast.py\"\u001b[0m, line \u001b[1;32m59\u001b[0m, in \u001b[1;35mliteral_eval\u001b[0m\n    node_or_string = parse(node_or_string, mode='eval')\n",
      "\u001b[0;36m  File \u001b[0;32m\"/home/taylor/anaconda3/envs/hwr/lib/python3.8/ast.py\"\u001b[0;36m, line \u001b[0;32m47\u001b[0;36m, in \u001b[0;35mparse\u001b[0;36m\u001b[0m\n\u001b[0;31m    return compile(source, filename, mode, flags,\u001b[0m\n",
      "\u001b[0;36m  File \u001b[0;32m\"<unknown>\"\u001b[0;36m, line \u001b[0;32m1\u001b[0m\n\u001b[0;31m    [0.,,1.41421356,2.82842712,0.,1.41421356,2.82842712,4.24264069,5.65685425,0.,1.41421356,2.82842712,4.24264069,5.65685425,7.07106781,0.,1.41421356,2.82842712]\u001b[0m\n\u001b[0m        ^\u001b[0m\n\u001b[0;31mSyntaxError\u001b[0m\u001b[0;31m:\u001b[0m invalid syntax\n"
     ]
    }
   ],
   "source": [
    "from ast import literal_eval\n",
    "import numpy as np\n",
    "import re \n",
    "a = \"\"\"[0.,         1.41421356 2.82842712 0.         1.41421356 2.82842712 4.24264069 5.65685425 0.  1.41421356 2.82842712 4.24264069 5.65685425 7.07106781 0.         1.41421356 2.82842712]\"\"\"\n",
    "def to_numpy(array_string):\n",
    "    from ast import literal_eval\n",
    "    import numpy as np\n",
    "    import re\n",
    "    array_string = re.sub('\\s+', ',', array_string)\n",
    "    array_string = np.array(literal_eval(array_string))\n",
    "    return array_string\n",
    "to_numpy(a)"
   ]
  },
  {
   "cell_type": "code",
   "execution_count": 50,
   "metadata": {},
   "outputs": [
    {
     "name": "stdout",
     "output_type": "stream",
     "text": [
      "[1 0 0 1 0 0 0 0 1 0 0 0 0 0 1 0 0]\n",
      "[0 0 0 1 0 0 0 0 0 1 0 0]\n"
     ]
    }
   ],
   "source": [
    "print(m)\n",
    "print(m[slice(5,None)])"
   ]
  },
  {
   "cell_type": "code",
   "execution_count": 4,
   "metadata": {},
   "outputs": [],
   "source": [
    "import sys\n",
    "sys.path.append(\"..\")\n",
    "import stroke_recovery "
   ]
  },
  {
   "cell_type": "code",
   "execution_count": 8,
   "metadata": {},
   "outputs": [
    {
     "name": "stdout",
     "output_type": "stream",
     "text": [
      "(17,)\n"
     ]
    },
    {
     "data": {
      "text/plain": [
       "(17,)"
      ]
     },
     "execution_count": 8,
     "metadata": {},
     "output_type": "execute_result"
    }
   ],
   "source": [
    "x = np.array(range(0,17))#**2\n",
    "y = np.array(range(0,17))#**2\n",
    "is_start_stroke = np.array([1,0,0,1,0,0,0,0,1,0,0,0,0,0,1,0,0])\n",
    "\n",
    "print(x.shape)\n",
    "stroke_recovery.get_stroke_length_gt(x, y, is_start_stroke).shape\n"
   ]
  },
  {
   "cell_type": "code",
   "execution_count": 55,
   "metadata": {},
   "outputs": [],
   "source": [
    "x = np.array(range(0,100)).reshape(10,-1)\n"
   ]
  },
  {
   "cell_type": "code",
   "execution_count": 61,
   "metadata": {},
   "outputs": [
    {
     "data": {
      "text/plain": [
       "array([[22, 23, 29, 28],\n",
       "       [32, 33, 39, 38]])"
      ]
     },
     "execution_count": 61,
     "metadata": {},
     "output_type": "execute_result"
    }
   ],
   "source": [
    "x[(2,3),:][:,(2,3,9,8)]"
   ]
  },
  {
   "cell_type": "code",
   "execution_count": 64,
   "metadata": {},
   "outputs": [
    {
     "data": {
      "text/plain": [
       "[3]"
      ]
     },
     "execution_count": 64,
     "metadata": {},
     "output_type": "execute_result"
    }
   ],
   "source": [
    "pred_opts = [1,1,1,\"cumsum\"]\n",
    "[i for i,x in enumerate(pred_opts) if x==\"cumsum\"]\n"
   ]
  },
  {
   "cell_type": "code",
   "execution_count": 66,
   "metadata": {},
   "outputs": [
    {
     "ename": "AttributeError",
     "evalue": "'function' object has no attribute 'parent'",
     "output_type": "error",
     "traceback": [
      "\u001b[0;31m---------------------------------------------------------------------------\u001b[0m",
      "\u001b[0;31mAttributeError\u001b[0m                            Traceback (most recent call last)",
      "\u001b[0;32m<ipython-input-66-e93f0c76f3e1>\u001b[0m in \u001b[0;36m<module>\u001b[0;34m\u001b[0m\n\u001b[1;32m      4\u001b[0m \u001b[0;34m\u001b[0m\u001b[0m\n\u001b[1;32m      5\u001b[0m \u001b[0mA\u001b[0m\u001b[0;34m(\u001b[0m\u001b[0;34m)\u001b[0m\u001b[0;34m\u001b[0m\u001b[0;34m\u001b[0m\u001b[0m\n\u001b[0;32m----> 6\u001b[0;31m \u001b[0mA\u001b[0m\u001b[0;34m.\u001b[0m\u001b[0ma\u001b[0m\u001b[0;34m.\u001b[0m\u001b[0mparent\u001b[0m\u001b[0;34m\u001b[0m\u001b[0;34m\u001b[0m\u001b[0m\n\u001b[0m",
      "\u001b[0;31mAttributeError\u001b[0m: 'function' object has no attribute 'parent'"
     ]
    }
   ],
   "source": [
    "class A:\n",
    "    def a():\n",
    "        return\n",
    "    \n",
    "A()\n",
    "A.a.parent\n"
   ]
  },
  {
   "cell_type": "code",
   "execution_count": 70,
   "metadata": {},
   "outputs": [],
   "source": [
    "from torch import tensor\n",
    "t = tensor([[ 5.6182e-02,  4.8237e-02,  6.0472e-02],\n",
    "        [ 5.6182e-02,  4.8237e-02,  6.0472e-02],\n",
    "        [ 1.8290e-01,  3.4707e-02,  7.0455e-02],\n",
    "        [ 3.0516e-01,  4.4283e-02,  8.3394e-02],\n",
    "        [ 3.1483e-01,  4.2880e-02,  6.4565e-02],\n",
    "        [ 3.3620e-01,  6.6983e-02,  9.9389e-02],\n",
    "        [ 3.6715e-01,  5.6967e-02,  5.4152e-02],\n",
    "        [ 3.4176e-01,  1.3505e-01, -1.5264e-02],\n",
    "        [ 3.2874e-01,  1.6716e-01, -6.0327e-02],\n",
    "        [ 3.5085e-01,  1.2285e-01, -4.9806e-02],\n",
    "        [ 3.5992e-01,  1.9987e-01, -1.0932e-01],\n",
    "        [ 3.5992e-01,  1.9987e-01, -1.0932e-01],\n",
    "        [ 3.5992e-01,  1.9987e-01, -1.0932e-01],\n",
    "        [ 3.5992e-01,  1.9987e-01, -1.0932e-01],\n",
    "        [ 3.5992e-01,  1.9987e-01, -1.0932e-01],\n",
    "        [ 3.5992e-01,  1.9987e-01, -1.0932e-01],\n",
    "        [ 3.5992e-01,  1.9987e-01, -1.0932e-01],\n",
    "        [ 3.5992e-01,  1.9987e-01, -1.0932e-01],\n",
    "        [ 3.5992e-01,  1.9987e-01, -1.0932e-01],\n",
    "        [ 3.5992e-01,  1.9987e-01, -1.0932e-01],\n",
    "        [ 3.5992e-01,  1.9987e-01, -1.0932e-01],\n",
    "        [ 3.5992e-01,  1.9987e-01, -1.0932e-01],\n",
    "        [ 3.5992e-01,  1.9987e-01, -1.0932e-01],\n",
    "        [ 3.5992e-01,  1.9987e-01, -1.0932e-01],\n",
    "        [ 3.5992e-01,  1.9987e-01, -1.0932e-01],\n",
    "        [ 3.5992e-01,  1.9987e-01, -1.0932e-01],\n",
    "        [ 3.5992e-01,  1.9987e-01, -1.0932e-01],\n",
    "        [ 3.5992e-01,  1.9987e-01, -1.0932e-01],\n",
    "        [ 3.5992e-01,  1.9987e-01, -1.0932e-01],\n",
    "        [ 3.5992e-01,  1.9987e-01, -1.0932e-01],\n",
    "        [ 3.5992e-01,  1.9987e-01, -1.0932e-01],\n",
    "        [ 3.5992e-01,  1.9987e-01, -1.0932e-01],\n",
    "        [ 3.5992e-01,  1.9987e-01, -1.0932e-01],\n",
    "        [ 3.5992e-01,  1.9987e-01, -1.0932e-01],\n",
    "        [ 3.5992e-01,  1.9987e-01, -1.0932e-01],\n",
    "        [ 3.5992e-01,  1.9987e-01, -1.0932e-01],\n",
    "        [ 3.5992e-01,  1.9987e-01, -1.0932e-01],\n",
    "        [ 3.5992e-01,  1.9987e-01, -1.0932e-01],\n",
    "        [ 3.5992e-01,  1.9987e-01, -1.0932e-01],\n",
    "        [ 3.5992e-01,  1.9987e-01, -1.0932e-01],\n",
    "        [ 3.6846e-01,  1.6827e-01, -1.3545e-01],\n",
    "        [ 3.5647e-01,  1.5621e-01, -1.5700e-01],\n",
    "        [ 3.2406e-01,  1.5552e-01, -1.2509e-01],\n",
    "        [ 3.2344e-01,  1.0659e-01, -9.7693e-02],\n",
    "        [ 3.2202e-01,  1.0863e-01, -8.3309e-02],\n",
    "        [ 3.2245e-01,  1.3167e-01, -2.7492e-02],\n",
    "        [ 3.1029e-01,  1.5915e-01, -4.2161e-03],\n",
    "        [ 2.6833e-01,  1.1714e-01,  1.7999e-02],\n",
    "        [ 3.1697e-01,  4.2333e-02,  6.8556e-03],\n",
    "        [ 3.8792e-01,  5.4192e-02, -5.4265e-03],\n",
    "        [ 5.2111e-01,  6.7131e-02,  1.9288e-02],\n",
    "        [ 5.8094e-01,  5.7406e-02, -2.5740e-02],\n",
    "        [ 6.4835e-01,  6.6668e-02, -1.1636e-02],\n",
    "        [ 6.9643e-01,  6.8897e-02,  2.4281e-02],\n",
    "        [ 7.5817e-01,  7.8612e-02,  8.5438e-02],\n",
    "        [ 7.8531e-01,  1.0917e-01,  1.0698e-01],\n",
    "        [ 8.1562e-01,  9.6923e-02,  1.8119e-01],\n",
    "        [ 8.2950e-01,  6.8102e-02,  1.8837e-01],\n",
    "        [ 8.8166e-01,  7.9059e-02,  2.1089e-01],\n",
    "        [ 9.3493e-01,  1.1647e-01,  1.6456e-01],\n",
    "        [ 1.0601e+00,  1.3203e-01,  9.2920e-02],\n",
    "        [ 1.0601e+00,  1.3203e-01,  9.2920e-02],\n",
    "        [ 1.0601e+00,  1.3203e-01,  9.2920e-02],\n",
    "        [ 1.0601e+00,  1.3203e-01,  9.2920e-02],\n",
    "        [ 1.0601e+00,  1.3203e-01,  9.2920e-02],\n",
    "        [ 1.0601e+00,  1.3203e-01,  9.2920e-02],\n",
    "        [ 1.0601e+00,  1.3203e-01,  9.2920e-02],\n",
    "        [ 1.1168e+00,  1.2426e-01,  8.1863e-02],\n",
    "        [ 1.1560e+00,  1.6174e-01,  8.4418e-02],\n",
    "        [ 1.1560e+00,  1.6174e-01,  8.4418e-02],\n",
    "        [ 1.1560e+00,  1.6174e-01,  8.4418e-02],\n",
    "        [ 1.1560e+00,  1.6174e-01,  8.4418e-02],\n",
    "        [ 1.1560e+00,  1.6174e-01,  8.4418e-02],\n",
    "        [ 1.1560e+00,  1.6174e-01,  8.4418e-02],\n",
    "        [ 1.1560e+00,  1.6174e-01,  8.4418e-02],\n",
    "        [ 1.1560e+00,  1.6174e-01,  8.4418e-02],\n",
    "        [ 1.1560e+00,  1.6174e-01,  8.4418e-02],\n",
    "        [ 1.1560e+00,  1.6174e-01,  8.4418e-02],\n",
    "        [ 1.1560e+00,  1.6174e-01,  8.4418e-02],\n",
    "        [ 1.1560e+00,  1.6174e-01,  8.4418e-02],\n",
    "        [ 1.1560e+00,  1.6174e-01,  8.4418e-02],\n",
    "        [ 1.1560e+00,  1.6174e-01,  8.4418e-02],\n",
    "        [ 1.2183e+00,  1.4310e-01,  7.9317e-02],\n",
    "        [ 1.2183e+00,  1.4310e-01,  7.9317e-02],\n",
    "        [ 1.2183e+00,  1.4310e-01,  7.9317e-02],\n",
    "        [ 1.2183e+00,  1.4310e-01,  7.9317e-02],\n",
    "        [ 1.2183e+00,  1.4310e-01,  7.9317e-02],\n",
    "        [ 1.2183e+00,  1.4310e-01,  7.9317e-02],\n",
    "        [ 1.2183e+00,  1.4310e-01,  7.9317e-02],\n",
    "        [ 1.2183e+00,  1.4310e-01,  7.9317e-02],\n",
    "        [ 1.2183e+00,  1.4310e-01,  7.9317e-02],\n",
    "        [ 1.2270e+00,  1.0423e-01,  7.4846e-02],\n",
    "        [ 1.2626e+00,  1.1558e-01,  5.5968e-02],\n",
    "        [ 1.3427e+00,  5.2703e-02,  5.1549e-02],\n",
    "        [ 1.4274e+00,  2.6434e-02,  1.4056e-02],\n",
    "        [ 1.5271e+00,  4.8272e-02,  1.5328e-02],\n",
    "        [ 1.6175e+00,  7.2624e-02,  6.6198e-02],\n",
    "        [ 1.7265e+00,  1.0421e-01,  7.3894e-02],\n",
    "        [ 1.8646e+00,  1.2887e-01,  1.3110e-01],\n",
    "        [ 1.8646e+00,  1.2887e-01,  1.3110e-01],\n",
    "        [ 1.8646e+00,  1.2887e-01,  1.3110e-01],\n",
    "        [ 1.8646e+00,  1.2887e-01,  1.3110e-01],\n",
    "        [ 1.8646e+00,  1.2887e-01,  1.3110e-01],\n",
    "        [ 1.8646e+00,  1.2887e-01,  1.3110e-01],\n",
    "        [ 1.8646e+00,  1.2887e-01,  1.3110e-01],\n",
    "        [ 1.8646e+00,  1.2887e-01,  1.3110e-01],\n",
    "        [ 1.8646e+00,  1.2887e-01,  1.3110e-01],\n",
    "        [ 1.8646e+00,  1.2887e-01,  1.3110e-01],\n",
    "        [ 1.8646e+00,  1.2887e-01,  1.3110e-01],\n",
    "        [ 1.8646e+00,  1.2887e-01,  1.3110e-01],\n",
    "        [ 1.8646e+00,  1.2887e-01,  1.3110e-01],\n",
    "        [ 1.8646e+00,  1.2887e-01,  1.3110e-01],\n",
    "        [ 1.8646e+00,  1.2887e-01,  1.3110e-01],\n",
    "        [ 1.8646e+00,  1.2887e-01,  1.3110e-01],\n",
    "        [ 1.8646e+00,  1.2887e-01,  1.3110e-01],\n",
    "        [ 1.8646e+00,  1.2887e-01,  1.3110e-01],\n",
    "        [ 1.8646e+00,  1.2887e-01,  1.3110e-01],\n",
    "        [ 1.8646e+00,  1.2887e-01,  1.3110e-01],\n",
    "        [ 1.8646e+00,  1.2887e-01,  1.3110e-01],\n",
    "        [ 1.8646e+00,  1.2887e-01,  1.3110e-01],\n",
    "        [ 1.8646e+00,  1.2887e-01,  1.3110e-01],\n",
    "        [ 1.8646e+00,  1.2887e-01,  1.3110e-01],\n",
    "        [ 1.8646e+00,  1.2887e-01,  1.3110e-01],\n",
    "        [ 1.8646e+00,  1.2887e-01,  1.3110e-01],\n",
    "        [ 1.8646e+00,  1.2887e-01,  1.3110e-01],\n",
    "        [ 1.8646e+00,  1.2887e-01,  1.3110e-01],\n",
    "        [ 1.8646e+00,  1.2887e-01,  1.3110e-01],\n",
    "        [ 1.8646e+00,  1.2887e-01,  1.3110e-01],\n",
    "        [ 1.8646e+00,  1.2887e-01,  1.3110e-01],\n",
    "        [ 1.8646e+00,  1.2887e-01,  1.3110e-01],\n",
    "        [ 1.8646e+00,  1.2887e-01,  1.3110e-01],\n",
    "        [ 1.8646e+00,  1.2887e-01,  1.3110e-01],\n",
    "        [ 1.8646e+00,  1.2887e-01,  1.3110e-01],\n",
    "        [ 1.9761e+00,  8.0169e-02,  1.1754e-01],\n",
    "        [ 2.0261e+00,  1.1905e-01,  1.9138e-01],\n",
    "        [ 2.0848e+00,  1.1388e-01,  1.7258e-01],\n",
    "        [ 2.0979e+00,  8.6285e-02,  1.5790e-01],\n",
    "        [ 2.0995e+00,  1.1158e-01,  2.2994e-01],\n",
    "        [ 2.1453e+00,  7.4806e-02,  2.6628e-01],\n",
    "        [ 2.1482e+00,  5.8583e-02,  3.6263e-01],\n",
    "        [ 2.1692e+00,  1.2693e-01,  4.7739e-01],\n",
    "        [ 2.1820e+00,  2.2757e-01,  5.1177e-01],\n",
    "        [ 2.1820e+00,  2.2757e-01,  5.1177e-01],\n",
    "        [ 2.1820e+00,  2.2757e-01,  5.1177e-01],\n",
    "        [ 2.1820e+00,  2.2757e-01,  5.1177e-01],\n",
    "        [ 2.1820e+00,  2.2757e-01,  5.1177e-01],\n",
    "        [ 2.1820e+00,  2.2757e-01,  5.1177e-01],\n",
    "        [ 2.1820e+00,  2.2757e-01,  5.1177e-01],\n",
    "        [ 2.1820e+00,  2.2757e-01,  5.1177e-01],\n",
    "        [ 2.1820e+00,  2.2757e-01,  5.1177e-01],\n",
    "        [ 2.1820e+00,  2.2757e-01,  5.1177e-01],\n",
    "        [ 2.1820e+00,  2.2757e-01,  5.1177e-01],\n",
    "        [ 2.1820e+00,  2.2757e-01,  5.1177e-01],\n",
    "        [ 2.1820e+00,  2.2757e-01,  5.1177e-01],\n",
    "        [ 2.1820e+00,  2.2757e-01,  5.1177e-01],\n",
    "        [ 2.1820e+00,  2.2757e-01,  5.1177e-01],\n",
    "        [ 2.2197e+00,  5.2529e-02,  5.5958e-01],\n",
    "        [ 2.2288e+00,  9.2969e-02,  5.9221e-01],\n",
    "        [ 2.2369e+00,  1.1071e-01,  6.0469e-01],\n",
    "        [ 2.2720e+00,  3.0495e-02,  5.9910e-01],\n",
    "        [ 2.3451e+00,  5.9991e-02,  5.6814e-01],\n",
    "        [ 2.3098e+00,  6.7574e-02,  5.2016e-01],\n",
    "        [ 2.3458e+00,  5.8258e-02,  6.0728e-01],\n",
    "        [ 2.4660e+00,  7.7804e-03,  6.4279e-01],\n",
    "        [ 2.5140e+00,  6.3214e-02,  6.9775e-01],\n",
    "        [ 2.5514e+00,  1.1557e-01,  7.2049e-01],\n",
    "        [ 2.5514e+00,  1.1557e-01,  7.2049e-01],\n",
    "        [ 2.5514e+00,  1.1557e-01,  7.2049e-01],\n",
    "        [ 2.5514e+00,  1.1557e-01,  7.2049e-01],\n",
    "        [ 2.5514e+00,  1.1557e-01,  7.2049e-01],\n",
    "        [ 2.5514e+00,  1.1557e-01,  7.2049e-01],\n",
    "        [ 2.5514e+00,  1.1557e-01,  7.2049e-01],\n",
    "        [ 2.5514e+00,  1.1557e-01,  7.2049e-01],\n",
    "        [ 2.6048e+00,  2.5393e-02,  7.3250e-01],\n",
    "        [ 2.6048e+00,  2.5393e-02,  7.3250e-01],\n",
    "        [ 2.6675e+00,  2.3538e-02,  7.4168e-01],\n",
    "        [ 2.6685e+00,  5.4112e-02,  7.1045e-01],\n",
    "        [ 2.6841e+00,  5.4719e-02,  6.5215e-01],\n",
    "        [ 2.7383e+00,  3.9305e-02,  6.4963e-01],\n",
    "        [ 2.7527e+00,  1.2059e-01,  6.1734e-01],\n",
    "        [ 2.7998e+00,  6.1551e-02,  6.6164e-01],\n",
    "        [ 2.8865e+00,  2.6463e-02,  6.8820e-01],\n",
    "        [ 2.9279e+00,  4.7784e-02,  6.7549e-01],\n",
    "        [ 2.9933e+00,  2.1505e-02,  6.7211e-01],\n",
    "        [ 3.0489e+00,  7.4008e-02,  6.2783e-01],\n",
    "        [ 3.0700e+00,  1.1050e-01,  6.4196e-01],\n",
    "        [ 3.0952e+00,  7.7695e-02,  7.0217e-01],\n",
    "        [ 3.1107e+00,  9.5043e-02,  7.4696e-01],\n",
    "        [ 3.1705e+00,  3.2286e-03,  8.1692e-01],\n",
    "        [ 3.1670e+00,  6.5460e-02,  8.0255e-01],\n",
    "        [ 3.2137e+00,  8.3131e-02,  8.1067e-01],\n",
    "        [ 3.2499e+00,  1.0772e-01,  8.7270e-01],\n",
    "        [ 3.3395e+00,  9.2868e-02,  9.1323e-01],\n",
    "        [ 3.4107e+00,  8.1493e-02,  9.3183e-01],\n",
    "        [ 3.5383e+00,  9.0472e-02,  9.2753e-01],\n",
    "        [ 3.6509e+00,  9.4023e-02,  9.2459e-01],\n",
    "        [ 3.7096e+00,  1.4408e-01,  9.1388e-01],\n",
    "        [ 3.7385e+00,  1.3994e-01,  8.8327e-01],\n",
    "        [ 3.7630e+00,  1.1713e-01,  8.6682e-01],\n",
    "        [ 3.7913e+00,  1.2011e-01,  8.4856e-01],\n",
    "        [ 3.8323e+00,  1.1390e-01,  8.5527e-01],\n",
    "        [ 3.8550e+00,  1.1513e-01,  8.8382e-01],\n",
    "        [ 3.9253e+00,  4.1897e-02,  8.9156e-01],\n",
    "        [ 3.9362e+00,  6.9071e-03,  9.0203e-01],\n",
    "        [ 3.9818e+00, -9.3453e-03,  9.1089e-01],\n",
    "        [ 3.9992e+00,  2.5824e-02,  8.9699e-01],\n",
    "        [ 4.0375e+00,  5.2793e-02,  9.1658e-01],\n",
    "        [ 4.0821e+00,  5.5728e-02,  9.0702e-01],\n",
    "        [ 4.0909e+00,  3.0116e-02,  9.0888e-01],\n",
    "        [ 4.1121e+00,  5.0509e-02,  8.9917e-01],\n",
    "        [ 4.1716e+00,  7.3412e-02,  9.1155e-01],\n",
    "        [ 4.2538e+00,  2.6515e-02,  9.3152e-01],\n",
    "        [ 4.3545e+00,  4.5299e-02,  9.3730e-01],\n",
    "        [ 4.4168e+00,  1.3779e-02,  9.6843e-01],\n",
    "        [ 4.4624e+00,  1.1290e-03,  1.0243e+00],\n",
    "        [ 4.5437e+00, -3.2718e-02,  1.0935e+00],\n",
    "        [ 4.6218e+00,  3.5754e-02,  1.1060e+00],\n",
    "        [ 4.7054e+00,  8.5368e-02,  1.1289e+00],\n",
    "        [ 4.7409e+00,  6.1304e-02,  1.1991e+00],\n",
    "        [ 4.7510e+00,  6.0801e-02,  1.2665e+00],\n",
    "        [ 4.7631e+00,  5.5550e-02,  1.3460e+00],\n",
    "        [ 4.8289e+00,  1.6878e-03,  1.4294e+00],\n",
    "        [ 4.8854e+00,  2.6566e-02,  1.4392e+00],\n",
    "        [ 4.8938e+00,  4.6870e-02,  1.5033e+00],\n",
    "        [ 4.9344e+00, -5.8726e-03,  1.4965e+00],\n",
    "        [ 4.9651e+00,  6.2075e-02,  1.4976e+00],\n",
    "        [ 4.9750e+00,  1.5683e-02,  1.5365e+00],\n",
    "        [ 5.0151e+00,  4.4949e-02,  1.5323e+00],\n",
    "        [ 5.0835e+00,  6.9824e-02,  1.5538e+00],\n",
    "        [ 5.0953e+00,  2.5417e-02,  1.5568e+00],\n",
    "        [ 5.0811e+00,  4.2848e-02,  1.6088e+00],\n",
    "        [ 5.0768e+00, -6.5909e-03,  1.6879e+00],\n",
    "        [ 5.0783e+00,  4.2933e-02,  1.7093e+00],\n",
    "        [ 5.0806e+00,  4.2178e-02,  1.7895e+00],\n",
    "        [ 5.1224e+00,  8.5792e-02,  1.8119e+00],\n",
    "        [ 5.1633e+00,  8.4537e-02,  1.8285e+00],\n",
    "        [ 5.2219e+00,  5.6664e-02,  1.8834e+00],\n",
    "        [ 5.2743e+00,  4.1841e-02,  1.9510e+00],\n",
    "        [ 5.3601e+00,  4.7225e-02,  1.9857e+00],\n",
    "        [ 5.4064e+00,  3.1136e-02,  2.0866e+00],\n",
    "        [ 5.4739e+00,  2.5214e-02,  2.1774e+00],\n",
    "        [ 5.5663e+00,  1.6316e-03,  2.2877e+00],\n",
    "        [ 5.6209e+00,  1.1237e-01,  2.3909e+00],\n",
    "        [ 5.7326e+00,  6.4177e-02,  2.5250e+00],\n",
    "        [ 5.8282e+00,  7.0661e-02,  2.6276e+00],\n",
    "        [ 5.9176e+00,  6.3317e-02,  2.7175e+00],\n",
    "        [ 6.0226e+00,  6.7682e-02,  2.8100e+00],\n",
    "        [ 6.0675e+00,  5.1404e-02,  2.8998e+00],\n",
    "        [ 6.1108e+00,  9.0375e-02,  3.0092e+00],\n",
    "        [ 6.1672e+00,  1.1926e-01,  3.1517e+00],\n",
    "        [ 6.2332e+00,  3.6317e-02,  3.2563e+00],\n",
    "        [ 6.2966e+00,  3.2609e-02,  3.3643e+00],\n",
    "        [ 6.3815e+00,  1.2897e-02,  3.4282e+00],\n",
    "        [ 6.4354e+00,  2.6960e-02,  3.4156e+00],\n",
    "        [ 6.5137e+00,  1.0766e-01,  3.4392e+00],\n",
    "        [ 6.5816e+00,  9.3598e-02,  3.4835e+00],\n",
    "        [ 6.6453e+00,  1.2206e-01,  3.4941e+00],\n",
    "        [ 6.7468e+00,  1.0258e-01,  3.4841e+00],\n",
    "        [ 6.8396e+00,  1.1122e-01,  3.4661e+00],\n",
    "        [ 6.9201e+00,  9.1596e-02,  3.4265e+00],\n",
    "        [ 6.9832e+00,  1.0891e-01,  3.4443e+00],\n",
    "        [ 7.0774e+00,  5.6311e-02,  3.4833e+00],\n",
    "        [ 7.1713e+00,  1.1261e-01,  3.4871e+00],\n",
    "        [ 7.3009e+00,  9.4514e-02,  3.4943e+00],\n",
    "        [ 7.3653e+00,  1.1779e-01,  3.4703e+00],\n",
    "        [ 7.4036e+00,  1.0848e-01,  3.4519e+00],\n",
    "        [ 7.4761e+00,  7.7661e-02,  3.4615e+00],\n",
    "        [ 7.5310e+00,  9.7801e-02,  3.5095e+00],\n",
    "        [ 7.6384e+00,  8.5154e-02,  3.5338e+00],\n",
    "        [ 7.7483e+00,  4.3365e-02,  3.5515e+00],\n",
    "        [ 7.8644e+00,  7.8655e-02,  3.5247e+00],\n",
    "        [ 7.9921e+00,  8.3637e-02,  3.5475e+00],\n",
    "        [ 8.1469e+00,  7.1251e-02,  3.5595e+00],\n",
    "        [ 8.2953e+00,  9.3308e-02,  3.5659e+00],\n",
    "        [ 8.3759e+00,  8.9351e-02,  3.5229e+00],\n",
    "        [ 8.4798e+00,  1.1422e-01,  3.4741e+00],\n",
    "        [ 8.6239e+00,  6.8639e-02,  3.4394e+00],\n",
    "        [ 8.7503e+00,  6.9070e-02,  3.4197e+00],\n",
    "        [ 8.8404e+00,  6.9260e-02,  3.3598e+00],\n",
    "        [ 8.9340e+00,  3.8820e-02,  3.3694e+00],\n",
    "        [ 8.9832e+00,  8.9176e-02,  3.3556e+00],\n",
    "        [ 9.0253e+00,  1.3646e-01,  3.3552e+00],\n",
    "        [ 9.1309e+00,  1.4258e-01,  3.3363e+00],\n",
    "        [ 9.2616e+00,  7.1876e-02,  3.3621e+00],\n",
    "        [ 9.4188e+00,  9.2600e-02,  3.3682e+00],\n",
    "        [ 9.5493e+00,  7.0063e-02,  3.3710e+00],\n",
    "        [ 9.6547e+00,  1.2658e-01,  3.3208e+00],\n",
    "        [ 9.7987e+00,  1.3010e-01,  3.2240e+00],\n",
    "        [ 9.9171e+00,  1.2845e-01,  3.1811e+00],\n",
    "        [ 1.0014e+01,  1.3608e-01,  3.1169e+00],\n",
    "        [ 1.0137e+01,  1.3679e-01,  3.0844e+00],\n",
    "        [ 1.0279e+01,  1.6670e-01,  3.0458e+00],\n",
    "        [ 1.0447e+01,  9.6293e-02,  2.9943e+00],\n",
    "        [ 1.0567e+01,  1.1994e-01,  2.9213e+00],\n",
    "        [ 1.0645e+01,  1.0101e-01,  2.8972e+00],\n",
    "        [ 1.0731e+01,  1.2077e-01,  2.8371e+00],\n",
    "        [ 1.0789e+01,  8.4638e-02,  2.7619e+00],\n",
    "        [ 1.0865e+01,  9.5434e-02,  2.7349e+00],\n",
    "        [ 1.0946e+01,  1.3713e-01,  2.6690e+00],\n",
    "        [ 1.1005e+01,  1.2250e-01,  2.6130e+00],\n",
    "        [ 1.1121e+01,  1.8535e-01,  2.5480e+00],\n",
    "        [ 1.1250e+01,  1.5802e-01,  2.4843e+00],\n",
    "        [ 1.1370e+01,  1.2546e-01,  2.4427e+00],\n",
    "        [ 1.1480e+01,  4.0134e-02,  2.4079e+00],\n",
    "        [ 1.1624e+01,  8.5972e-02,  2.4030e+00],\n",
    "        [ 1.1688e+01,  7.2747e-02,  2.4404e+00],\n",
    "        [ 1.1757e+01,  1.3691e-01,  2.4194e+00],\n",
    "        [ 1.1850e+01,  1.6689e-01,  2.3728e+00],\n",
    "        [ 1.1935e+01,  7.9217e-02,  2.3586e+00],\n",
    "        [ 1.2044e+01,  7.9528e-02,  2.3369e+00],\n",
    "        [ 1.2188e+01,  8.7338e-02,  2.2861e+00],\n",
    "        [ 1.2335e+01,  5.2636e-02,  2.2484e+00],\n",
    "        [ 1.2467e+01,  8.6906e-02,  2.2308e+00],\n",
    "        [ 1.2573e+01,  8.9789e-02,  2.2036e+00],\n",
    "        [ 1.2711e+01,  1.0717e-01,  2.2945e+00],\n",
    "        [ 1.2829e+01,  9.2494e-02,  2.3634e+00],\n",
    "        [ 1.2961e+01,  1.4715e-01,  2.3746e+00],\n",
    "        [ 1.3069e+01,  1.7048e-01,  2.4031e+00],\n",
    "        [ 1.3192e+01,  7.2593e-02,  2.4326e+00],\n",
    "        [ 1.3278e+01,  8.8537e-02,  2.4436e+00],\n",
    "        [ 1.3374e+01,  9.0692e-02,  2.4489e+00],\n",
    "        [ 1.3454e+01,  1.2046e-01,  2.4193e+00],\n",
    "        [ 1.3596e+01,  1.1388e-01,  2.4236e+00],\n",
    "        [ 1.3720e+01,  7.7329e-02,  2.3920e+00],\n",
    "        [ 1.3865e+01,  7.3950e-02,  2.3844e+00],\n",
    "        [ 1.4050e+01,  5.4887e-02,  2.3186e+00],\n",
    "        [ 1.4217e+01,  1.0250e-01,  2.2753e+00]])"
   ]
  },
  {
   "cell_type": "code",
   "execution_count": 72,
   "metadata": {},
   "outputs": [],
   "source": [
    "from torch import Tensor\n",
    "t = (t+1)*Tensor([1,10,100])"
   ]
  },
  {
   "cell_type": "code",
   "execution_count": 73,
   "metadata": {},
   "outputs": [
    {
     "name": "stdout",
     "output_type": "stream",
     "text": [
      "tensor([[  1.0562,  10.4824, 106.0472],\n",
      "        [  1.0562,  10.4824, 106.0472],\n",
      "        [  1.1829,  10.3471, 107.0455],\n",
      "        [  1.3052,  10.4428, 108.3394]])\n"
     ]
    }
   ],
   "source": [
    "print(t[:4])"
   ]
  },
  {
   "cell_type": "code",
   "execution_count": null,
   "metadata": {},
   "outputs": [],
   "source": []
  }
 ],
 "metadata": {
  "kernelspec": {
   "display_name": "hwr5",
   "language": "python",
   "name": "hwr5"
  },
  "language_info": {
   "codemirror_mode": {
    "name": "ipython",
    "version": 3
   },
   "file_extension": ".py",
   "mimetype": "text/x-python",
   "name": "python",
   "nbconvert_exporter": "python",
   "pygments_lexer": "ipython3",
   "version": "3.7.3"
  },
  "pycharm": {
   "stem_cell": {
    "cell_type": "raw",
    "metadata": {
     "collapsed": false
    },
    "source": []
   }
  }
 },
 "nbformat": 4,
 "nbformat_minor": 2
}
