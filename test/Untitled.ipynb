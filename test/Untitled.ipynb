{
 "cells": [
  {
   "cell_type": "code",
   "execution_count": 4,
   "metadata": {},
   "outputs": [],
   "source": [
    "# SOS & EOS swapper\n",
    "import torch\n",
    "import numpy as np\n",
    "from torch import tensor\n",
    "\n",
    "# Make sure SOS and EOS exist and are distinct\n",
    "\n",
    "shp = (12, 4)\n",
    "\n",
    "a = np.array(range(np.product(shp))).reshape(shp)\n",
    "\n",
    "# Start / end point             \n",
    "gts = a\n"
   ]
  },
  {
   "cell_type": "code",
   "execution_count": null,
   "metadata": {},
   "outputs": [],
   "source": [
    "# Plan\n",
    "    # Get Swapper working\n",
    "        # Have this predict which is the start and end point too\n",
    "    # Fix plotting\n",
    "    # Test again:\n",
    "        # Images\n",
    "        # Warping\n",
    "        # Distortion\n",
    "    # Check if loss is a bottleneck...probably not\n",
    "        "
   ]
  },
  {
   "cell_type": "code",
   "execution_count": 5,
   "metadata": {},
   "outputs": [],
   "source": [
    "start_points = gts[2] if gts.shape[0] > 2 else np.zeros(gts.shape[-1])"
   ]
  },
  {
   "cell_type": "code",
   "execution_count": 6,
   "metadata": {},
   "outputs": [
    {
     "data": {
      "text/plain": [
       "array([0., 0., 0., 0.])"
      ]
     },
     "execution_count": 6,
     "metadata": {},
     "output_type": "execute_result"
    }
   ],
   "source": [
    "np.zeros(gts.shape[-1])"
   ]
  },
  {
   "cell_type": "code",
   "execution_count": null,
   "metadata": {},
   "outputs": [],
   "source": []
  }
 ],
 "metadata": {
  "kernelspec": {
   "display_name": "hwr",
   "language": "python",
   "name": "hwr"
  },
  "language_info": {
   "codemirror_mode": {
    "name": "ipython",
    "version": 3
   },
   "file_extension": ".py",
   "mimetype": "text/x-python",
   "name": "python",
   "nbconvert_exporter": "python",
   "pygments_lexer": "ipython3",
   "version": "3.8.1"
  }
 },
 "nbformat": 4,
 "nbformat_minor": 2
}
