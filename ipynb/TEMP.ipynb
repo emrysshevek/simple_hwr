{
 "cells": [
  {
   "cell_type": "code",
   "execution_count": 31,
   "metadata": {},
   "outputs": [],
   "source": [
    "from pathlib import Path\n",
    "import pickle\n",
    "path = Path(\"/media/data/GitHub/simple_hwr/data/online_coordinate_data/3_stroke_64_v2/test_online_coords.pickle\")\n",
    "d = pickle.load(path.open(\"rb\"))"
   ]
  },
  {
   "cell_type": "code",
   "execution_count": 32,
   "metadata": {},
   "outputs": [
    {
     "name": "stdout",
     "output_type": "stream",
     "text": [
      "0\n"
     ]
    }
   ],
   "source": [
    "print(len(d))"
   ]
  },
  {
   "cell_type": "code",
   "execution_count": null,
   "metadata": {},
   "outputs": [],
   "source": [
    "2+2"
   ]
  },
  {
   "cell_type": "code",
   "execution_count": null,
   "metadata": {},
   "outputs": [],
   "source": [
    "print(4)"
   ]
  },
  {
   "cell_type": "code",
   "execution_count": 16,
   "metadata": {},
   "outputs": [],
   "source": [
    "\n",
    "times = \"4h 11m\",\"2h 22m\",\"2h 43m\",\"2h 59m\",\"3h 39m\",\"3h 32m\",\"3h 36m\",\"2h 30m\",\"3h 4m\",\"4h 14m\",\"1h 51m\",\"4h 7m\",\"3h 24m\",\"2h 52m\",\"1h 57m\",\"3h 50m\",\"3h 39m\",\"4h 32m\",\"4h 42m\",\"5h 44m\",\"2h 52m\",\"2h 41m\",\"1h 41m\",\"5h 16m\",\"2h 54m\",\"2h 43m\",\"2h 30m\",\"2h 50m\",\"6h 20m\",\"2h 0m\",\"3h 5m\",\"2h 32m\",\"3h 12m\",\"3h 3m\",\"3h 53m\",\"2h 19m\",\"1h 54m\",\"4h 11m\",\"2h 15m\",\"2h 25m\",\"2h 21m\",\"2h 18m\",\"2h 39m\"\n",
    "\n",
    "times2 = []\n",
    "for t in times:\n",
    "    t = t.replace(\"h\", \"\").replace(\"m\", \"\").split(\" \")\n",
    "    times2.append((int(t[0])*60 + int(t[1]) )/60)"
   ]
  },
  {
   "cell_type": "code",
   "execution_count": 17,
   "metadata": {},
   "outputs": [
    {
     "name": "stdout",
     "output_type": "stream",
     "text": [
      "[4.183333333333334, 2.3666666666666667, 2.716666666666667, 2.9833333333333334, 3.65, 3.533333333333333, 3.6, 2.5, 3.066666666666667, 4.233333333333333, 1.85, 4.116666666666666, 3.4, 2.8666666666666667, 1.95, 3.8333333333333335, 3.65, 4.533333333333333, 4.7, 5.733333333333333, 2.8666666666666667, 2.683333333333333, 1.6833333333333333, 5.266666666666667, 2.9, 2.716666666666667, 2.5, 2.8333333333333335, 6.333333333333333, 2.0, 3.0833333333333335, 2.533333333333333, 3.2, 3.05, 3.8833333333333333, 2.316666666666667, 1.9, 4.183333333333334, 2.25, 2.4166666666666665, 2.35, 2.3, 2.65]\n"
     ]
    }
   ],
   "source": [
    "print(times2)"
   ]
  },
  {
   "cell_type": "code",
   "execution_count": 28,
   "metadata": {},
   "outputs": [
    {
     "name": "stdout",
     "output_type": "stream",
     "text": [
      "Mean: 3.1945736434108527\n",
      "Median: 2.9\n",
      "Std Dev: 1.03773581380506\n"
     ]
    },
    {
     "data": {
      "image/png": "[encoded data removed]",
      "text/plain": [
       "<Figure size 432x288 with 1 Axes>"
      ]
     },
     "metadata": {
      "needs_background": "light"
     },
     "output_type": "display_data"
    }
   ],
   "source": [
    "import matplotlib.pyplot as plt\n",
    "import numpy as np\n",
    "plt.xlabel('Hours', fontsize=18)\n",
    "plt.ylabel('Students', fontsize=18)\n",
    "\n",
    "plt.hist(times2)\n",
    "print(\"Mean:\", np.mean(times2))\n",
    "print(\"Median:\", np.median(times2))\n",
    "print(\"Std Dev:\", np.std(times2))"
   ]
  },
  {
   "cell_type": "code",
   "execution_count": null,
   "metadata": {},
   "outputs": [],
   "source": []
  }
 ],
 "metadata": {
  "kernelspec": {
   "display_name": "hwr5",
   "language": "python",
   "name": "hwr5"
  },
  "language_info": {
   "codemirror_mode": {
    "name": "ipython",
    "version": 3
   },
   "file_extension": ".py",
   "mimetype": "text/x-python",
   "name": "python",
   "nbconvert_exporter": "python",
   "pygments_lexer": "ipython3",
   "version": "3.6.5"
  }
 },
 "nbformat": 4,
 "nbformat_minor": 2
}
