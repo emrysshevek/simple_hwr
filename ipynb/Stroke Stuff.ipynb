{
 "cells": [
  {
   "cell_type": "code",
   "execution_count": 107,
   "metadata": {},
   "outputs": [],
   "source": [
    "import os\n",
    "import torch\n",
    "import xml.etree.ElementTree as ET\n",
    "import matplotlib.pyplot as plt\n",
    "import numpy as np\n",
    "import random\n",
    "from pathlib import Path\n",
    "from scipy import interpolate\n",
    "from sklearn.preprocessing import normalize\n",
    "\n",
    "# make x and y be a function of t\n",
    "# t is the total distance traveled\n",
    "\n",
    "\n",
    "def get_strokes(path):\n",
    "    root = ET.parse(path).getroot()\n",
    "    strokes = root[1]\n",
    "\n",
    "    #print(\"Strokes\", len(strokes))\n",
    "\n",
    "    stroke_list = []\n",
    "    min_time = float(strokes[0][0].attrib[\"time\"])\n",
    "    last_time = 0\n",
    "    stroke_delay = 0 # time between strokes\n",
    "    start_end_strokes = []\n",
    "    \n",
    "    for stroke in strokes:\n",
    "        x_coords = []\n",
    "        y_coords = []\n",
    "        time_list = []\n",
    "        \n",
    "        for i, point in enumerate(stroke):\n",
    "            #print(\"Points\", len(strokes))\n",
    "            x,y, time = point.attrib[\"x\"], point.attrib[\"y\"], point.attrib[\"time\"]\n",
    "            x_coords.append(int(x))\n",
    "            y_coords.append(-int(y))\n",
    "            \n",
    "            if i==0: # no time passes between strokes!\n",
    "                min_time += float(time)-min_time-last_time-.001\n",
    "                start_end_strokes.append((last_time, float(time)-min_time))\n",
    "\n",
    "            next_time = float(time)-min_time\n",
    "\n",
    "            if time_list and next_time == time_list[-1]:\n",
    "                next_time += .001\n",
    "                assert next_time > time_list[-1]\n",
    "            \n",
    "                \n",
    "            # No repeated times\n",
    "            if time_list and next_time <= time_list[-1]:\n",
    "                next_time = time_list[-1] + .001\n",
    "            \n",
    "                \n",
    "            time_list.append(next_time)\n",
    "        last_time=time_list[-1]\n",
    "        stroke_list.append({\"x\":x_coords, \"y\":y_coords, \"time\":time_list})\n",
    "    return stroke_list, start_end_strokes\n",
    "\n",
    "def convert_strokes(stroke_list):\n",
    "    x, y, time = [], [], []\n",
    "    [x.extend(key[\"x\"]) for key in stroke_list]\n",
    "    [y.extend(key[\"y\"]) for key in stroke_list]\n",
    "    [time.extend(key[\"time\"]) for key in stroke_list]\n",
    "    return np.array(x), np.array(y), np.array(time)\n",
    "\n",
    "def process(time):\n",
    "    total_time = np.max(time) - np.min(time)\n"
   ]
  },
  {
   "cell_type": "code",
   "execution_count": 113,
   "metadata": {},
   "outputs": [],
   "source": [
    "def normalize(my_array):\n",
    "    return ((my_array-np.min(my_array))/(np.max(my_array)-np.min(my_array))-.5)*2\n",
    "\n",
    "def get_gts(path, instances = 50):\n",
    "    stroke_list, start_end_strokes = get_strokes(path)\n",
    "    x,y,time = convert_strokes(stroke_list)\n",
    "\n",
    "    # find dead timezones\n",
    "    # make x and y independently a function of t\n",
    "    time_continuum = np.linspace(np.min(time), np.max(time), instances)\n",
    "    x_func = interpolate.interp1d(time, x)\n",
    "    y_func = interpolate.interp1d(time, y)\n",
    "\n",
    "    for i,t in enumerate(time_continuum):\n",
    "        for lower, upper in start_end_strokes:\n",
    "            if t < lower:\n",
    "                break\n",
    "            if t > lower and t < upper:\n",
    "                t = lower if abs(t-lower)<abs(t-upper) else upper\n",
    "                time_continuum[i] = t\n",
    "                break\n",
    "    return normalize(x_func(time_continuum)), normalize(y_func(time_continuum))\n"
   ]
  },
  {
   "cell_type": "code",
   "execution_count": 114,
   "metadata": {},
   "outputs": [
    {
     "data": {
      "text/plain": [
       "(array([-1.        , -0.98820401, -0.98802347, -0.98380521, -0.90070996,\n",
       "        -0.91806482, -0.85585469, -0.82920331, -0.76193384, -0.76760189,\n",
       "        -0.71580077, -0.68877856, -0.65237018, -0.60204692, -0.57112971,\n",
       "        -0.49682716, -0.45418593, -0.46321773, -0.4126078 , -0.38319895,\n",
       "        -0.37819815, -0.3048843 , -0.13492077, -0.10410237, -0.05857741,\n",
       "        -0.07008551, -0.00229394,  0.2045342 ,  0.23823755,  0.27013675,\n",
       "         0.27025507,  0.3361882 ,  0.38948364,  0.35854569,  0.61867353,\n",
       "         0.60765093,  0.60678239,  0.67839028,  0.73014626,  0.72818961,\n",
       "         0.79927907,  0.82621772,  0.85996926,  0.87382559,  0.87029167,\n",
       "         0.87664101,  0.9204167 ,  0.9712212 ,  0.99606231,  1.        ]),\n",
       " array([ 0.39154597, -0.30345296, -0.15864581,  0.39136734,  0.38231689,\n",
       "        -0.20020641,  0.3481594 , -0.01983259,  0.31860651, -0.27620735,\n",
       "         0.92576053, -0.21151947, -0.06019738,  0.88052814, -0.21280956,\n",
       "        -0.2203119 ,  0.1991148 , -0.28453832,  0.14346745, -0.39491012,\n",
       "         0.0310861 , -0.20301483,  0.25029151, -0.28540169, -0.17808641,\n",
       "        -0.00941763, -0.18751396, -0.27112143,  1.        , -0.52530801,\n",
       "         0.10711185, -0.0552504 , -0.00613287, -0.17390851,  0.08964607,\n",
       "        -0.38744747, -0.93507892, -0.70254593,  0.04135717, -0.58773823,\n",
       "        -0.18993535, -0.06219205, -1.        , -0.3785161 , -0.05899165,\n",
       "        -0.63629507, -0.5202469 , -0.61573309, -0.59972114, -0.08985447]))"
      ]
     },
     "execution_count": 114,
     "metadata": {},
     "output_type": "execute_result"
    }
   ],
   "source": [
    "path = Path(\"/media/taylor/Data/Linux/Github/simple_hwr/data/prepare_online_data/lines-xml/a01-000u-06.xml\")\n",
    "\n",
    "get_gts(path)"
   ]
  },
  {
   "cell_type": "code",
   "execution_count": null,
   "metadata": {},
   "outputs": [],
   "source": []
  },
  {
   "cell_type": "code",
   "execution_count": 112,
   "metadata": {},
   "outputs": [
    {
     "data": {
      "text/plain": [
       "array([-1.        , -0.33333333,  0.33333333,  1.        ])"
      ]
     },
     "execution_count": 112,
     "metadata": {},
     "output_type": "execute_result"
    }
   ],
   "source": []
  },
  {
   "cell_type": "code",
   "execution_count": null,
   "metadata": {},
   "outputs": [],
   "source": []
  }
 ],
 "metadata": {
  "kernelspec": {
   "display_name": "hwr",
   "language": "python",
   "name": "hwr"
  },
  "language_info": {
   "codemirror_mode": {
    "name": "ipython",
    "version": 3
   },
   "file_extension": ".py",
   "mimetype": "text/x-python",
   "name": "python",
   "nbconvert_exporter": "python",
   "pygments_lexer": "ipython3",
   "version": "3.7.3"
  }
 },
 "nbformat": 4,
 "nbformat_minor": 2
}
