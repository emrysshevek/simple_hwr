{
 "cells": [
  {
   "cell_type": "code",
   "execution_count": null,
   "metadata": {},
   "outputs": [],
   "source": [
    "import csv\n",
    "from pathfile import Path\n",
    "path = '/path/to/location'\n",
    "csv_file = Path(path)\n",
    "\n",
    "d = {\"Series\":\"NaturallySlim\", \n",
    "     \"Title\":\"NaturallySlim\", \n",
    "     \"Link\":\"https://students.cs.byu.edu/~tarch/books/NaturallySlim\", \n",
    "     \"Image\":\"https://students.cs.byu.edu/~tarch/books/NaturallySlim/NaturallySlim.jpg\"}\n",
    "\n",
    "with csv_file.open(\"w\") as f:\n",
    "    writer = csv.writer(f)\n",
    "    writer.writerows(d.keys())\n",
    "    for f in loop:\n",
    "        link = d[\"Link\"] + fname_etc\n",
    "        title = d[\"Title\"] + fname\n",
    "        line = series, title, link, d[\"Image\"]\n",
    "        writer.writerows(line)\n",
    "\n"
   ]
  },
  {
   "cell_type": "code",
   "execution_count": null,
   "metadata": {},
   "outputs": [],
   "source": []
  }
 ],
 "metadata": {
  "kernelspec": {
   "display_name": "Python 3",
   "language": "python",
   "name": "python3"
  },
  "language_info": {
   "codemirror_mode": {
    "name": "ipython",
    "version": 3
   },
   "file_extension": ".py",
   "mimetype": "text/x-python",
   "name": "python",
   "nbconvert_exporter": "python",
   "pygments_lexer": "ipython3",
   "version": "3.6.5"
  }
 },
 "nbformat": 4,
 "nbformat_minor": 2
}
