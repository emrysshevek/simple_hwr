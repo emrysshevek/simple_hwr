{
 "cells": [
  {
   "cell_type": "code",
   "execution_count": 257,
   "metadata": {},
   "outputs": [],
   "source": [
    "%reload_ext autoreload\n",
    "%autoreload 2\n",
    "\n",
    "from online_coordinate_parser import *\n",
    "from pathlib import Path\n",
    "import json \n",
    "import cv2\n",
    "import matplotlib.pyplot as plt\n",
    "\n",
    "def normalize(my_array):\n",
    "    \"\"\" Max/min rescale to -1,1 range\n",
    "\n",
    "    Args:\n",
    "        my_array:\n",
    "\n",
    "    Returns:\n",
    "\n",
    "    \"\"\"\n",
    "    for axis in my_array.shape:\n",
    "        ((axis - np.min(axis)) / array_range(axis) - .5) * 2\n",
    "    return my_array\n"
   ]
  },
  {
   "cell_type": "code",
   "execution_count": 340,
   "metadata": {},
   "outputs": [
    {
     "name": "stdout",
     "output_type": "stream",
     "text": [
      "[1035, 1055, 1055, 1057, 1061, 1066, 1071, 1076, 1078, 1083, 1086, 1083, 1086]\n",
      "[965, 960, 968, 994, 1023, 1055, 1094, 1124, 1149, 1162, 1172, 1165, 1156, 1150, 1155, 1164, 1185, 1208, 1228, 1249, 1268, 1279, 1286, 1281, 1269, 1252, 1228, 1199, 1170, 1143, 1121, 1107, 1096]\n",
      "[1363, 1363, 1366, 1370, 1371, 1380, 1387, 1399, 1419, 1442, 1467, 1493, 1510, 1522, 1529, 1537, 1544, 1549, 1551, 1550, 1542, 1528, 1517, 1498, 1471, 1438, 1405, 1371, 1343, 1322, 1314, 1310, 1312, 1314, 1317, 1330, 1348]\n",
      "-1.0 1.0 -1.0 1.0\n"
     ]
    },
    {
     "data": {
      "image/png": "[encoded data removed]",
      "text/plain": [
       "<Figure size 71x71 with 1 Axes>"
      ]
     },
     "metadata": {
      "needs_background": "light"
     },
     "output_type": "display_data"
    }
   ],
   "source": [
    "### USING 5% padding\n",
    "# pad_inches: .05 => 71 dpi\n",
    "# pad_inches: 0 => 68 dpi\n",
    "pad_dpi = {\"padding\":.05, \"dpi\":71}\n",
    "#pad_dpi = {\"padding\":0,   \"dpi\":80}\n",
    "\n",
    "def prep_figure(dpi=71):\n",
    "    plt.figure(figsize=(1, 1), dpi=dpi)\n",
    "    plt.axis('off')\n",
    "    plt.axis('square')\n",
    "    \n",
    "def draw_strokes(stroke_list, x_to_y=1, line_width=None, save_path=\"\"):\n",
    "    #plt.NullFormatter()\n",
    "    if save_path:\n",
    "        prep_figure(pad_dpi[\"dpi\"])\n",
    "    if line_width is None:\n",
    "        linewidth=max(random.gauss(1,.5),.4)\n",
    "    \n",
    "    if x_to_y != 1:\n",
    "        for stroke in stroke_list:\n",
    "            stroke[\"x\"] = [item * x_to_y for item in stroke[\"x\"]]\n",
    "    \n",
    "    for stroke in stroke_list:\n",
    "        plt.plot(stroke[\"x\"], stroke[\"y\"], linewidth=linewidth, color=\"black\")\n",
    "\n",
    "    y_min = min([min(x[\"y\"]) for x in stroke_list])\n",
    "    y_max = max([max(x[\"y\"]) for x in stroke_list])\n",
    "    x_min = min([min(x[\"x\"]) for x in stroke_list])\n",
    "    x_max = max([max(x[\"x\"]) for x in stroke_list])\n",
    "\n",
    "    plt.ylim([y_min, y_max])\n",
    "    plt.xlim([x_min, x_max])\n",
    "    print(y_min, y_max, x_min, x_max)\n",
    "    if save_path:\n",
    "        plt.savefig(save_path, pad_inches=pad_dpi[\"padding\"], bbox_inches='tight')\n",
    "\n",
    "def render_points_on_image(gts, img_path, strokes=None, save_path=None, x_to_y=None):\n",
    "    gts = np.array(gts)\n",
    "    \n",
    "    if not x_to_y is None:\n",
    "        gts[0] *= x_to_y\n",
    "        \n",
    "    \n",
    "    x = gts[0]\n",
    "    y = gts[1]\n",
    "    start_points = gts[2]\n",
    "    \n",
    "    #prep_figure()\n",
    "    if strokes:\n",
    "        draw_strokes(normalize_stroke_list(strokes), x_to_y=x_to_y)\n",
    "    elif img_path:\n",
    "        img_path = Path(img_path)\n",
    "        img = cv2.imread(img_path.as_posix(), cv2.IMREAD_GRAYSCALE)\n",
    "        print(img.shape)\n",
    "        print(img)\n",
    "        img = img[::-1,:]\n",
    "        plt.imshow(img, cmap=\"gray\")\n",
    "        \n",
    "        # Rescale points\n",
    "        factor = 2*pad_dpi[\"padding\"]+1\n",
    "        x = (x + 1) / 2 * 60/factor + pad_dpi[\"padding\"]*60/2\n",
    "        y = (y + 1) / 2 * 60/factor + pad_dpi[\"padding\"]*60/2\n",
    "\n",
    "    x_middle_strokes = x[np.where(start_points==0)]\n",
    "    y_middle_strokes = y[np.where(start_points==0)]\n",
    "    x_start_strokes = x[np.where(start_points==1)]\n",
    "    y_start_strokes = y[np.where(start_points==1)]\n",
    "\n",
    "    plt.scatter(x_middle_strokes,y_middle_strokes, s=4)\n",
    "    plt.scatter(x_start_strokes,y_start_strokes, s=4)\n",
    "    plt.show()\n",
    "    if save_path:\n",
    "        plt.savefig(save_path)\n",
    "\n",
    "\n",
    "def create_dataset(max_strokes=3, square=True, instances=50, output_folder='.', xml_folder=\"../prepare_online_data/line-level-xml\", json_path=\"../prepare_online_data/online_augmentation.json\", img_folder=\"prepare_online_data/lineImages\"):\n",
    "    # Loop through files\n",
    "    # Find image paths\n",
    "    # create dicitonary\n",
    "    json_path = Path(json_path)\n",
    "    xml_folder = Path(xml_folder)\n",
    "    original_img_folder = Path(img_folder)\n",
    "    output_folder = Path(output_folder)\n",
    "    new_img_folder = Path(output_folder) / \"images\"\n",
    "    \n",
    "    new_img_folder.mkdir(exist_ok=True, parents=True)\n",
    "    data_dict = json.load(json_path.open(\"r\"))    \n",
    "    \n",
    "    output_dict = {\"train\":[], \"test\":[]}\n",
    "    \n",
    "    for item in data_dict:\n",
    "        file_name = Path(item[\"image_path\"]).name\n",
    "        rel_path = Path(item[\"image_path\"]).relative_to(original_img_folder).with_suffix(\".xml\")\n",
    "        xml_path = xml_folder / rel_path\n",
    "        gts, stroke_list, x_to_y = get_gts(xml_path, instances=instances, max_stroke_count=max_strokes)\n",
    "        \n",
    "        if item[\"dataset\"] in [\"test\",\"val1\",\"val2\"]:\n",
    "            dataset = \"test\"\n",
    "        else:\n",
    "            dataset = \"train\"\n",
    "        \n",
    "        img_path = (new_img_folder / file_name).as_posix()\n",
    "        new_item = {\"gt\":[gt.tolist() for gt in gts], \n",
    "                    \"full_img_path\": item[\"image_path\"], \n",
    "                    \"xml_path\": xml_path.as_posix(), \n",
    "                    \"dataset\": dataset, \n",
    "                    \"stroke_list\":stroke_list, \n",
    "                    \"x_to_y\":x_to_y,\n",
    "                    \"img_path\":img_path}\n",
    "        output_dict[dataset].append(new_item)\n",
    "        \n",
    "        # Create images\n",
    "        ratio = 1 if square else x_to_y\n",
    "        draw_strokes(normalize_stroke_list(stroke_list), ratio, save_path=img_path)\n",
    "    \n",
    "        \n",
    "        break\n",
    "    json.dump(output_dict[\"train\"], (output_folder / \"train_online_coords.json\").open(\"w\"))\n",
    "    json.dump(output_dict[\"test\"], (output_folder / \"test_online_coords.json\").open(\"w\"))\n",
    "\n",
    "        \n",
    "    return output_dict\n",
    "    \n",
    "output_dict = create_dataset(max_strokes=3, square=True, instances=30, output_folder=\"./3_stroke\")\n"
   ]
  },
  {
   "cell_type": "code",
   "execution_count": 341,
   "metadata": {},
   "outputs": [
    {
     "name": "stdout",
     "output_type": "stream",
     "text": [
      "[1035, 1055, 1055, 1057, 1061, 1066, 1071, 1076, 1078, 1083, 1086, 1083, 1086]\n",
      "[965, 960, 968, 994, 1023, 1055, 1094, 1124, 1149, 1162, 1172, 1165, 1156, 1150, 1155, 1164, 1185, 1208, 1228, 1249, 1268, 1279, 1286, 1281, 1269, 1252, 1228, 1199, 1170, 1143, 1121, 1107, 1096]\n",
      "[1363, 1363, 1366, 1370, 1371, 1380, 1387, 1399, 1419, 1442, 1467, 1493, 1510, 1522, 1529, 1537, 1544, 1549, 1551, 1550, 1542, 1528, 1517, 1498, 1471, 1438, 1405, 1371, 1343, 1322, 1314, 1310, 1312, 1314, 1317, 1330, 1348]\n",
      "-1.0 1.0 -1.05149749483909 1.05149749483909\n"
     ]
    },
    {
     "data": {
      "image/png": "[encoded data removed]",
      "text/plain": [
       "<Figure size 432x288 with 1 Axes>"
      ]
     },
     "metadata": {
      "needs_background": "light"
     },
     "output_type": "display_data"
    }
   ],
   "source": [
    "## Render points on strokes\n",
    "instance = output_dict['train'][0]\n",
    "render_points_on_image(instance['gt'], img_path=instance['img_path'], strokes=instance[\"stroke_list\"], x_to_y=instance[\"x_to_y\"])"
   ]
  },
  {
   "cell_type": "code",
   "execution_count": 342,
   "metadata": {},
   "outputs": [
    {
     "name": "stdout",
     "output_type": "stream",
     "text": [
      "(60, 60)\n",
      "[[255 255 255 ... 255 255 255]\n",
      " [255 255 255 ... 255 255 255]\n",
      " [255 255 255 ... 255 255 255]\n",
      " ...\n",
      " [255 255 255 ... 255 255 255]\n",
      " [255 255 255 ... 255 255 255]\n",
      " [255 255 255 ... 255 255 255]]\n"
     ]
    },
    {
     "data": {
      "image/png": "[encoded data removed]",
      "text/plain": [
       "<Figure size 432x288 with 1 Axes>"
      ]
     },
     "metadata": {
      "needs_background": "light"
     },
     "output_type": "display_data"
    }
   ],
   "source": [
    "## Render points on image\n",
    "\n",
    "render_points_on_image(instance['gt'], img_path=instance['img_path'])"
   ]
  },
  {
   "cell_type": "code",
   "execution_count": 83,
   "metadata": {},
   "outputs": [
    {
     "data": {
      "text/plain": [
       "[50, 50, 50, 50, 50]"
      ]
     },
     "execution_count": 83,
     "metadata": {},
     "output_type": "execute_result"
    }
   ],
   "source": [
    "x = np.array(instance['gt'])\n",
    "[len(m) for m in x]"
   ]
  },
  {
   "cell_type": "code",
   "execution_count": 86,
   "metadata": {},
   "outputs": [
    {
     "data": {
      "text/plain": [
       "array([0.88908817, 0.77899161, 0.47210899])"
      ]
     },
     "execution_count": 86,
     "metadata": {},
     "output_type": "execute_result"
    }
   ],
   "source": [
    "idx = np.where(x[2]==1)\n",
    "x[1][idx]"
   ]
  },
  {
   "cell_type": "code",
   "execution_count": 105,
   "metadata": {},
   "outputs": [
    {
     "name": "stdout",
     "output_type": "stream",
     "text": [
      "[1035, 1055, 1055, 1057, 1061, 1066, 1071, 1076, 1078, 1083, 1086, 1083, 1086]\n",
      "[965, 960, 968, 994, 1023, 1055, 1094, 1124, 1149, 1162, 1172, 1165, 1156, 1150, 1155, 1164, 1185, 1208, 1228, 1249, 1268, 1279, 1286, 1281, 1269, 1252, 1228, 1199, 1170, 1143, 1121, 1107, 1096]\n",
      "[1363, 1363, 1366, 1370, 1371, 1380, 1387, 1399, 1419, 1442, 1467, 1493, 1510, 1522, 1529, 1537, 1544, 1549, 1551, 1550, 1542, 1528, 1517, 1498, 1471, 1438, 1405, 1371, 1343, 1322, 1314, 1310, 1312, 1314, 1317, 1330, 1348]\n"
     ]
    },
    {
     "data": {
      "text/plain": [
       "[{'x': [-0.7461928934010152,\n",
       "   -0.6785109983079527,\n",
       "   -0.6785109983079527,\n",
       "   -0.6717428087986463,\n",
       "   -0.6582064297800339,\n",
       "   -0.6412859560067682,\n",
       "   -0.6243654822335025,\n",
       "   -0.607445008460237,\n",
       "   -0.6006768189509306,\n",
       "   -0.583756345177665,\n",
       "   -0.5736040609137056,\n",
       "   -0.583756345177665,\n",
       "   -0.5736040609137056],\n",
       "  'y': [0.8865248226950355,\n",
       "   0.8120567375886525,\n",
       "   0.7730496453900708,\n",
       "   0.698581560283688,\n",
       "   0.6134751773049645,\n",
       "   0.5283687943262412,\n",
       "   0.44326241134751765,\n",
       "   0.37234042553191493,\n",
       "   0.3156028368794326,\n",
       "   0.25886524822695045,\n",
       "   0.2021276595744681,\n",
       "   0.17375886524822692,\n",
       "   0.13120567375886516]},\n",
       " {'x': [-0.9830795262267343,\n",
       "   -1.0,\n",
       "   -0.9729272419627749,\n",
       "   -0.8849407783417935,\n",
       "   -0.7868020304568528,\n",
       "   -0.6785109983079527,\n",
       "   -0.5465313028764806,\n",
       "   -0.44500846023688667,\n",
       "   -0.36040609137055835,\n",
       "   -0.3164128595600677,\n",
       "   -0.2825719120135364,\n",
       "   -0.3062605752961083,\n",
       "   -0.33671742808798644,\n",
       "   -0.3570219966159053,\n",
       "   -0.3401015228426396,\n",
       "   -0.30964467005076146,\n",
       "   -0.23857868020304573,\n",
       "   -0.16074450084602365,\n",
       "   -0.0930626057529611,\n",
       "   -0.021996615905245376,\n",
       "   0.04230118443316422,\n",
       "   0.07952622673434862,\n",
       "   0.10321489001692052,\n",
       "   0.08629441624365475,\n",
       "   0.045685279187817285,\n",
       "   -0.011844331641285955,\n",
       "   -0.0930626057529611,\n",
       "   -0.19120135363790192,\n",
       "   -0.2893401015228426,\n",
       "   -0.3807106598984772,\n",
       "   -0.455160744500846,\n",
       "   -0.5025380710659899,\n",
       "   -0.5397631133671743],\n",
       "  'y': [0.7659574468085106,\n",
       "   0.7836879432624113,\n",
       "   0.8049645390070923,\n",
       "   0.8404255319148937,\n",
       "   0.8900709219858156,\n",
       "   0.9397163120567376,\n",
       "   0.9645390070921986,\n",
       "   1.0,\n",
       "   0.9893617021276595,\n",
       "   0.9645390070921986,\n",
       "   0.8971631205673758,\n",
       "   0.8262411347517731,\n",
       "   0.7340425531914894,\n",
       "   0.6631205673758864,\n",
       "   0.5957446808510638,\n",
       "   0.553191489361702,\n",
       "   0.5177304964539007,\n",
       "   0.4858156028368794,\n",
       "   0.46808510638297873,\n",
       "   0.4184397163120568,\n",
       "   0.35815602836879434,\n",
       "   0.2943262411347518,\n",
       "   0.2127659574468086,\n",
       "   0.13829787234042556,\n",
       "   0.046099290780141855,\n",
       "   -0.06382978723404253,\n",
       "   -0.16312056737588654,\n",
       "   -0.24113475177304966,\n",
       "   -0.3085106382978723,\n",
       "   -0.32978723404255317,\n",
       "   -0.3085106382978723,\n",
       "   -0.26241134751773054,\n",
       "   -0.1950354609929078]},\n",
       " {'x': [0.3637901861252115,\n",
       "   0.3637901861252115,\n",
       "   0.37394247038917094,\n",
       "   0.38747884940778343,\n",
       "   0.3908629441624365,\n",
       "   0.42131979695431476,\n",
       "   0.44500846023688667,\n",
       "   0.48561759729272413,\n",
       "   0.5532994923857868,\n",
       "   0.6311336717428089,\n",
       "   0.7157360406091371,\n",
       "   0.8037225042301184,\n",
       "   0.8612521150592216,\n",
       "   0.9018612521150593,\n",
       "   0.9255499153976312,\n",
       "   0.9526226734348562,\n",
       "   0.9763113367174281,\n",
       "   0.9932318104906936,\n",
       "   1.0,\n",
       "   0.9966159052453469,\n",
       "   0.9695431472081217,\n",
       "   0.9221658206429779,\n",
       "   0.8849407783417935,\n",
       "   0.8206429780033841,\n",
       "   0.7292724196277496,\n",
       "   0.6175972927241962,\n",
       "   0.505922165820643,\n",
       "   0.3908629441624365,\n",
       "   0.29610829103214886,\n",
       "   0.22504230118443314,\n",
       "   0.19796954314720816,\n",
       "   0.18443316412859567,\n",
       "   0.1912013536379018,\n",
       "   0.19796954314720816,\n",
       "   0.20812182741116758,\n",
       "   0.2521150592216581,\n",
       "   0.31302876480541464],\n",
       "  'y': [0.5106382978723405,\n",
       "   0.4822695035460993,\n",
       "   0.4113475177304964,\n",
       "   0.3085106382978724,\n",
       "   0.20921985815602828,\n",
       "   0.09929078014184389,\n",
       "   0.03191489361702127,\n",
       "   0.0,\n",
       "   -0.007092198581560294,\n",
       "   0.014184397163120588,\n",
       "   0.06028368794326244,\n",
       "   0.09219858156028371,\n",
       "   0.11702127659574457,\n",
       "   0.11702127659574457,\n",
       "   0.09929078014184389,\n",
       "   0.06382978723404253,\n",
       "   -0.0035460992907800915,\n",
       "   -0.1028368794326241,\n",
       "   -0.23404255319148937,\n",
       "   -0.3900709219858156,\n",
       "   -0.5390070921985816,\n",
       "   -0.6595744680851063,\n",
       "   -0.7730496453900709,\n",
       "   -0.8687943262411347,\n",
       "   -0.925531914893617,\n",
       "   -0.9716312056737588,\n",
       "   -1.0,\n",
       "   -1.0,\n",
       "   -0.9609929078014184,\n",
       "   -0.8723404255319149,\n",
       "   -0.7624113475177305,\n",
       "   -0.6347517730496454,\n",
       "   -0.5319148936170213,\n",
       "   -0.46099290780141844,\n",
       "   -0.400709219858156,\n",
       "   -0.36170212765957444,\n",
       "   -0.3191489361702128]}]"
      ]
     },
     "execution_count": 105,
     "metadata": {},
     "output_type": "execute_result"
    }
   ],
   "source": [
    "normalize_stroke_list(instance[\"stroke_list\"])"
   ]
  },
  {
   "cell_type": "code",
   "execution_count": 41,
   "metadata": {},
   "outputs": [
    {
     "data": {
      "text/plain": [
       "(array([ 0,  8, 27]),)"
      ]
     },
     "execution_count": 41,
     "metadata": {},
     "output_type": "execute_result"
    }
   ],
   "source": [
    "np.where(x[2])"
   ]
  },
  {
   "cell_type": "code",
   "execution_count": 48,
   "metadata": {},
   "outputs": [
    {
     "ename": "TypeError",
     "evalue": "list indices must be integers or slices, not list",
     "output_type": "error",
     "traceback": [
      "\u001b[0;31m---------------------------------------------------------------------------\u001b[0m",
      "\u001b[0;31mTypeError\u001b[0m                                 Traceback (most recent call last)",
      "\u001b[0;32m<ipython-input-48-5b8ec2d6ac96>\u001b[0m in \u001b[0;36m<module>\u001b[0;34m\u001b[0m\n\u001b[0;32m----> 1\u001b[0;31m \u001b[0mx\u001b[0m\u001b[0;34m[\u001b[0m\u001b[0;36m1\u001b[0m\u001b[0;34m]\u001b[0m\u001b[0;34m[\u001b[0m\u001b[0mx\u001b[0m\u001b[0;34m[\u001b[0m\u001b[0;36m2\u001b[0m\u001b[0;34m]\u001b[0m\u001b[0;34m]\u001b[0m\u001b[0;34m\u001b[0m\u001b[0;34m\u001b[0m\u001b[0m\n\u001b[0m",
      "\u001b[0;31mTypeError\u001b[0m: list indices must be integers or slices, not list"
     ]
    }
   ],
   "source": [
    "x[1][x[2]]"
   ]
  },
  {
   "cell_type": "code",
   "execution_count": 50,
   "metadata": {},
   "outputs": [
    {
     "data": {
      "text/plain": [
       "list"
      ]
     },
     "execution_count": 50,
     "metadata": {},
     "output_type": "execute_result"
    }
   ],
   "source": []
  },
  {
   "cell_type": "code",
   "execution_count": 264,
   "metadata": {},
   "outputs": [
    {
     "name": "stderr",
     "output_type": "stream",
     "text": [
      "/home/taylor/anaconda3/envs/hw2/lib/python3.7/site-packages/ipykernel_launcher.py:20: RuntimeWarning: invalid value encountered in long_scalars\n"
     ]
    },
    {
     "data": {
      "text/plain": [
       "array([0, 1, 2, 3, 4, 5, 6, 7, 8])"
      ]
     },
     "execution_count": 264,
     "metadata": {},
     "output_type": "execute_result"
    }
   ],
   "source": [
    "normalize(np.array(range(0,9)))"
   ]
  },
  {
   "cell_type": "code",
   "execution_count": 321,
   "metadata": {},
   "outputs": [
    {
     "data": {
      "text/plain": [
       "101.33333333333334"
      ]
     },
     "execution_count": 321,
     "metadata": {},
     "output_type": "execute_result"
    }
   ],
   "source": []
  },
  {
   "cell_type": "code",
   "execution_count": null,
   "metadata": {},
   "outputs": [],
   "source": []
  }
 ],
 "metadata": {
  "kernelspec": {
   "display_name": "hw",
   "language": "python",
   "name": "hw"
  },
  "language_info": {
   "codemirror_mode": {
    "name": "ipython",
    "version": 3
   },
   "file_extension": ".py",
   "mimetype": "text/x-python",
   "name": "python",
   "nbconvert_exporter": "python",
   "pygments_lexer": "ipython3",
   "version": "3.7.3"
  }
 },
 "nbformat": 4,
 "nbformat_minor": 2
}
